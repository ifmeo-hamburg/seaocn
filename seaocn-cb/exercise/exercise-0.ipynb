{
 "cells": [
  {
   "cell_type": "markdown",
   "metadata": {},
   "source": [
    "# Exercise 0 - Git and Python\n",
    "\n",
    "\n",
    "**Aim:** The purpose of this lab is to get git and python working for you.  \n",
    "\n",
    "**Learning outcomes:** At the end of this lab, you will be able to:\n",
    "\n",
    "1. Edit files in your git repository and push them to a remote\n",
    "   \n",
    "2. Open a jupyter notebook on your computer and execute it\n",
    "\n",
    "3. Have a list of steps for how to get jupyter running on your computer, either in the right directory (for this class) or to navigate to the directory\n",
    "\n",
    "4. Have installed some basic packages that we'll be using\n",
    "\n",
    "<hr>\n"
   ]
  },
  {
   "cell_type": "markdown",
   "metadata": {},
   "source": [
    "## Check whether you have git installed.\n",
    "\n",
    "On a Mac or linux, in a terminal window, run\n",
    "\n",
    "```\n",
    "git --version\n",
    "```\n",
    "If it runs, you have git.\n",
    "\n",
    "On Windows, you can possibly find it by searching in the start menu (<-update).\n"
   ]
  },
  {
   "cell_type": "markdown",
   "metadata": {},
   "source": [
    "## If you don't have git, install it\n",
    "\n",
    "Please refer to [Resources: Git and Python](../resource/git).\n",
    "\n",
    "Or see [Installing Git (external)](https://www.linode.com/docs/guides/how-to-install-git-on-linux-mac-and-windows/)\n"
   ]
  },
  {
   "cell_type": "code",
   "execution_count": null,
   "metadata": {},
   "outputs": [],
   "source": [
    "# Import your required packages here\n",
    "import matplotlib.pyplot as plt\n",
    "import numpy as np\n"
   ]
  },
  {
   "cell_type": "markdown",
   "metadata": {},
   "source": [
    "## Clone the course repository\n",
    "\n",
    "Once you have the software installed, you will want to first clone the class repository.  The repositories we use will live on the UHH gitlab server: [https://gitlab.rrz.uni-hamburg.de/ifmeo/teaching/IfM_SeaOcean/uhh-seaocean-2024](https://gitlab.rrz.uni-hamburg.de/ifmeo/teaching/IfM_SeaOcean/uhh-seaocean-2024). Within this folder, there are several individual 'repositories'.  You will want to clone each of them.\n",
    "\n",
    "Each of these is an individual \"repository\":\n",
    "1. Part 1 - Basics - [https://gitlab.rrz.uni-hamburg.de/ifmeo/teaching/IfM_SeaOcean/uhh-seaocean-2024/part-1-basics](https://gitlab.rrz.uni-hamburg.de/ifmeo/teaching/IfM_SeaOcean/uhh-seaocean-2024/part-1-basics)\n",
    "\n",
    "You may need to \"request access\" to the repository.  \n",
    "\n",
    "1. Access the **course group gitlab**: [https://gitlab.rrz.uni-hamburg.de/ifmeo/teaching/ifm-ozmess/ozmess-2024](https://gitlab.rrz.uni-hamburg.de/ifmeo/teaching/ifm-ozmess/ozmess-2024) and select a repository.\n",
    "\n",
    "2. If you are prompted to request access, then do so.  You will need to log in with your B-kennung.\n",
    "\n",
    "Then you need to clone the repository.  For this, have a \n",
    "\n",
    "1. A browswer window open (edge, chrome, safari, firefox, etc) and navigate to the **group gitlab**.  \n",
    "\n",
    "2. Github desktop (purple)\n",
    "\n",
    "Decide where on your computer you want these folders to live.  If you don't specify, the default is something like `Documents\\GitHub\\lab-2-Salinity-accuracy-and-precision`.  \n",
    "\n",
    "1a. In Github desktop, select \"clone a repository\", and click the \"URL\" at the right.\n",
    "\n",
    "2a.  In the browser window, select the address of the repository you would like to clone first.  Copy this address (starting with https:)\n",
    "\n",
    "1b. In Github desktop, past the URL of the repository into the first text box.  The second text box will auto-populate with a location on your computer.  If you'd like to change this from default, use the button to the right to pick where these will live.  Click \"ok\" or \"next\".  *Authentication will fail.* Kein problem.\n",
    "\n",
    "2b. In the browswer window on the chosen repository (must match the one you used in the previous step), click on \"settings\" at the bottom of the list to the left.  Choose \"Access tokens\".  Near the top right, click \"Add new token\".  Give it a name (maybe your name).  Choose an expiration date at least 1 month in the future but no more than 12 months into the future.  Select a role \"maintainer\".  Scroll down over all the choices and click \"create project access token\".  In the green bar that appears, click the \"clipboard\" button to copy this token.\n",
    "\n",
    "1c.  In Github desktop, enter your B-kennung in the top text bar \"username\", but for \"password\" paste the access token that you just copied.  Click \"next\".\n",
    "\n",
    "You should now have cloned the repository.  Check that the repository (which may be an empty folder) lives on your computer.  \n",
    "\n",
    "**Repeat this step for the other course repositories.**\n",
    "\n",
    "# Super-brief explanation of git\n",
    "\n",
    "Git is keeping track of changes to your files within the local repository (your copy of the course folder on your computer).  When you change a file in the folder, git knows.  How do you know it knows?  If you go into your Github desktop (purple icon, desktop app) and choose the repository you're working in in the dropdown menu on the left, and you have changed a file, the filename  for the file with changes will appear in a list, and to the right you can preview the changes that have been made (previous commit and current edited version).  \n",
    "\n",
    "After you've been working on a file for a while (a day, an hour, 5 minutes, etc), e.g. a piece of code in your repository on your computer, and you've made some important changes, you will want to tell git to save a snapshot of these changes.  To do this you click **commit** in Github desktop.  This will then make git store a version according to the point in time when you clicked commit.  *Advanced tip: in the commit message, you can write something useful to describe the changes, like \"added a new function to load data from a microcat\".*  So far, only your own computer knows about these changes.\n",
    "\n",
    "When you want to share these changes with your group, i.e. have these changes show up in the repository on the gitlab.rrz.uni-hamburg.de location, then you need to **push** the changes.  This is a button to the right in your Github desktop (or top right), where you click.  This will then make the changes appear in the online copy of the repository.\n",
    "\n",
    "When your group member has made changes, and you want these changes to appear in your copy of the code on your own computer, then you need to **fetch** these changes from the version on gitlab.rrz.uni-hamburg.de.  This will not overwrite any of your files.  It will simply add what they have done.\n",
    "\n",
    "**Note:** For beginner usage, I recommend that you all keep a separate copy of your python code to start with.  If you work on the same piece of code, it's possible for you to delete something and commit it to your repository (on your own computer), and for someone else to edit the same thing without deleting it and commit it on their own computer.  If you both then push these changes to the repository, or you fetch your colleagues changes from the online repository onto your computer, you will get a **conflict** which needs to be merged manually.\n",
    "\n",
    "Read more: [https://git-scm.com/book/en/v2/Getting-Started-What-is-Git%3F](https://git-scm.com/book/en/v2/Getting-Started-What-is-Git%3F)\n",
    "\n"
   ]
  },
  {
   "cell_type": "code",
   "execution_count": 4,
   "metadata": {},
   "outputs": [],
   "source": [
    "# Choose a site and load the data\n",
    "\n",
    "\n"
   ]
  },
  {
   "cell_type": "markdown",
   "metadata": {},
   "source": [
    "## Where is your site?\n",
    "\n",
    "Determine the latitude and longitude from the variables you've loaded."
   ]
  },
  {
   "cell_type": "code",
   "execution_count": 3,
   "metadata": {},
   "outputs": [],
   "source": [
    "# Locating the site"
   ]
  },
  {
   "cell_type": "markdown",
   "metadata": {},
   "source": [
    "### Fig 1. Make a map\n",
    "\n",
    "Plot your site location using the `plt` command from `matplotlib`.  This command takes two inputs, in this case the x- and y-locations.  \n",
    "\n",
    "- Experiment with optional additional inputs to change the symbol used for plotting (e.g., a circle or an x).\n",
    "\n",
    "- To add context, add the coastlines to the figure.  First load the coastlines file, and then add another plot to your figure.\n",
    "\n",
    "- Give the axes meaningful labels on the x- and y-axis (e.g., Longitude and Latitude).\n",
    "\n",
    "- Make the coastlines thicker so they are easier to see.\n",
    "\n",
    "- Use the `fontsize` option to increase the size of the font on the x- and y-annotations.\n",
    "\n",
    "- Export the figure into a `*.png` format.  Name it `lab1_figure1.png`.\n"
   ]
  },
  {
   "cell_type": "code",
   "execution_count": null,
   "metadata": {},
   "outputs": [],
   "source": [
    "# Making a map"
   ]
  },
  {
   "cell_type": "markdown",
   "metadata": {},
   "source": [
    "### Fig 2. Plot a time series\n",
    "\n",
    "Plot the time series in red, using the time vector as the first input to the `plt` command and the sea surface temperature as the second input.\n",
    "\n",
    "- What did you enter in the command window?\n",
    "\n",
    "- Calculate the mean of the sea surface temperature time series.  What is the mean?\n",
    "\n",
    "- Add the mean to the plot as a horizontal line\n",
    "\n",
    "- Add a legend to the plot with names for the data\n",
    "\n",
    "- Check the x-axis labels and experiment with replotting with time in another format.\n",
    "\n",
    "- Export the figure as `lab1_figure2.png`.\n",
    "\n",
    "```{seealso}\n",
    "[Datacamp: Line plots with multiple lines](https://www.datacamp.com/tutorial/matplotlib-tutorial-python?utm_source=google&utm_medium=paid_search&utm_campaignid=19589720818&utm_adgroupid=157156373751&utm_device=c&utm_keyword=&utm_matchtype=&utm_network=g&utm_adpostion=&utm_creative=691747307008&utm_targetid=dsa-2218886984100&utm_loc_interest_ms=&utm_loc_physical_ms=9061056&utm_content=&utm_campaign=230119_1-sea~dsa~tofu_2-b2c_3-eu_4-prc_5-na_6-na_7-le_8-pdsh-go_9-na_10-na_11-na-feb24&gad_source=1&gclid=CjwKCAjwte-vBhBFEiwAQSv_xXfFxBtd2VQDuYFYjE_oxEoteuw3LBK0epaNxiE3fLomsPbAZeyD4BoCKQwQAvD_BwE)\n",
    "```"
   ]
  },
  {
   "cell_type": "code",
   "execution_count": 5,
   "metadata": {},
   "outputs": [],
   "source": [
    "# Plotting a time series"
   ]
  },
  {
   "cell_type": "markdown",
   "metadata": {},
   "source": [
    "### Temporal coverage and resolution\n",
    "\n",
    "- What time period do your data span?\n",
    "\n",
    "- Determine the start date more accurately by extracting the first time point from your dataset.\n",
    "\n",
    "    When do the data start?\n",
    "\n",
    "- What is the temporal resolution of the data (aka, how far apart are successive measurements in time)?  This can be determined a number of ways.\n",
    "\n",
    "    - print the first 3 elements of the time vector \n",
    "    - plot a few time dates to the screen\n",
    "    - Calculate the difference between successive time measurements using the diff command\n",
    "\n",
    "    What is the temporal resolution of the data?\n"
   ]
  },
  {
   "cell_type": "code",
   "execution_count": null,
   "metadata": {},
   "outputs": [],
   "source": [
    "# Determine temporal coverage and resolution"
   ]
  },
  {
   "cell_type": "markdown",
   "metadata": {},
   "source": [
    "### Characterise the data\n",
    "\n",
    "- Calculate the median of the data\n",
    "\n",
    "- Calculate the standard deviation of the data\n",
    "\n",
    "- Calculate the maximum of the data\n",
    "\n",
    "- Calculate the minimum of the data\n",
    "\n",
    "- What is the range of the data (max minus min)"
   ]
  },
  {
   "cell_type": "code",
   "execution_count": null,
   "metadata": {},
   "outputs": [],
   "source": [
    "# Basic statistics"
   ]
  },
  {
   "cell_type": "markdown",
   "metadata": {},
   "source": [
    "### Fig 3. Data distribution\n",
    "\n",
    "- Using `plt.bar()`, create a histogram of the sea surface temperature data.\n",
    "\n",
    "- Add a vertical line to show where the median is.\n",
    "\n",
    "- Add appropriate x- and y-axis labels.  Make the fontsize legible.\n",
    "\n",
    "- Export the figure as `lab1_figure3.png`.\n",
    "\n",
    "```{seealso}\n",
    "[Datacamp: Drawing bar plots](https://www.datacamp.com/tutorial/matplotlib-tutorial-python?utm_source=google&utm_medium=paid_search&utm_campaignid=19589720818&utm_adgroupid=157156373751&utm_device=c&utm_keyword=&utm_matchtype=&utm_network=g&utm_adpostion=&utm_creative=691747307008&utm_targetid=dsa-2218886984100&utm_loc_interest_ms=&utm_loc_physical_ms=9061056&utm_content=&utm_campaign=230119_1-sea~dsa~tofu_2-b2c_3-eu_4-prc_5-na_6-na_7-le_8-pdsh-go_9-na_10-na_11-na-feb24&gad_source=1&gclid=CjwKCAjwte-vBhBFEiwAQSv_xXfFxBtd2VQDuYFYjE_oxEoteuw3LBK0epaNxiE3fLomsPbAZeyD4BoCKQwQAvD_BwE)\n",
    "```\n"
   ]
  },
  {
   "cell_type": "code",
   "execution_count": 6,
   "metadata": {},
   "outputs": [],
   "source": [
    "# Data distribution"
   ]
  }
 ],
 "metadata": {
  "kernelspec": {
   "display_name": "Python 3",
   "language": "python",
   "name": "python3"
  },
  "language_info": {
   "codemirror_mode": {
    "name": "ipython",
    "version": 3
   },
   "file_extension": ".py",
   "mimetype": "text/x-python",
   "name": "python",
   "nbconvert_exporter": "python",
   "pygments_lexer": "ipython3",
   "version": "3.8.19"
  },
  "widgets": {
   "application/vnd.jupyter.widget-state+json": {
    "state": {},
    "version_major": 2,
    "version_minor": 0
   }
  }
 },
 "nbformat": 4,
 "nbformat_minor": 4
}
