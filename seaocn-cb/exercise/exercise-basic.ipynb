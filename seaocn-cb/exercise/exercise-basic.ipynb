{
 "cells": [
  {
   "cell_type": "markdown",
   "metadata": {},
   "source": [
    "# Exercise 2 - Basics\n",
    "\n",
    "*Loading, plotting and exporting figures* \n",
    "\n",
    "**Aim:** The purpose of this lab is to get you started with loading netCDF files, making figures and exporting figures to `*.png` files in Python.\n",
    "\n",
    "**Learning outcomes:** At the end of this lab, you will be able to:\n",
    "\n",
    "1. Load `nc`-files\n",
    "\n",
    "2. Make a variety of figures including:\n",
    "- a map (with coastlines marked)\n",
    "- multiple line plots (time series) on a single axis\n",
    "as well as annotate the figures and alter the colors and symbols used.\n",
    "\n",
    "3. **Important:** The figures should be legible when shrunk to the quarter of an A4 size of paper.\n",
    "\n",
    "3. Evaluate code in an `*.ipynb` file, use *comments*.\n",
    "\n",
    "4. Export figures in `*.png` format.\n",
    "\n",
    "5. Use python libraries including: `matplotlib`, `xarray`\n",
    "\n",
    "**Data:** You will download data from [ICDC](https://www.cen.uni-hamburg.de/en/icdc/data/ocean.html).\n",
    "\n",
    "**Directions:** Answer the questions. You will also create a git repository with your code and 3 figures.\n",
    "\n",
    "<hr>\n"
   ]
  },
  {
   "cell_type": "markdown",
   "metadata": {},
   "source": [
    "## Import necessary packages.  \n",
    "\n",
    "For example, `matplotlib`, `pandas`, `numpy` and `xarray`.  You may also need\n",
    "```\n",
    "from datetime import datetime\n",
    "```\n",
    "\n",
    "Note there are conventions for short forms of common python packages.  These are shown below.\n",
    "\n",
    "If you are missing any of these packages, please refer to [Resources: Python](../resource/python).\n"
   ]
  },
  {
   "cell_type": "code",
   "execution_count": 1,
   "metadata": {},
   "outputs": [],
   "source": [
    "# Import your required packages here\n",
    "import matplotlib.pyplot as plt\n",
    "import numpy as np\n",
    "import pandas as pd\n",
    "import xarray as xr\n"
   ]
  },
  {
   "cell_type": "markdown",
   "metadata": {},
   "source": [
    "## Pick a month and year\n",
    "\n",
    "between 1982 and last year.  \n",
    "\n",
    "Download a map of the monthly-averaged OISST from ICDC here: [https://www.cen.uni-hamburg.de/en/icdc/data/ocean/sst-reynolds.html](https://www.cen.uni-hamburg.de/en/icdc/data/ocean/sst-reynolds.html).  It should be in `*.nc` format.\n",
    "\n",
    "Put it in a sub-directory of the directory where this `*.ipynb` file is located on your computer.  I suggest calling this `data/`.  \n",
    "\n",
    "\n"
   ]
  },
  {
   "cell_type": "code",
   "execution_count": null,
   "metadata": {},
   "outputs": [],
   "source": [
    "# File name and path\n"
   ]
  },
  {
   "cell_type": "markdown",
   "metadata": {},
   "source": [
    "## Load the data\n",
    "\n",
    "Import the dataset for the side you've selected.  Use the `print` command to see what has been loaded into your workspace.\n",
    "\n",
    "**Comment the code**.  Preceding a line of code, add a comment in plain language to describe what the line of code is doing.\n",
    "\n",
    "Note that comments in python are anything following the hash `#` symbol.\n",
    "\n",
    "```{seealso}\n",
    "See [How to use a python comment (external)](https://www.coursera.org/tutorials/python-comment?utm_medium=sem&utm_source=gg&utm_campaign=B2C_EMEA__coursera_FTCOF_career-academy_pmax-multiple-audiences-country-multi&campaignid=20858198824&adgroupid=&device=c&keyword=&matchtype=&network=x&devicemodel=&adposition=&creativeid=&hide_mobile_promo&gad_source=1&gclid=CjwKCAjwte-vBhBFEiwAQSv_xWfTbvEVGHJFclnneF5umIjP7dejb-zEN01wFFl_-1YPkdHnvzyElRoCYSgQAvD_BwE) for more information.\n",
    "```\n"
   ]
  },
  {
   "cell_type": "code",
   "execution_count": 4,
   "metadata": {},
   "outputs": [],
   "source": [
    "# Choose a site and load the data\n",
    "\n",
    "\n"
   ]
  },
  {
   "cell_type": "markdown",
   "metadata": {},
   "source": [
    "## Where is your site?\n",
    "\n",
    "Determine the latitude and longitude from the variables you've loaded."
   ]
  },
  {
   "cell_type": "code",
   "execution_count": 3,
   "metadata": {},
   "outputs": [],
   "source": [
    "# Locating the site"
   ]
  },
  {
   "cell_type": "markdown",
   "metadata": {},
   "source": [
    "### Fig 1. Make a map\n",
    "\n",
    "Plot your site location using the `plt` command from `matplotlib`.  This command takes two inputs, in this case the x- and y-locations.  \n",
    "\n",
    "- Experiment with optional additional inputs to change the symbol used for plotting (e.g., a circle or an x).\n",
    "\n",
    "- To add context, add the coastlines to the figure.  First load the coastlines file, and then add another plot to your figure.\n",
    "\n",
    "- Give the axes meaningful labels on the x- and y-axis (e.g., Longitude and Latitude).\n",
    "\n",
    "- Make the coastlines thicker so they are easier to see.\n",
    "\n",
    "- Use the `fontsize` option to increase the size of the font on the x- and y-annotations.\n",
    "\n",
    "- Export the figure into a `*.png` format.  Name it `lab1_figure1.png`.\n"
   ]
  },
  {
   "cell_type": "code",
   "execution_count": null,
   "metadata": {},
   "outputs": [],
   "source": [
    "# Making a map"
   ]
  },
  {
   "cell_type": "markdown",
   "metadata": {},
   "source": [
    "### Fig 2. Plot a time series\n",
    "\n",
    "Plot the time series in red, using the time vector as the first input to the `plt` command and the sea surface temperature as the second input.\n",
    "\n",
    "- What did you enter in the command window?\n",
    "\n",
    "- Calculate the mean of the sea surface temperature time series.  What is the mean?\n",
    "\n",
    "- Add the mean to the plot as a horizontal line\n",
    "\n",
    "- Add a legend to the plot with names for the data\n",
    "\n",
    "- Check the x-axis labels and experiment with replotting with time in another format.\n",
    "\n",
    "- Export the figure as `lab1_figure2.png`.\n",
    "\n",
    "```{seealso}\n",
    "[Datacamp: Line plots with multiple lines](https://www.datacamp.com/tutorial/matplotlib-tutorial-python?utm_source=google&utm_medium=paid_search&utm_campaignid=19589720818&utm_adgroupid=157156373751&utm_device=c&utm_keyword=&utm_matchtype=&utm_network=g&utm_adpostion=&utm_creative=691747307008&utm_targetid=dsa-2218886984100&utm_loc_interest_ms=&utm_loc_physical_ms=9061056&utm_content=&utm_campaign=230119_1-sea~dsa~tofu_2-b2c_3-eu_4-prc_5-na_6-na_7-le_8-pdsh-go_9-na_10-na_11-na-feb24&gad_source=1&gclid=CjwKCAjwte-vBhBFEiwAQSv_xXfFxBtd2VQDuYFYjE_oxEoteuw3LBK0epaNxiE3fLomsPbAZeyD4BoCKQwQAvD_BwE)\n",
    "```"
   ]
  },
  {
   "cell_type": "code",
   "execution_count": 5,
   "metadata": {},
   "outputs": [],
   "source": [
    "# Plotting a time series"
   ]
  },
  {
   "cell_type": "markdown",
   "metadata": {},
   "source": [
    "### Temporal coverage and resolution\n",
    "\n",
    "- What time period do your data span?\n",
    "\n",
    "- Determine the start date more accurately by extracting the first time point from your dataset.\n",
    "\n",
    "    When do the data start?\n",
    "\n",
    "- What is the temporal resolution of the data (aka, how far apart are successive measurements in time)?  This can be determined a number of ways.\n",
    "\n",
    "    - print the first 3 elements of the time vector \n",
    "    - plot a few time dates to the screen\n",
    "    - Calculate the difference between successive time measurements using the diff command\n",
    "\n",
    "    What is the temporal resolution of the data?\n"
   ]
  },
  {
   "cell_type": "code",
   "execution_count": null,
   "metadata": {},
   "outputs": [],
   "source": [
    "# Determine temporal coverage and resolution"
   ]
  },
  {
   "cell_type": "markdown",
   "metadata": {},
   "source": [
    "### Characterise the data\n",
    "\n",
    "- Calculate the median of the data\n",
    "\n",
    "- Calculate the standard deviation of the data\n",
    "\n",
    "- Calculate the maximum of the data\n",
    "\n",
    "- Calculate the minimum of the data\n",
    "\n",
    "- What is the range of the data (max minus min)"
   ]
  },
  {
   "cell_type": "code",
   "execution_count": null,
   "metadata": {},
   "outputs": [],
   "source": [
    "# Basic statistics"
   ]
  },
  {
   "cell_type": "markdown",
   "metadata": {},
   "source": [
    "### Fig 3. Data distribution\n",
    "\n",
    "- Using `plt.bar()`, create a histogram of the sea surface temperature data.\n",
    "\n",
    "- Add a vertical line to show where the median is.\n",
    "\n",
    "- Add appropriate x- and y-axis labels.  Make the fontsize legible.\n",
    "\n",
    "- Export the figure as `lab1_figure3.png`.\n",
    "\n",
    "```{seealso}\n",
    "[Datacamp: Drawing bar plots](https://www.datacamp.com/tutorial/matplotlib-tutorial-python?utm_source=google&utm_medium=paid_search&utm_campaignid=19589720818&utm_adgroupid=157156373751&utm_device=c&utm_keyword=&utm_matchtype=&utm_network=g&utm_adpostion=&utm_creative=691747307008&utm_targetid=dsa-2218886984100&utm_loc_interest_ms=&utm_loc_physical_ms=9061056&utm_content=&utm_campaign=230119_1-sea~dsa~tofu_2-b2c_3-eu_4-prc_5-na_6-na_7-le_8-pdsh-go_9-na_10-na_11-na-feb24&gad_source=1&gclid=CjwKCAjwte-vBhBFEiwAQSv_xXfFxBtd2VQDuYFYjE_oxEoteuw3LBK0epaNxiE3fLomsPbAZeyD4BoCKQwQAvD_BwE)\n",
    "```\n"
   ]
  },
  {
   "cell_type": "code",
   "execution_count": 6,
   "metadata": {},
   "outputs": [],
   "source": [
    "# Data distribution"
   ]
  }
 ],
 "metadata": {
  "kernelspec": {
   "display_name": "Python [conda env:root]",
   "language": "python",
   "name": "conda-root-py"
  },
  "language_info": {
   "codemirror_mode": {
    "name": "ipython",
    "version": 3
   },
   "file_extension": ".py",
   "mimetype": "text/x-python",
   "name": "python",
   "nbconvert_exporter": "python",
   "pygments_lexer": "ipython3",
   "version": "3.9.5"
  },
  "widgets": {
   "application/vnd.jupyter.widget-state+json": {
    "state": {},
    "version_major": 2,
    "version_minor": 0
   }
  }
 },
 "nbformat": 4,
 "nbformat_minor": 4
}
