{
 "cells": [
  {
   "cell_type": "markdown",
   "metadata": {},
   "source": [
    "# Exercise 2$^+$  Fitting\n",
    "\n",
    "*Loading, plotting and exporting figures* \n",
    "\n",
    "**Aim:** The purpose of this lab is to get you started with elementary time series analysis: fitting a trend and a polynomial to a time series.\n",
    "\n",
    "**Learning outcomes:** At the end of this lab, you will be able to:\n",
    "1. Calculate a linear trend given a time series, and determine its slope and y-offset.\n",
    "2. Calculate a polynomial fit to the time series, and determine the acceleration.\n",
    "3. Gain basic familiarity with Python `xarray` data arrays, and familiarity with indices and NaNs.\n",
    "<!--4. Use the functions including: nanmean, detrend, polyfit, polyval, disp, grid, find, isnan, sqrt, and the operators ==, ~ and .^2.-->\n",
    "\n",
    "**Data:** You will work with the time series of carbon dioxide concentration from the Mauna Loa site.\n",
    "\n",
    "**Directions:** Answer the questions, create an `*.ipynb` and one figure.\n",
    "<hr>"
   ]
  },
  {
   "cell_type": "markdown",
   "metadata": {},
   "source": [
    "## Create a notebook\n",
    "\n",
    "Create an `*.ipynb` containing the commands for this assignment, or copy this file.  Name it something useful `ex2-fitting-seaocn.ipynb`\n"
   ]
  },
  {
   "cell_type": "markdown",
   "metadata": {},
   "source": [
    "## Import necessary packages.  \n",
    "\n",
    "For example, `matplotlib` and `pandas` and `numpy` and `xarray`.  You may also need\n",
    "```\n",
    "import matplotlib.pyplot as plt\n",
    "import pandas as pd\n",
    "import numpy as np\n",
    "import xarray as xr\n",
    "from datetime import datetime\n",
    "```\n",
    "\n",
    "If you are missing any of these packages, please refer to [Resources: Python](../resource/python).\n"
   ]
  },
  {
   "cell_type": "code",
   "execution_count": 2,
   "metadata": {},
   "outputs": [],
   "source": [
    "# Importing required packages here\n",
    "import matplotlib.pyplot as plt\n",
    "import numpy as np\n"
   ]
  },
  {
   "cell_type": "markdown",
   "metadata": {},
   "source": [
    "### Load the data\n",
    "\n",
    "The data are in a netCDF file.  netCDF is a common file format for oceanographic and climate data.  They can be handled several ways, but `xarray` has a number of convenient features.\n",
    "\n",
    "```\n",
    "import xarray as xr\n",
    "```\n",
    "\n",
    "**Working with data arrays.**  Use the `print` command to see what is in your data array.  A data array is a bit like a file folder, with different variable types in it.\n",
    "\n",
    "\n",
    "```{seealso}\n",
    "The [xarray user guide (external)](https://docs.xarray.dev/en/stable/user-guide/index.html), especially for this lab on\n",
    "- [Data structures](https://docs.xarray.dev/en/stable/user-guide/data-structures.html)\n",
    "- [Indexing and selecting data](https://docs.xarray.dev/en/stable/user-guide/indexing.html)\n",
    "```\n"
   ]
  },
  {
   "cell_type": "code",
   "execution_count": 4,
   "metadata": {},
   "outputs": [],
   "source": [
    "# Loading the data\n",
    "\n",
    "\n"
   ]
  },
  {
   "cell_type": "markdown",
   "metadata": {},
   "source": [
    "### Fig 1. Time series\n",
    "\n",
    "Here you will plot the Maona Loa time series of CO2.  Plot the CO2 data against time.  \n",
    "\n",
    "Note that some of the data are invalid, which is given by the value -99.99.  Replace these with `NaNs` using indexing.\n",
    "\n",
    "- How many invalid values were there?\n",
    "\n",
    "Replot the time series.  Try adding a grid using `plt.grid()`.  Now try adding only horizontal grid lines.  Try reformating the x-axis labels.  \n",
    "\n",
    "- Save the figure as `ex2fig1-seaocn-LastName.png`.\n"
   ]
  },
  {
   "cell_type": "code",
   "execution_count": 3,
   "metadata": {},
   "outputs": [],
   "source": [
    "# Making a time series plot"
   ]
  },
  {
   "cell_type": "markdown",
   "metadata": {},
   "source": [
    "### Explore the data\n",
    "\n",
    "- What is the mean of the data?  \n",
    "\n",
    "```{seealso}\n",
    "[xarray: Computation](https://docs.xarray.dev/en/stable/user-guide/computation.html)\n",
    "```\n",
    "\n",
    "- What is the max?\n",
    "\n",
    "- What is the min?\n",
    "\n",
    "- How many years long is the record?\n",
    "\n",
    "- How quickly (in ppm/yr) is the concentration of CO2 increasing?  Approximate, using your answers above.\n"
   ]
  },
  {
   "cell_type": "code",
   "execution_count": 5,
   "metadata": {},
   "outputs": [],
   "source": [
    "# Basic statistics"
   ]
  },
  {
   "cell_type": "markdown",
   "metadata": {},
   "source": [
    "### Fig 2. Annual cycle\n",
    "\n",
    "- Extract the January data from the time series.  See how in [xarray: Time series data](https://docs.xarray.dev/en/stable/user-guide/time-series.html).  \n",
    "\n",
    "- Calculate the mean for January\n",
    "\n",
    "- Write a loop to calculate this for each month, January through December\n",
    "\n",
    "- Store these values into a new data array with a variable length of 12.\n",
    "\n",
    "- Plot the seasonal cycle, calculated as monthly averages, in a new figure.  Save this figure as `ex2fig2-seaocn-LastName.png`."
   ]
  },
  {
   "cell_type": "code",
   "execution_count": null,
   "metadata": {},
   "outputs": [],
   "source": [
    "# Calculate an annual cycle"
   ]
  },
  {
   "cell_type": "markdown",
   "metadata": {},
   "source": [
    "### Fitting a trend\n",
    "\n",
    "- Find a line of best fit to the original data.  Read how to use the function [xarray.Dataset.polyfit](https://docs.xarray.dev/en/stable/generated/xarray.Dataset.polyfit.html).  You should use the time dimension as your coordinate along which to fit the 1st degree polynomial (a line).  \n",
    "\n",
    "- What is the slope of the line?\n",
    "\n",
    "- Convert this to units of ppm/year.\n",
    "\n",
    "  *Question for thought:* How does this compare to the slope you calculated above?\n",
    "\n",
    "- Using your linear regression, what CO_2 concentration would you predict in 1960?  Use the function [xarray.polyval](https://docs.xarray.dev/en/stable/generated/xarray.polyval.html#xarray.polyval) to compute this.\n",
    "\n",
    "- What is the true value in 1960?  Use `xarray` functions to extract the year of 1960 and calculate an average over that year.\n",
    "\n",
    "- Add the line of best fit to your original plot of the full dataset (or replot here).\n",
    "\n",
    "\n",
    "- Now fit a polynomial of degree 2 (a quadratic).  Recall that a 1st order polynomial has the form\n",
    "\n",
    "  $$Ax + B$$\n",
    "\n",
    "  where $A$ is the slope.  A second degree polynomial has the form\n",
    "\n",
    "  $$Ax^2 + Bx + C$$\n",
    "\n",
    "  where $A$ is the acceleration.  What are the units on $A$?\n",
    "\n",
    "- Add this polynomial as a third curve."
   ]
  },
  {
   "cell_type": "code",
   "execution_count": null,
   "metadata": {},
   "outputs": [],
   "source": [
    "# Fitting a trend "
   ]
  },
  {
   "cell_type": "code",
   "execution_count": null,
   "metadata": {},
   "outputs": [],
   "source": [
    "# Fitting a polynomial"
   ]
  },
  {
   "cell_type": "markdown",
   "metadata": {},
   "source": [
    "- **Clean up the plot.**  This means, add a legend, axes labels, fix the time axis annotations if needed, and fix the fontsize to be legible even if the figure is small.\n",
    "\n",
    "```{note}\n",
    "In future exercises, you will be expected to clean up all plots without reminders.  All plots should have axes labelled (with units!), legible font size (bigger than you think) and appropriate axis ranges.  Legends should be used whenever more than one quantity is plotted.\n",
    "```\n",
    "\n",
    "- Save the figure as `ex2fig1-seaocn-LastName.png`, overwriting your first version.\n",
    "\n"
   ]
  },
  {
   "cell_type": "code",
   "execution_count": 6,
   "metadata": {},
   "outputs": [],
   "source": [
    "# Clean plot"
   ]
  }
 ],
 "metadata": {
  "kernelspec": {
   "display_name": "Python [conda env:seaocn_env] *",
   "language": "python",
   "name": "conda-env-seaocn_env-py"
  },
  "language_info": {
   "codemirror_mode": {
    "name": "ipython",
    "version": 3
   },
   "file_extension": ".py",
   "mimetype": "text/x-python",
   "name": "python",
   "nbconvert_exporter": "python",
   "pygments_lexer": "ipython3",
   "version": "3.11.8"
  },
  "widgets": {
   "application/vnd.jupyter.widget-state+json": {
    "state": {},
    "version_major": 2,
    "version_minor": 0
   }
  }
 },
 "nbformat": 4,
 "nbformat_minor": 4
}
