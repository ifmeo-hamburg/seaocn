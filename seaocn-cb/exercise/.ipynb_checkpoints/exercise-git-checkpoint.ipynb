{
 "cells": [
  {
   "cell_type": "markdown",
   "metadata": {},
   "source": [
    "# Exercise 1 - Git and Python\n",
    "\n",
    "\n",
    "**Aim:** The purpose of this lab is to get git and python working for you.  \n",
    "\n",
    "**Learning outcomes:** At the end of this lab, you will be able to:\n",
    "\n",
    "1. Edit files in your git repository and push them to a remote\n",
    "   \n",
    "2. Open a jupyter notebook on your computer and execute it\n",
    "\n",
    "3. Have a list of steps for how to get jupyter running on your computer, either in the right directory (for this class) or to navigate to the directory\n",
    "\n",
    "4. Have installed some basic packages that we'll be using\n",
    "\n",
    "<hr>\n"
   ]
  },
  {
   "cell_type": "markdown",
   "metadata": {},
   "source": [
    "## Check whether you have git installed.\n",
    "\n",
    "On a Mac or linux, in a terminal window, run\n",
    "\n",
    "```\n",
    "git --version\n",
    "```\n",
    "If it runs, you have git.\n",
    "\n",
    "On Windows, you can possibly find it by searching in the start menu (<-update).\n"
   ]
  },
  {
   "cell_type": "markdown",
   "metadata": {},
   "source": [
    "## If you don't have git, install it\n",
    "\n",
    "Please refer to [Resources: Git and Python](../resource/git).\n",
    "\n",
    "Or see [Installing Git (external)](https://www.linode.com/docs/guides/how-to-install-git-on-linux-mac-and-windows/)\n"
   ]
  },
  {
   "cell_type": "markdown",
   "metadata": {},
   "source": [
    "## Clone the course repository\n",
    "\n",
    "```{note}\n",
    "The instructions below assume you are using GitHub desktop which is a desktop application for interacting with any online git (i.e., you do not need a github account.)  See also [Resources: Git and Python](../resource/git) for installation of GitHub desktop.\n",
    "```\n",
    "\n",
    "Once you have the software installed, you will want to first clone the class repository.  The repositories we use will live on the UHH gitlab server: [https://gitlab.rrz.uni-hamburg.de/ifmeo/teaching/IfM_SeaOcean/uhh-seaocean-2024](https://gitlab.rrz.uni-hamburg.de/ifmeo/teaching/IfM_SeaOcean/uhh-seaocean-2024). Within this folder, there are several individual 'repositories'.  You will want to clone each of them.\n",
    "\n",
    "Each of these is an individual \"repository\":\n",
    "1. Part 1 - Basics - [https://gitlab.rrz.uni-hamburg.de/ifmeo/teaching/IfM_SeaOcean/uhh-seaocean-2024/part-1-basics](https://gitlab.rrz.uni-hamburg.de/ifmeo/teaching/IfM_SeaOcean/uhh-seaocean-2024/part-1-basics)\n",
    "\n",
    "You may need to \"request access\" to the repository.  \n",
    "\n",
    "1. Access the **course group gitlab**: [https://gitlab.rrz.uni-hamburg.de/ifmeo/teaching/IfM_SeaOcean/uhh-seaocean-2024/part-1-basics) and select a repository.\n",
    "\n",
    "2. If you are prompted to request access, then do so.  You will need to log in with your B-kennung.\n",
    "\n",
    "Then you need to clone the repository.  For this, have a \n",
    "\n",
    "1. A browswer window open (edge, chrome, safari, firefox, etc) and navigate to the **group gitlab**.  \n",
    "\n",
    "2. Github desktop (purple)\n",
    "\n",
    "Decide where on your computer you want these folders to live.  If you don't specify, the default is something like `Documents\\GitHub\\part-1-basics`.  You may want to nest it inside a folder that has the slug `seaocn` so you can find these later.\n",
    "\n",
    "1a. In Github desktop, select \"clone a repository\", and click the \"URL\" at the right.\n",
    "\n",
    "2a.  In the browser window, select the address of the repository you would like to clone first.  Copy this address (starting with https:)\n",
    "\n",
    "1b. In Github desktop, past the URL of the repository into the first text box.  The second text box will auto-populate with a location on your computer.  If you'd like to change this from default, use the button to the right to pick where these will live.  Click \"ok\" or \"next\".  *Authentication will fail.* Kein problem.\n",
    "\n",
    "2b. In the browswer window on the chosen repository (must match the one you used in the previous step), click on \"settings\" at the bottom of the list to the left.  Choose \"Access tokens\".  Near the top right, click \"Add new token\".  Give it a name (maybe your name).  Choose an expiration date at least 1 month in the future but no more than 12 months into the future.  Select a role \"maintainer\".  Scroll down over all the choices and click \"create project access token\".  In the green bar that appears, click the \"clipboard\" button to copy this token.\n",
    "\n",
    "1c.  In Github desktop, enter your B-kennung in the top text bar \"username\", but for \"password\" paste the access token that you just copied.  Click \"next\".\n",
    "\n",
    "You should now have cloned the repository.  Check that the repository (which may be an empty folder) lives on your computer.  \n",
    "\n",
    "**Repeat this step for the other course repositories.**\n",
    "\n",
    "\n",
    "\n"
   ]
  },
  {
   "cell_type": "markdown",
   "metadata": {},
   "source": [
    "# Super-brief explanation of git\n",
    "\n",
    "Git is keeping track of changes to your files within the local repository (your copy of the course folder on your computer).  When you change a file in the folder, git knows.  How do you know it knows?  If you go into your Github desktop (purple icon, desktop app) and choose the repository you're working in in the dropdown menu on the left, and you have changed a file, the filename  for the file with changes will appear in a list, and to the right you can preview the changes that have been made (previous commit and current edited version).  \n",
    "\n",
    "After you've been working on a file for a while (a day, an hour, 5 minutes, etc), e.g. a piece of code in your repository on your computer, and you've made some important changes, you will want to tell git to save a snapshot of these changes.  To do this you click **commit** in Github desktop.  This will then make git store a version according to the point in time when you clicked commit.  *Advanced tip: in the commit message, you can write something useful to describe the changes, like \"added a new function to load data from a microcat\".*  So far, only your own computer knows about these changes.\n",
    "\n",
    "When you want to share these changes with your group, i.e. have these changes show up in the repository on the gitlab.rrz.uni-hamburg.de location, then you need to **push** the changes.  This is a button to the right in your Github desktop (or top right), where you click.  This will then make the changes appear in the online copy of the repository.\n",
    "\n",
    "When your group member has made changes, and you want these changes to appear in your copy of the code on your own computer, then you need to **fetch** these changes from the version on gitlab.rrz.uni-hamburg.de.  This will not overwrite any of your files.  It will simply add what they have done.\n",
    "\n",
    "**Note:** For beginner usage, I recommend that you all keep a separate copy of your python code to start with.  If you work on the same piece of code, it's possible for you to delete something and commit it to your repository (on your own computer), and for someone else to edit the same thing without deleting it and commit it on their own computer.  If you both then push these changes to the repository, or you fetch your colleagues changes from the online repository onto your computer, you will get a **conflict** which needs to be merged manually.\n",
    "\n",
    "Read more: [https://git-scm.com/book/en/v2/Getting-Started-What-is-Git%3F](https://git-scm.com/book/en/v2/Getting-Started-What-is-Git%3F)"
   ]
  },
  {
   "cell_type": "markdown",
   "metadata": {},
   "source": [
    "More advanced: It's best to work inside an environment.  This controls the version of each of the packages that you have installed, so that the code is more likely to run smoothly on another person's computer.  Some background on [conda environments](https://conda.io/projects/conda/en/latest/user-guide/tasks/manage-environments.html).\n"
   ]
  },
  {
   "cell_type": "markdown",
   "metadata": {},
   "source": [
    "# Check whether you have python installed\n",
    "\n",
    "In Mac or Linux, at the command line, type\n",
    "```\n",
    "python --version\n",
    "```\n",
    "\n",
    "For example, mine says\n",
    "```\n",
    "(base) 9:34 ~ $ python --version\n",
    "Python 3.9.5\n",
    "```"
   ]
  },
  {
   "cell_type": "markdown",
   "metadata": {},
   "source": [
    "## Using conda\n",
    "\n",
    "For Mac users, you will probably want `conda` and `pip` installed on your computer.\n",
    "\n",
    "You can get conda here: [https://conda.io/projects/conda/en/latest/user-guide/install/index.html](https://conda.io/projects/conda/en/latest/user-guide/install/index.html).  I would recommend *miniconda* (Here is the direct link for [installing miniconda](https://docs.anaconda.com/free/miniconda/miniconda-install/)).  If you already have Anaconda, that is fine too.\n",
    "\n",
    "We will also use jupyter notebooks in this course.\n",
    "\n",
    "## Installing jupyterlab\n",
    "\n",
    "You can install jupyterlab with conda\n",
    "\n",
    "    conda install -c conda-forge jupyterlab=4.0.7 notebook=7.0.6\n",
    "\n",
    "Since we recommend managing your environments, then conda (as above) is the better way to install it.  Otherwise you can use pip: [https://jupyter.org/install](https://jupyter.org/install).\n",
    "\n",
    "If you already have Anaconda, then jupyter lab comes by default [explained here](https://test-jupyter.readthedocs.io/en/latest/install.html)."
   ]
  },
  {
   "cell_type": "markdown",
   "metadata": {},
   "source": [
    "## Now, open this notebook in jupyter notebook.\n",
    "\n",
    "Please record for yourself the steps you took to get jupyter running on your computer."
   ]
  },
  {
   "cell_type": "markdown",
   "metadata": {},
   "source": [
    "## (optional) setting up an environment\n",
    "\n",
    "On a Mac, in a terminal window, you will create an environment using a specified version of python.\n",
    "\n",
    "```\n",
    "conda create --name seaocn_env python=3.8 -y\n",
    "conda activate seaocn_env\n",
    "```\n"
   ]
  },
  {
   "cell_type": "code",
   "execution_count": null,
   "metadata": {},
   "outputs": [],
   "source": []
  }
 ],
 "metadata": {
  "kernelspec": {
   "display_name": "Python 3",
   "language": "python",
   "name": "python3"
  },
  "language_info": {
   "codemirror_mode": {
    "name": "ipython",
    "version": 3
   },
   "file_extension": ".py",
   "mimetype": "text/x-python",
   "name": "python",
   "nbconvert_exporter": "python",
   "pygments_lexer": "ipython3",
   "version": "3.8.19"
  },
  "widgets": {
   "application/vnd.jupyter.widget-state+json": {
    "state": {},
    "version_major": 2,
    "version_minor": 0
   }
  }
 },
 "nbformat": 4,
 "nbformat_minor": 4
}
