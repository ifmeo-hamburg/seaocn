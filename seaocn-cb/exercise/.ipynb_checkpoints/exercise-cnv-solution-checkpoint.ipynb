{
 "cells": [
  {
   "cell_type": "markdown",
   "metadata": {},
   "source": [
    "# Exercise 1 - Profile data\n",
    "\n",
    "\n",
    "**Aim:** To work with vertical profile data and make some standard calculations.\n",
    "\n",
    "**Learning outcomes:** At the end of this lab, you will be able to:\n",
    "1. Calculate buoyancy frequency\n",
    "2. Calculate dynamic height\n",
    "3. Gain basic familiarity with Python `xarray` data arrays, and familiarity with indices and NaNs.\n",
    "<!--4. Use the functions including: nanmean, detrend, polyfit, polyval, disp, grid, find, isnan, sqrt, and the operators ==, ~ and .^2.-->\n",
    "\n",
    "**Data:** You will work with the CNV files from the MSM121 cruise off of 47°N.\n",
    "\n",
    "**Directions:** Answer the questions, create an `*.ipynb` and one figure.  Please copy this figure into the `shared_figures/` folder in the repository.  *Make sure you follow the file naming convention.*\n",
    "<hr>"
   ]
  },
  {
   "cell_type": "markdown",
   "metadata": {},
   "source": [
    "## Create a notebook\n",
    "\n",
    "Create an `*.ipynb` containing the commands for this assignment, or copy this file.  \n",
    "\n",
    "```{admonition} File naming convention\n",
    "Name your python notebook something useful `ex<X>-<slug>-<Lastname>-seaocn.ipynb` where you replace `<X>` with the exercise number and `<slug>` with the short slug to name the topic, and `<Lastname>` with your last name.\n",
    "```"
   ]
  },
  {
   "cell_type": "markdown",
   "metadata": {},
   "source": [
    "### Import necessary packages.  \n",
    "\n",
    "For example, `matplotlib` and `pandas` and `numpy` and `xarray`.  You may also need\n",
    "```\n",
    "import matplotlib.pyplot as plt\n",
    "import pandas as pd\n",
    "import gsw \n",
    "import numpy as np\n",
    "import xarray as xr\n",
    "from datetime import datetime\n",
    "```\n",
    "\n",
    "Here you have two options (there may be more) for working with `*.cnv` files.  They are `pycnv` and `seabird`, as\n",
    "- [pycnv (link)](https://pypi.org/project/pycnv/)\n",
    "- [seabird (link)](https://github.com/castelao/seabird)\n",
    "\n",
    "We will start with using `pycnv` within your python notebook.  It will create its own datatype which is suitable for basic plotting. The package  `seabird` is run from the command line on your computer, and can be used to create a netCDF file (`*.nc`) from a `*.cnv` file.  A netCDF file can be read by `xarray`.\n",
    "\n",
    "Both of these packages are designed to run on `*.cnv` files.  Normally, the data will first need to be converted from `*.hex` to `*.cnv` using the Seabird processing.  There is a \"wrapper\" written to call Seabird processing from within python, but it does require the Seabird software to already be installed on the computer (therefore the computer needs to be running Windows).  See [Seabird-processing (link)](https://github.com/HakaiInstitute/seabird-processing).\n",
    "\n",
    "If you are missing any of the packages that you decide you need, please refer to [Resources: Python](../resource/python).\n",
    "\n",
    "<!--(Side info: not for use here.) For processing directly from `*.hex`, there is some python code available [here](https://github.com/jklymak/SeaCat/tree/master/python) by Jody Klymak.  It was written for a specific set of SeaCat files, and so may not be generalised to all the possible (especially header) formats for Seabird instruments.-->\n"
   ]
  },
  {
   "cell_type": "code",
   "execution_count": 62,
   "metadata": {},
   "outputs": [],
   "source": [
    "# Importing required packages here\n",
    "import matplotlib.pyplot as plt\n",
    "import numpy as np\n",
    "import pandas as pd\n",
    "import gsw \n",
    "import numpy as np\n",
    "import xarray as xr\n",
    "# from datetime import datetime, date, timedelta\n",
    "import pycnv\n"
   ]
  },
  {
   "cell_type": "markdown",
   "metadata": {},
   "source": [
    "# Using pycnv \n",
    "\n",
    "## Load the data with pycnv\n",
    "\n",
    "The data are in a `*.cnv` file.  This is text file in the format from the Seabird Electronics manufacturer.  The package `pycnv` has been developed to read Seabird data into python, but *functionality is limited*.\n",
    "\n",
    "```{note}\n",
    "You will want to convert the pycnv format to xarray for later labs.\n",
    "```\n",
    "\n",
    "For data located in the directory `msm121_profiles`, you need to provide the filename with full path as an input to `pycnv`.\n",
    "```\n",
    "file_path1 = '../msm121_profiles/MSM121_015_1db.cnv'\n",
    "cnv1 = pycnv.pycnv(file_path1)\n",
    "\n",
    "# Print some info to the screen\n",
    "print('Test if we are in the Baltic Sea (usage of different equation of state): ' + str(cnv1.baltic))\n",
    "print('Position of cast is: Longitude:', cnv1.lon,'Latitude:',cnv1.lat)\n",
    "print('Time of cast was:', cnv1.date)\n",
    "print('Number of sensor entries (len(cnv.data.keys())):',len(cnv1.data.keys()))\n",
    "print('Names of sensor entries (cnv.data.keys()):',cnv1.data.keys())\n",
    "```\n",
    "\n",
    "Write your version of this code below.  If successful, you'll see output like\n",
    "\n",
    "    INFO:pycnv: Opening file: ../msm121_profiles/MSM121_015_1db.cnv\n",
    "    Test if we are in the Baltic Sea (usage of different equation of state): False\n",
    "    Position of cast is: Longitude: nan Latitude: nan\n",
    "    Time of cast was: 2024-03-12 13:06:47+00:00\n",
    "    Number of sensor entries (len(cnv.data.keys())): 8\n",
    "    Names of sensor entries (cnv.data.keys()): dict_keys(['scan', 'timeK', 'tv290C', 'cond0mS/cm', 'sal00', 'prdM', 'p', 'flag'])\n",
    "\n",
    "Note that the `dict_keys` tells you what your variable names were in the file, and gives you an idea of how to access them.\n"
   ]
  },
  {
   "cell_type": "code",
   "execution_count": 27,
   "metadata": {},
   "outputs": [
    {
     "name": "stderr",
     "output_type": "stream",
     "text": [
      "INFO:pycnv: Opening file: ../data/MSM121_054_1db.cnv\n"
     ]
    },
    {
     "name": "stdout",
     "output_type": "stream",
     "text": [
      "Test if we are in the Baltic Sea (usage of different equation of state): False\n",
      "Position of cast is: Longitude: -44.99933333333333 Latitude: 49.708333333333336\n",
      "Time of cast was: 2023-10-08 12:26:20+00:00\n",
      "Number of sensor entries (len(cnv.data.keys())): 20\n",
      "Names of sensor entries (cnv.data.keys()): dict_keys(['timeQ', 'prDM', 'p', 't090C', 'T0', 'c0mS/cm', 'C0', 'sbeox0ML/L', 'oxy0', 't190C', 'T1', 'c1mS/cm', 'C1', 'sbeox1ML/L', 'oxy1', 'latitude', 'longitude', 'timeS', 'sal11', 'flag'])\n"
     ]
    }
   ],
   "source": [
    "# Loading the data\n",
    "file_path1 = '../data/MSM121_054_1db.cnv'\n",
    "cnv1 = pycnv.pycnv(file_path1)\n",
    "\n",
    "# Print some info to the screen\n",
    "print('Test if we are in the Baltic Sea (usage of different equation of state): ' + str(cnv1.baltic))\n",
    "print('Position of cast is: Longitude:', cnv1.lon,'Latitude:',cnv1.lat)\n",
    "print('Time of cast was:', cnv1.date)\n",
    "print('Number of sensor entries (len(cnv.data.keys())):',len(cnv1.data.keys()))\n",
    "print('Names of sensor entries (cnv.data.keys()):',cnv1.data.keys())"
   ]
  },
  {
   "cell_type": "markdown",
   "metadata": {},
   "source": [
    "## Display parameters\n",
    "\n",
    "You can see in the example code previously or here:\n",
    "    \n",
    "    key0 = list(cnv1.data.keys())[0]\n",
    "    data0 = cnv1.data[key0]\n",
    "    print(cnv1.data)\n",
    "\n",
    "various ways to interact with the `pycnv` data type.  "
   ]
  },
  {
   "cell_type": "code",
   "execution_count": 6,
   "metadata": {},
   "outputs": [
    {
     "name": "stdout",
     "output_type": "stream",
     "text": [
      "{'timeQ': array([7.50083314e+08, 7.50083317e+08, 7.50083319e+08, ...,\n",
      "       7.50086977e+08, 7.50086981e+08, 7.50086995e+08]), 'prDM': array([   7.,    8.,    9., ..., 3597., 3598., 3599.]), 'p': array([   7.,    8.,    9., ..., 3597., 3598., 3599.]), 't090C': array([14.1738, 14.1528, 14.0536, ...,  1.9457,  1.9457,  1.9441]), 'T0': array([14.1738, 14.1528, 14.0536, ...,  1.9457,  1.9457,  1.9441]), 'c0mS/cm': array([40.887917, 40.529899, 40.186417, ..., 32.11024 , 32.110538,\n",
      "       32.109489]), 'C0': array([40.887917, 40.529899, 40.186417, ..., 32.11024 , 32.110538,\n",
      "       32.109489]), 'sbeox0ML/L': array([4.3448, 4.4177, 4.5557, ..., 6.3183, 6.3199, 6.3205]), 'oxy0': array([4.3448, 4.4177, 4.5557, ..., 6.3183, 6.3199, 6.3205]), 't190C': array([14.1689, 14.1684, 14.167 , ...,  1.9443,  1.9441,  1.9433]), 'T1': array([14.1689, 14.1684, 14.167 , ...,  1.9443,  1.9441,  1.9433]), 'c1mS/cm': array([41.094726, 41.063394, 41.053896, ..., 32.10828 , 32.10833 ,\n",
      "       32.108106]), 'C1': array([41.094726, 41.063394, 41.053896, ..., 32.10828 , 32.10833 ,\n",
      "       32.108106]), 'sbeox1ML/L': array([4.4442, 4.378 , 4.3196, ..., 6.1543, 6.1544, 6.1529]), 'oxy1': array([4.4442, 4.378 , 4.3196, ..., 6.1543, 6.1544, 6.1529]), 'latitude': array([49.70836, 49.70836, 49.70836, ..., 49.7111 , 49.7111 , 49.71112]), 'longitude': array([-45.00073, -45.00076, -45.00075, ..., -45.00406, -45.00406,\n",
      "       -45.00409]), 'timeS': array([ 134.461,  136.706,  138.101, ..., 3796.978, 3800.999, 3815.453]), 'sal11': array([34.057 , 34.0312, 34.0223, ..., 34.8814, 34.8813, 34.8813]), 'flag': array([0., 0., 0., ..., 0., 0., 0.])}\n"
     ]
    }
   ],
   "source": [
    "# Try printing to see what is in your data\n",
    "key0 = list(cnv1.data.keys())[0]\n",
    "data0 = cnv1.data[key0]\n",
    "print(cnv1.data)"
   ]
  },
  {
   "cell_type": "markdown",
   "metadata": {},
   "source": [
    "## Fig. 1 Make a profile plot\n",
    "\n",
    "### Plot standard parameters\n",
    "    \n",
    "    plt.figure(1)\n",
    "    plt.clf()\n",
    "    plt.subplot(1,2,1)\n",
    "\n",
    "### Note that pycnv already did the TEOS-10 conversion to SA for you using gsw\n",
    "\n",
    "    plt.plot(cnv.SA,cnv.p)\n",
    "    plt.xlabel('Absolute salinity [' + cnv.SA_unit + ']')\n",
    "    plt.ylabel('Pressure [' + cnv.p_unit + ']')\n",
    "    plt.gca().invert_yaxis()  # Question: What happens if you comment out this line?\n",
    "\n",
    "\n",
    "Modify your plot:\n",
    "\n",
    "1. Add grid lines\n",
    "\n",
    "2. Limit the top of the plot to the surface (p=0)\n",
    "\n",
    "3. Add a second plot for temperature, to the right of the salinity plot\n",
    "\n",
    "4. Add a title to your figure, perhaps the station number, latitude and longitude\n",
    "\n",
    "5. Print the figure to a `*.png` file in the subdirectory `figures/`\n",
    "\n",
    "```{note}\n",
    "Naming convention should be `ex<X>fig<Y>_<Lastname>-seaocn.png` where you replace `<X>` with the exercise number, `<Y>` with the figure number, and `<Lastname>` with your last name.\n"
   ]
  },
  {
   "cell_type": "code",
   "execution_count": 28,
   "metadata": {},
   "outputs": [
    {
     "data": {
      "image/png": "[encoded data removed]",
      "text/plain": [
       "<Figure size 640x480 with 1 Axes>"
      ]
     },
     "metadata": {},
     "output_type": "display_data"
    }
   ],
   "source": [
    "# Make your plot\n",
    "plt.figure(1)\n",
    "plt.clf()\n",
    "plt.subplot(1,2,1)\n",
    "\n",
    "plt.plot(cnv1.SA,cnv1.p)\n",
    "plt.xlabel('Absolute salinity [' + cnv1.SA_unit + ']')\n",
    "plt.ylabel('Pressure [' + cnv1.p_unit + ']')\n",
    "plt.gca().invert_yaxis()  # Question: What happens if you comment out this line?"
   ]
  },
  {
   "cell_type": "markdown",
   "metadata": {},
   "source": [
    "# Convert to netCDF and load with `xarray`\n",
    "\n",
    "- First, on your computer (after installing the [seabird (link)](https://github.com/castelao/seabird) package, run it on one `*.cnv` file to create a `*.nc` file.\n",
    "\n",
    "  seabird cnv2nc MSM121_054_1db.cnv\n",
    "\n",
    "- `xarray` is a python package commonly used for ocean and climate science.  While you could continue working with the `pycnv` format, it will become a hindrance later.\n",
    "\n",
    "```{seealso}\n",
    "Read the docs: [xarray.DataArray](https://docs.xarray.dev/en/stable/generated/xarray.DataArray.html)\n",
    "```\n",
    "\n",
    "<!--```{note} This step will take a while!\n",
    "You will want to see how to assign the time data from your pycnv format to a `dimension` in an xarray DataArray, and then to assign this dimension to your variables for temperature, conductivity and salinity.  You will also need to extract and assign the appropriate units to each variable.\n",
    "```\n",
    "\n",
    "By accomplishing this step once, you will learn about how the `xarray.DataArray` class is formed and it will provide you with a blueprint for the future when you have another unknown data type that you would like to convert to `xarray`.-->"
   ]
  },
  {
   "cell_type": "code",
   "execution_count": 31,
   "metadata": {},
   "outputs": [],
   "source": [
    "# Load your *.nc file\n",
    "file_path2 = '../data/MSM121_054_1db_solution.nc'\n",
    "da_prof = xr.open_dataset(file_path2)"
   ]
  },
  {
   "cell_type": "markdown",
   "metadata": {},
   "source": [
    "## Work with data in xarray\n",
    "\n",
    "Use the `print` command to see what is in your data array.  A data array is a bit like a file folder, with different variable types in it.\n",
    "\n",
    "\n",
    "```{seealso}\n",
    "The [xarray user guide (external)](https://docs.xarray.dev/en/stable/user-guide/index.html), especially for this lab on\n",
    "- [Data structures](https://docs.xarray.dev/en/stable/user-guide/data-structures.html)\n",
    "- [Indexing and selecting data](https://docs.xarray.dev/en/stable/user-guide/indexing.html)\n",
    "```\n"
   ]
  },
  {
   "cell_type": "code",
   "execution_count": 32,
   "metadata": {},
   "outputs": [
    {
     "name": "stdout",
     "output_type": "stream",
     "text": [
      "<xarray.Dataset>\n",
      "Dimensions:       (scan: 3593)\n",
      "Dimensions without coordinates: scan\n",
      "Data variables: (12/13)\n",
      "    timeQ         (scan) float64 ...\n",
      "    PRES          (scan) float64 ...\n",
      "    TEMP          (scan) float64 ...\n",
      "    c0mSPercm     (scan) float64 ...\n",
      "    oxygen_ml_L   (scan) float64 ...\n",
      "    TEMP2         (scan) float64 ...\n",
      "    ...            ...\n",
      "    sbeox1MLPerL  (scan) float64 ...\n",
      "    LATITUDE      (scan) float64 ...\n",
      "    LONGITUDE     (scan) float64 ...\n",
      "    timeS         (scan) float64 ...\n",
      "    PSAL2         (scan) float64 ...\n",
      "    flag          (scan) float64 ...\n",
      "Attributes: (12/16)\n",
      "    history:          Created by cnv2nc (PyCNV)\n",
      "    date_created:     2024-04-01T20:34:01.944485\n",
      "    LATITUDE:         49.708333333333336\n",
      "    LONGITUDE:        -45.00066666666667\n",
      "    bad_flag:         -9.990e-29\n",
      "    datetime:         2000-01-01T12:26:20\n",
      "    ...               ...\n",
      "    md5:              738f6e27f706e426f54fb646b54b7e35\n",
      "    nquan:            13\n",
      "    nvalues:          3593\n",
      "    sbe_model:        9\n",
      "    seasave:          V 7.22\n",
      "    start_time:       Jan 01 2000 12:26:20 [NMEA time, first data scan]\n"
     ]
    }
   ],
   "source": [
    "# Print your data\n",
    "print(da_prof)"
   ]
  },
  {
   "cell_type": "markdown",
   "metadata": {},
   "source": [
    "## Save an xr.da to *.netCDF file\n",
    "\n",
    "Now that your data are in `xarray.DataArray` format, you can use tools within `xarray` to write a netCDF file.\n",
    "\n",
    "```{seealso}\n",
    "Function help for [xarray.Dataset.to_netcdf](https://docs.xarray.dev/en/latest/generated/xarray.Dataset.to_netcdf.html)\n",
    "```"
   ]
  },
  {
   "cell_type": "code",
   "execution_count": 91,
   "metadata": {},
   "outputs": [
    {
     "data": {
      "text/plain": [
       "{'history': 'Created by cnv2nc (PyCNV)',\n",
       " 'date_created': '2024-04-01T20:34:01.944485',\n",
       " 'LATITUDE': 49.708333333333336,\n",
       " 'LONGITUDE': -45.00066666666667,\n",
       " 'bad_flag': '-9.990e-29',\n",
       " 'datetime': '2000-01-01T12:26:20',\n",
       " 'file_type': 'ascii',\n",
       " 'filename': 'MSM121_054_1db.cnv',\n",
       " 'gps_datetime': 'Oct 08 2023 12:26:20',\n",
       " 'instrument_type': 'CTD',\n",
       " 'md5': '738f6e27f706e426f54fb646b54b7e35',\n",
       " 'nquan': '13',\n",
       " 'nvalues': '3593',\n",
       " 'sbe_model': '9',\n",
       " 'seasave': 'V 7.22',\n",
       " 'start_time': 'Jan 01 2000 12:26:20 [NMEA time, first data scan]'}"
      ]
     },
     "execution_count": 91,
     "metadata": {},
     "output_type": "execute_result"
    }
   ],
   "source": [
    "da_prof.attrs"
   ]
  },
  {
   "cell_type": "code",
   "execution_count": 92,
   "metadata": {},
   "outputs": [
    {
     "ename": "ValueError",
     "evalue": "unconverted data remains: 12:26:20",
     "output_type": "error",
     "traceback": [
      "\u001b[0;31m---------------------------------------------------------------------------\u001b[0m",
      "\u001b[0;31mValueError\u001b[0m                                Traceback (most recent call last)",
      "Cell \u001b[0;32mIn[92], line 3\u001b[0m\n\u001b[1;32m      1\u001b[0m \u001b[38;5;66;03m# Making a time series plot\u001b[39;00m\n\u001b[1;32m      2\u001b[0m \u001b[38;5;66;03m# Define the offset date and time\u001b[39;00m\n\u001b[0;32m----> 3\u001b[0m offset_datetime \u001b[38;5;241m=\u001b[39m \u001b[43mdatetime\u001b[49m\u001b[38;5;241;43m.\u001b[39;49m\u001b[43mstrptime\u001b[49m\u001b[43m(\u001b[49m\u001b[43mda_prof\u001b[49m\u001b[38;5;241;43m.\u001b[39;49m\u001b[43mdatetime\u001b[49m\u001b[43m,\u001b[49m\u001b[43m \u001b[49m\u001b[38;5;124;43m\"\u001b[39;49m\u001b[38;5;124;43m%\u001b[39;49m\u001b[38;5;124;43mY-\u001b[39;49m\u001b[38;5;124;43m%\u001b[39;49m\u001b[38;5;124;43mm-\u001b[39;49m\u001b[38;5;132;43;01m%d\u001b[39;49;00m\u001b[38;5;124;43mT\u001b[39;49m\u001b[38;5;124;43m\"\u001b[39;49m\u001b[43m)\u001b[49m \n\u001b[1;32m      4\u001b[0m \u001b[38;5;66;03m# Define the time coordinates as an array of datetime values\u001b[39;00m\n\u001b[1;32m      5\u001b[0m \u001b[38;5;66;03m#time_coords = [offset_datetime + datetime.timedelta(seconds=da_prof.timeS)]\u001b[39;00m\n\u001b[1;32m      6\u001b[0m \u001b[38;5;66;03m#time_coords = [offset_datetime + timedelta(seconds=i) for i in da_prof.timeS]\u001b[39;00m\n\u001b[1;32m      7\u001b[0m mytimeS \u001b[38;5;241m=\u001b[39m da_prof\u001b[38;5;241m.\u001b[39mtimeQ\u001b[38;5;241m.\u001b[39mdata\n",
      "File \u001b[0;32m~/opt/miniconda3/envs/seaocn_env/lib/python3.8/_strptime.py:568\u001b[0m, in \u001b[0;36m_strptime_datetime\u001b[0;34m(cls, data_string, format)\u001b[0m\n\u001b[1;32m    565\u001b[0m \u001b[38;5;28;01mdef\u001b[39;00m \u001b[38;5;21m_strptime_datetime\u001b[39m(\u001b[38;5;28mcls\u001b[39m, data_string, \u001b[38;5;28mformat\u001b[39m\u001b[38;5;241m=\u001b[39m\u001b[38;5;124m\"\u001b[39m\u001b[38;5;132;01m%a\u001b[39;00m\u001b[38;5;124m \u001b[39m\u001b[38;5;124m%\u001b[39m\u001b[38;5;124mb \u001b[39m\u001b[38;5;132;01m%d\u001b[39;00m\u001b[38;5;124m \u001b[39m\u001b[38;5;124m%\u001b[39m\u001b[38;5;124mH:\u001b[39m\u001b[38;5;124m%\u001b[39m\u001b[38;5;124mM:\u001b[39m\u001b[38;5;124m%\u001b[39m\u001b[38;5;124mS \u001b[39m\u001b[38;5;124m%\u001b[39m\u001b[38;5;124mY\u001b[39m\u001b[38;5;124m\"\u001b[39m):\n\u001b[1;32m    566\u001b[0m \u001b[38;5;250m    \u001b[39m\u001b[38;5;124;03m\"\"\"Return a class cls instance based on the input string and the\u001b[39;00m\n\u001b[1;32m    567\u001b[0m \u001b[38;5;124;03m    format string.\"\"\"\u001b[39;00m\n\u001b[0;32m--> 568\u001b[0m     tt, fraction, gmtoff_fraction \u001b[38;5;241m=\u001b[39m \u001b[43m_strptime\u001b[49m\u001b[43m(\u001b[49m\u001b[43mdata_string\u001b[49m\u001b[43m,\u001b[49m\u001b[43m \u001b[49m\u001b[38;5;28;43mformat\u001b[39;49m\u001b[43m)\u001b[49m\n\u001b[1;32m    569\u001b[0m     tzname, gmtoff \u001b[38;5;241m=\u001b[39m tt[\u001b[38;5;241m-\u001b[39m\u001b[38;5;241m2\u001b[39m:]\n\u001b[1;32m    570\u001b[0m     args \u001b[38;5;241m=\u001b[39m tt[:\u001b[38;5;241m6\u001b[39m] \u001b[38;5;241m+\u001b[39m (fraction,)\n",
      "File \u001b[0;32m~/opt/miniconda3/envs/seaocn_env/lib/python3.8/_strptime.py:352\u001b[0m, in \u001b[0;36m_strptime\u001b[0;34m(data_string, format)\u001b[0m\n\u001b[1;32m    349\u001b[0m     \u001b[38;5;28;01mraise\u001b[39;00m \u001b[38;5;167;01mValueError\u001b[39;00m(\u001b[38;5;124m\"\u001b[39m\u001b[38;5;124mtime data \u001b[39m\u001b[38;5;132;01m%r\u001b[39;00m\u001b[38;5;124m does not match format \u001b[39m\u001b[38;5;132;01m%r\u001b[39;00m\u001b[38;5;124m\"\u001b[39m \u001b[38;5;241m%\u001b[39m\n\u001b[1;32m    350\u001b[0m                      (data_string, \u001b[38;5;28mformat\u001b[39m))\n\u001b[1;32m    351\u001b[0m \u001b[38;5;28;01mif\u001b[39;00m \u001b[38;5;28mlen\u001b[39m(data_string) \u001b[38;5;241m!=\u001b[39m found\u001b[38;5;241m.\u001b[39mend():\n\u001b[0;32m--> 352\u001b[0m     \u001b[38;5;28;01mraise\u001b[39;00m \u001b[38;5;167;01mValueError\u001b[39;00m(\u001b[38;5;124m\"\u001b[39m\u001b[38;5;124munconverted data remains: \u001b[39m\u001b[38;5;132;01m%s\u001b[39;00m\u001b[38;5;124m\"\u001b[39m \u001b[38;5;241m%\u001b[39m\n\u001b[1;32m    353\u001b[0m                       data_string[found\u001b[38;5;241m.\u001b[39mend():])\n\u001b[1;32m    355\u001b[0m iso_year \u001b[38;5;241m=\u001b[39m year \u001b[38;5;241m=\u001b[39m \u001b[38;5;28;01mNone\u001b[39;00m\n\u001b[1;32m    356\u001b[0m month \u001b[38;5;241m=\u001b[39m day \u001b[38;5;241m=\u001b[39m \u001b[38;5;241m1\u001b[39m\n",
      "\u001b[0;31mValueError\u001b[0m: unconverted data remains: 12:26:20"
     ]
    }
   ],
   "source": [
    "# Making a time series plot\n",
    "# Define the offset date and time\n",
    "offset_datetime = datetime.strptime(da_prof.datetime, \"%Y-%m-%dT%H:%M:%S\") \n",
    "# Define the time coordinates as an array of datetime values\n",
    "#time_coords = [offset_datetime + datetime.timedelta(seconds=da_prof.timeS)]\n",
    "#time_coords = [offset_datetime + timedelta(seconds=i) for i in da_prof.timeS]\n",
    "mytimeS = da_prof.timeS.data\n",
    "mytimeT = mytimeS.astype('timedelta64[s]')\n",
    "mytimeP = pd.to_timedelta(mytimeS, unit='sec')\n",
    "#type(mytimeT)\n",
    "#type(mytimeS)\n",
    "#print(mytimeS)\n",
    "#print(mytimeP)\n",
    "print(offset_datetime)\n",
    "newtime = offset_datetime + mytimeP\n",
    "print(newtime)\n",
    "#print(mytimeT)\n",
    "#plt.plot(da_prof.timeS,da_prof.TEMP)"
   ]
  },
  {
   "cell_type": "markdown",
   "metadata": {},
   "source": [
    "# <hr>\n",
    "\n",
    "## Fig 2. Repeat the profile plot\n",
    "\n",
    "As above, but with the data in `xarray` format.  \n",
    "\n",
    "Modify your plot:\n",
    "\n",
    "1. Add grid lines\n",
    "\n",
    "2. Limit the top of the plot to the surface (p=0)\n",
    "\n",
    "3. Add a second plot for temperature, to the right of the salinity plot\n",
    "\n",
    "4. Add a title to your figure, perhaps the station number, latitude and longitude\n",
    "\n",
    "5. Export the figure using the figure naming convention, to the subfolder `figures/`.\n",
    "\n"
   ]
  },
  {
   "cell_type": "code",
   "execution_count": 3,
   "metadata": {},
   "outputs": [],
   "source": [
    "# Plot the data"
   ]
  },
  {
   "cell_type": "markdown",
   "metadata": {},
   "source": [
    "## Fig 3. Make a T-S diagram \n",
    "\n",
    "A T-S diagram has salinity on the x-axis and temperature on the y-axis, and contours of density (sigma_0) added.\n",
    "\n",
    "Modify your plot by\n",
    "\n",
    "1. Add contours of potential density\n",
    "    - Hint, you will need to create a vector of temperature and salinity spanning at least the ranges in the profile\n",
    "    - You will then need to use these gridded vectors to calculate potential density using the gsw toolbox\n",
    "\n",
    "2. Add contour labels for the density\n",
    "\n",
    "3. Add a title\n",
    "\n",
    "4. Export the figure using the figure-naming convention, to the subfolder `figures/`"
   ]
  },
  {
   "cell_type": "code",
   "execution_count": null,
   "metadata": {},
   "outputs": [],
   "source": [
    "# Plot a T-S diagram"
   ]
  },
  {
   "cell_type": "markdown",
   "metadata": {},
   "source": [
    "## Clean up the plots\n",
    "\n",
    "Go back and clean up the plots if needed. This means, add a legend, axes labels, fix the time axis annotations if needed, and fix the fontsize to be legible even if the figure is small.\n",
    "\n",
    "```{note}\n",
    "In future exercises, you will be expected to clean up all plots without reminders.  All plots should have axes labelled (with units!), legible font size (bigger than you think) and appropriate axis ranges.  Legends should be used whenever more than one quantity is plotted.\n",
    "```\n",
    "\n",
    "- Re-export the figures with the same names as before.\n",
    "\n",
    "<hr>"
   ]
  },
  {
   "cell_type": "markdown",
   "metadata": {},
   "source": [
    "# Further calculations\n",
    "\n",
    "## Calculate buoyancy frequency\n",
    "\n",
    "Buoyancy frequency is a measure of how strongly a vertical profile is stratified.  It is calculated as\n",
    "    \n",
    "$$\n",
    "N^2 = \\partial b/\\partial z\n",
    "$$\n",
    "\n",
    "where buoyancy $b$ is\n",
    "\n",
    "$$\n",
    "b(z) = -g\\frac{\\rho(z)}{\\rho_0}\n",
    "$$\n",
    "and $g$ is gravitational acceleration, $\\rho(z)$ the profile of density, and $\\rho_0$ a background mean value of density.  (The exact value of $\\rho_0$ doesn't matter much.  Something like 1023 or 1025 kg/m$^3$ will do fine.\n",
    "\n",
    "You can do this two ways.  \n",
    "\n",
    "1. Calculate density using the Gibb's seawater toolbox [GSW density](https://teos-10.github.io/GSW-Python/density.html), and\n",
    "\n",
    "2. Use the GSW function for buoyancy frequency under [GSW stability](https://teos-10.github.io/GSW-Python/stability.html).\n",
    "\n",
    "## Fig 4. Plot buoyancy frequency\n",
    "\n",
    "Try and plot both ways on the same axes.\n",
    "\n",
    "```{note}\n",
    "The convention in oceanography is that the N$^2$ axis is a log10 axis.\n",
    "```\n",
    "\n",
    "3. Export your figure."
   ]
  },
  {
   "cell_type": "code",
   "execution_count": null,
   "metadata": {},
   "outputs": [],
   "source": [
    "# Calculate buoyancy frequency"
   ]
  },
  {
   "cell_type": "code",
   "execution_count": null,
   "metadata": {},
   "outputs": [],
   "source": [
    "# Plot buoyancy frequency"
   ]
  },
  {
   "cell_type": "markdown",
   "metadata": {},
   "source": [
    "## Calculate dynamic height\n",
    "\n",
    "Small variations in seawater density affect both ocean circulation and sea level.  According to the hydrostatic approximation, the vertical gradient of pressure is a function of density $\\rho$ and gravitational acceleration $g$ as\n",
    "\n",
    "$$\n",
    "\\frac{\\partial p}{\\partial z} = -\\rho g\n",
    "$$\n",
    "\n",
    "if we want to integrate to find the height of the surface above a profile of given density, we can calculate\n",
    "\n",
    "$$\n",
    "h = \\int_{p_r}^p\\frac{dp}{-\\rho g}\n",
    "$$\n",
    "\n",
    "which has units of meters.\n",
    "\n",
    "Dynamic height is a similar quantity, but accounts for gravity already (has units of m$^2$/s$^s$ and is used in the geostrophic velocity/transport calculation.\n",
    "\n",
    "```{seealso}\n",
    "See dynamic height calculations in the [GSW toolbox](https://teos-10.github.io/GSW-Python/geostrophy.html)\n",
    "```\n",
    "\n",
    "## Fig 5. Plot dynamic height\n",
    "\n",
    "1. Plot dynamic height against depth or pressure\n",
    "\n",
    "2. In a separate plot in the same figure, convert dynamic height to steric height (units of m) and plot it.\n",
    "\n",
    "3. Extra (optional): Calculate dynamic height manually by using the specific volume anomaly."
   ]
  },
  {
   "cell_type": "code",
   "execution_count": null,
   "metadata": {},
   "outputs": [],
   "source": [
    "# Calculate dynamic height"
   ]
  },
  {
   "cell_type": "code",
   "execution_count": null,
   "metadata": {},
   "outputs": [],
   "source": [
    "# Calculate steric height"
   ]
  },
  {
   "cell_type": "code",
   "execution_count": null,
   "metadata": {},
   "outputs": [],
   "source": [
    "# Plot dynamic height + steric height"
   ]
  }
 ],
 "metadata": {
  "kernelspec": {
   "display_name": "Python [conda env:seaocn_env] *",
   "language": "python",
   "name": "conda-env-seaocn_env-py"
  },
  "language_info": {
   "codemirror_mode": {
    "name": "ipython",
    "version": 3
   },
   "file_extension": ".py",
   "mimetype": "text/x-python",
   "name": "python",
   "nbconvert_exporter": "python",
   "pygments_lexer": "ipython3",
   "version": "3.8.19"
  },
  "widgets": {
   "application/vnd.jupyter.widget-state+json": {
    "state": {},
    "version_major": 2,
    "version_minor": 0
   }
  }
 },
 "nbformat": 4,
 "nbformat_minor": 4
}
