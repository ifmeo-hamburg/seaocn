{
 "cells": [
  {
   "cell_type": "markdown",
   "metadata": {},
   "source": [
    "# Exercise 1 - Profile data\n",
    "\n",
    "\n",
    "**Aim:** To work with vertical profile data and make some standard calculations.\n",
    "\n",
    "**Learning outcomes:** At the end of this lab, you will be able to:\n",
    "1. Calculate buoyancy frequency\n",
    "2. Calculate dynamic height\n",
    "3. Gain basic familiarity with Python `xarray` data arrays, and reading and writing `*.nc` files using `xarray`.\n",
    "<!--4. Use the functions including: nanmean, detrend, polyfit, polyval, disp, grid, find, isnan, sqrt, and the operators ==, ~ and .^2.-->\n",
    "\n",
    "**Data:** You will work with the CNV files from the MSM121 cruise off of 47°N.\n",
    "\n",
    "**Directions:** Answer the questions, create an `*.ipynb` and 5 figures.  *Make sure you follow the file naming convention.*\n",
    "\n",
    "**Measure of success:** You will have created a python notebook, a netCDF file (*not* added to the git repository) and the 5 figures exported as `*.png` format into your folder; these will be \"commited\" and \"pushed\" to the shared repository, and viewable by everyone.  Additionally, copy your 2 best figures to the `shared_figures/` folder for discussion.  \n",
    "\n",
    "<hr>"
   ]
  },
  {
   "cell_type": "markdown",
   "metadata": {},
   "source": [
    "## Create a notebook\n",
    "\n",
    "Create an `*.ipynb` containing the commands for this assignment, or copy this file.  \n",
    "\n",
    "```{admonition} File naming convention\n",
    "Name your python notebook something useful `ex<X>-<slug>-<Lastname>-seaocn.ipynb` where you replace `<X>` with the exercise number and `<slug>` with the short slug to name the topic, and `<Lastname>` with your last name.\n",
    "\n",
    "    Figures should be named something like `ex<X>fig<Y>-<Lastname>-<slug>-seaocn.png` where you replace `<X>` with the exercise number, `<Y>` with the figure number, and `<Lastname>` with your last name.\n",
    "\n",
    "```"
   ]
  },
  {
   "cell_type": "markdown",
   "metadata": {},
   "source": [
    "### Import necessary packages.  \n",
    "\n",
    "For example, `matplotlib` and `pandas` and `numpy` and `xarray`.  You may also need\n",
    "```\n",
    "import matplotlib.pyplot as plt\n",
    "import pandas as pd\n",
    "import gsw \n",
    "import numpy as np\n",
    "import xarray as xr\n",
    "from datetime import datetime\n",
    "```\n",
    "\n",
    "Here you have two options (there may be more) for working with `*.cnv` files.  They are `pycnv` and `seabird`, as\n",
    "- [pycnv (link)](https://pypi.org/project/pycnv/)\n",
    "- [seabird (link)](https://github.com/castelao/seabird)\n",
    "\n",
    "You may try either of these.  Note that `pycnv` will create its own data type which you will need to conver to `xarray`.  `seabird` can be used to create a netCDF file (`*.nc`) which is a format that `xarray` can handle.\n",
    "\n",
    "Both of these packages are designed to run on `*.cnv` files.  Normally, the data will first need to be converted from `*.hex` to `*.cnv` using the Seabird processing.  There is a \"wrapper\" written to call Seabird processing from within python, but it does require the Seabird software to already be installed on the computer (therefore the computer needs to be running Windows).  See [Seabird-processing (link)](https://github.com/HakaiInstitute/seabird-processing).\n",
    "\n",
    "If you are missing any of the packages that you decide you need, please refer to [Resources: Python](../resource/python).\n",
    "\n",
    "For processing directly from `*.hex`, there is some python code available [here](https://github.com/jklymak/SeaCat/tree/master/python) by Jody Klymak.  It was written for a specific set of SeaCat files, and so may not be generalised to all the possible (especially header) formats for Seabird instruments.\n"
   ]
  },
  {
   "cell_type": "code",
   "execution_count": 1,
   "metadata": {},
   "outputs": [],
   "source": [
    "# Importing required packages here\n",
    "import matplotlib.pyplot as plt\n",
    "import numpy as np\n"
   ]
  },
  {
   "cell_type": "markdown",
   "metadata": {},
   "source": [
    "# Using pycnv \n",
    "\n",
    "## Load the data with pycnv\n",
    "\n",
    "The data are in a `*.cnv` file.  This is text file in the format from the Seabird Electronics manufacturer.  The package `pycnv` has been developed to read Seabird data into python, but *functionality is limited*.\n",
    "\n",
    "```{note}\n",
    "You will want to convert the pycnv format to xarray for later labs.\n",
    "```\n",
    "\n",
    "For data located in the directory `msm121_profiles`, you need to provide the filename with full path as an input to `pycnv`.\n",
    "```\n",
    "file_path1 = '../msm121_profiles/MSM121_015_1db.cnv'\n",
    "cnv1 = pycnv.pycnv(file_path1)\n",
    "\n",
    "# Print some info to the screen\n",
    "print('Test if we are in the Baltic Sea (usage of different equation of state): ' + str(cnv1.baltic))\n",
    "print('Position of cast is: Longitude:', cnv1.lon,'Latitude:',cnv1.lat)\n",
    "print('Time of cast was:', cnv1.date)\n",
    "print('Number of sensor entries (len(cnv.data.keys())):',len(cnv1.data.keys()))\n",
    "print('Names of sensor entries (cnv.data.keys()):',cnv1.data.keys())\n",
    "```\n",
    "\n",
    "Write your version of this code below.  If successful, you'll see output like\n",
    "\n",
    "    INFO:pycnv: Opening file: ../msm121_profiles/MSM121_015_1db.cnv\n",
    "    Test if we are in the Baltic Sea (usage of different equation of state): False\n",
    "    Position of cast is: Longitude: nan Latitude: nan\n",
    "    Time of cast was: 2024-03-12 13:06:47+00:00\n",
    "    Number of sensor entries (len(cnv.data.keys())): 8\n",
    "    Names of sensor entries (cnv.data.keys()): dict_keys(['scan', 'timeK', 'tv290C', 'cond0mS/cm', 'sal00', 'prdM', 'p', 'flag'])\n",
    "\n",
    "Note that the `dict_keys` tells you what your variable names were in the file, and gives you an idea of how to access them.\n"
   ]
  },
  {
   "cell_type": "code",
   "execution_count": 2,
   "metadata": {},
   "outputs": [],
   "source": [
    "# Loading the data\n",
    "\n",
    "\n"
   ]
  },
  {
   "cell_type": "markdown",
   "metadata": {},
   "source": [
    "## Display parameters\n",
    "\n",
    "You can see in the example code previously or here:\n",
    "    \n",
    "    key0 = list(cnv1.data.keys())[0]\n",
    "    data0 = cnv1.data[key0]\n",
    "    print(cnv1.data)\n",
    "\n",
    "various ways to interact with the `pycnv` data type.  "
   ]
  },
  {
   "cell_type": "code",
   "execution_count": 3,
   "metadata": {},
   "outputs": [],
   "source": [
    "# Try printing to see what is in your data"
   ]
  },
  {
   "cell_type": "markdown",
   "metadata": {},
   "source": [
    "## Fig. 1 Make a profile plot\n",
    "\n",
    "### Plot standard parameters\n",
    "    \n",
    "    pl.figure(1)\n",
    "    pl.clf()\n",
    "    pl.subplot(1,2,1)\n",
    "\n",
    "### Note that pycnv already did the TEOS-10 conversion to SA for you using gsw\n",
    "\n",
    "    pl.plot(cnv.SA,cnv.p)\n",
    "    pl.xlabel('Absolute salinity [' + cnv.SA_unit + ']')\n",
    "    pl.ylabel('Pressure [' + cnv.p_unit + ']')\n",
    "    pl.gca().invert_yaxis()  # Question: What happens if you comment out this line?\n",
    "\n",
    "\n",
    "Modify your plot:\n",
    "\n",
    "1. Add grid lines\n",
    "\n",
    "2. Limit the top of the plot to the surface (p=0)\n",
    "\n",
    "3. Add a second plot for temperature, to the right of the salinity plot\n",
    "\n",
    "4. Add a title to your figure, perhaps the station number, latitude and longitude\n",
    "\n",
    "5. Print the figure to a `*.png` file in the subdirectory `figures/`\n",
    "\n",
    "```{note}\n",
    "Naming convention should be `ex<X>fig<Y>_<Lastname>-seaocn.png` where you replace `<X>` with the exercise number, `<Y>` with the figure number, and `<Lastname>` with your last name.\n"
   ]
  },
  {
   "cell_type": "code",
   "execution_count": 4,
   "metadata": {},
   "outputs": [],
   "source": [
    "# Make your plot"
   ]
  },
  {
   "cell_type": "markdown",
   "metadata": {},
   "source": [
    "<hr>\n",
    "\n",
    "# Convert to netCDF and load with `xarray`\n",
    "\n",
    "- First, on your computer (after installing the [seabird (link)](https://github.com/castelao/seabird) package, run it on one `*.cnv` file to create a `*.nc` file.\n",
    "\n",
    "  ```\n",
    "  seabird cnv2nc MSM121_054_1db.cnv\n",
    "  ```\n",
    "  \n",
    "- `xarray` is a python package commonly used for ocean and climate science.  While you could continue working with the `pycnv` format, it will become a hindrance later.\n",
    "\n",
    "```{seealso}\n",
    "Read the docs: [xarray.DataArray](https://docs.xarray.dev/en/stable/generated/xarray.DataArray.html)\n",
    "```\n",
    "\n",
    "```{admonition} Alternative\n",
    "You can instead convert your `pycnv` format data into an `xarray` dataArray, but I suspect this may be slightly more complicated.\n",
    "```\n"
   ]
  },
  {
   "cell_type": "code",
   "execution_count": 5,
   "metadata": {},
   "outputs": [],
   "source": [
    "# Load your *.nc file\n"
   ]
  },
  {
   "cell_type": "markdown",
   "metadata": {},
   "source": [
    "## Work with data in xarray\n",
    "\n",
    "Use the `print` command to see what is in your data array.  A data array is a bit like a file folder, with different variable types in it.\n",
    "\n",
    "\n",
    "```{seealso}\n",
    "The [xarray user guide (external)](https://docs.xarray.dev/en/stable/user-guide/index.html), especially for this lab on\n",
    "- [Data structures](https://docs.xarray.dev/en/stable/user-guide/data-structures.html)\n",
    "- [Indexing and selecting data](https://docs.xarray.dev/en/stable/user-guide/indexing.html)\n",
    "```\n"
   ]
  },
  {
   "cell_type": "code",
   "execution_count": 6,
   "metadata": {},
   "outputs": [],
   "source": [
    "# Print your data"
   ]
  },
  {
   "cell_type": "markdown",
   "metadata": {},
   "source": [
    "## Calculate TEOS-10 parameters\n",
    "\n",
    "- Calculate absolute salinity and conservative temperature\n",
    "\n",
    "- Repeat for both primary and secondary channels\n",
    "\n",
    "\n"
   ]
  },
  {
   "cell_type": "code",
   "execution_count": 7,
   "metadata": {},
   "outputs": [],
   "source": [
    "# Calculate TEOS-10 parameters"
   ]
  },
  {
   "cell_type": "markdown",
   "metadata": {},
   "source": [
    "## Add these data to your xarray data array\n",
    "\n",
    "- Name them 'SA' and 'CT' for absolute salinity and conservative temperature\n",
    "\n",
    "- And 'SA2' and 'CT2' for secondary\n",
    "\n",
    "```{seealso}\n",
    "Some functions to get you started reading the `xarray` docs: https://docs.xarray.dev/en/latest/generated/xarray.Dataset.assign.html\n",
    "```"
   ]
  },
  {
   "cell_type": "code",
   "execution_count": 8,
   "metadata": {},
   "outputs": [],
   "source": [
    "# Add additional data fields\n"
   ]
  },
  {
   "cell_type": "markdown",
   "metadata": {},
   "source": [
    "## Save an xr.da to *.netCDF file\n",
    "\n",
    "Now that your data are in `xarray.DataArray` format, you can use tools within `xarray` to write a netCDF file.\n",
    "\n",
    "```{seealso}\n",
    "Function help for [xarray.Dataset.to_netcdf](https://docs.xarray.dev/en/latest/generated/xarray.Dataset.to_netcdf.html)\n",
    "```"
   ]
  },
  {
   "cell_type": "markdown",
   "metadata": {},
   "source": [
    "<hr>\n",
    "\n",
    "## Fig 2. Repeat the profile plot\n",
    "\n",
    "As above, but with the data in `xarray` format.  \n",
    "\n",
    "Modify your plot:\n",
    "\n",
    "1. Add grid lines\n",
    "\n",
    "2. Limit the top of the plot to the surface (p=0)\n",
    "\n",
    "3. Add a second plot for temperature, to the right of the salinity plot\n",
    "\n",
    "4. Add a title to your figure, perhaps the station number, latitude and longitude\n",
    "\n",
    "5. Export the figure using the figure naming convention, to the subfolder `figures/`.\n",
    "\n"
   ]
  },
  {
   "cell_type": "code",
   "execution_count": 9,
   "metadata": {},
   "outputs": [],
   "source": [
    "# Plot the data"
   ]
  },
  {
   "cell_type": "markdown",
   "metadata": {},
   "source": [
    "## Fig 3. Make a T-S diagram \n",
    "\n",
    "A T-S diagram has salinity on the x-axis and temperature on the y-axis, and contours of density (sigma_0) added.\n",
    "\n",
    "Modify your plot by\n",
    "\n",
    "1. Add contours of potential density\n",
    "    - Hint, you will need to create a vector of temperature and salinity spanning at least the ranges in the profile\n",
    "    - You will then need to use these gridded vectors to calculate potential density using the gsw toolbox\n",
    "\n",
    "2. Add contour labels for the density\n",
    "\n",
    "3. Add a title\n",
    "\n",
    "4. Export the figure using the figure-naming convention, to the subfolder `figures/`"
   ]
  },
  {
   "cell_type": "code",
   "execution_count": 10,
   "metadata": {},
   "outputs": [],
   "source": [
    "# Plot a T-S diagram"
   ]
  },
  {
   "cell_type": "markdown",
   "metadata": {},
   "source": [
    "## Clean up the plots\n",
    "\n",
    "Go back and clean up the plots if needed. This means, add a legend, axes labels, fix the time axis annotations if needed, and fix the fontsize to be legible even if the figure is small.\n",
    "\n",
    "```{note}\n",
    "In future exercises, you will be expected to clean up all plots without reminders.  All plots should have axes labelled (with units!), legible font size (bigger than you think) and appropriate axis ranges.  Legends should be used whenever more than one quantity is plotted.\n",
    "```\n",
    "\n",
    "- Re-export the figures with the same names as before.\n",
    "\n",
    "<hr>"
   ]
  },
  {
   "cell_type": "markdown",
   "metadata": {},
   "source": [
    "# Further calculations\n",
    "\n",
    "## Calculate buoyancy frequency\n",
    "\n",
    "Buoyancy frequency is a measure of how strongly a vertical profile is stratified.  It is calculated as\n",
    "    \n",
    "$$\n",
    "N^2 = \\partial b/\\partial z\n",
    "$$\n",
    "\n",
    "where buoyancy $b$ is\n",
    "\n",
    "$$\n",
    "b(z) = -g\\frac{\\rho(z)}{\\rho_0}\n",
    "$$\n",
    "and $g$ is gravitational acceleration, $\\rho(z)$ the profile of density, and $\\rho_0$ a background mean value of density.  (The exact value of $\\rho_0$ doesn't matter much.  Something like 1023 or 1025 kg/m$^3$ will do fine.)\n",
    "\n",
    "You can do this two ways.  \n",
    "\n",
    "1. Calculate density using the Gibb's seawater toolbox [GSW density](https://teos-10.github.io/GSW-Python/density.html), and\n",
    "\n",
    "2. Use the GSW function for buoyancy frequency under [GSW stability](https://teos-10.github.io/GSW-Python/stability.html).\n",
    "\n",
    "## Fig 4. Plot buoyancy frequency\n",
    "\n",
    "Try and plot both ways on the same axes.\n",
    "\n",
    "```{note}\n",
    "The convention in oceanography is that the N$^2$ axis is a log10 axis.  Do you have a noisy plot?  (Optional:) The way we calculate buoyancy frequency in practice is to use one of a few possible techniques to smooth the data. \n",
    "```\n",
    "\n",
    "3. Export your figure."
   ]
  },
  {
   "cell_type": "code",
   "execution_count": 11,
   "metadata": {},
   "outputs": [],
   "source": [
    "# Calculate buoyancy frequency"
   ]
  },
  {
   "cell_type": "code",
   "execution_count": 12,
   "metadata": {},
   "outputs": [],
   "source": [
    "# Plot buoyancy frequency"
   ]
  },
  {
   "cell_type": "markdown",
   "metadata": {},
   "source": [
    "## Calculate dynamic height\n",
    "\n",
    "Small variations in seawater density affect both ocean circulation and sea level.  According to the hydrostatic approximation, the vertical gradient of pressure is a function of density $\\rho$ and gravitational acceleration $g$ as\n",
    "\n",
    "$$\n",
    "\\frac{\\partial p}{\\partial z} = -\\rho g\n",
    "$$\n",
    "\n",
    "if we want to integrate to find the height of the surface above a profile of given density, we can calculate\n",
    "\n",
    "$$\n",
    "h = \\int_{p_r}^p\\frac{dp}{-\\rho g}\n",
    "$$\n",
    "\n",
    "which has units of meters.\n",
    "\n",
    "Dynamic height is a similar quantity, but accounts for gravity already (has units of m$^2$/s$^s$ and is used in the geostrophic velocity/transport calculation.\n",
    "\n",
    "```{seealso}\n",
    "See dynamic height calculations in the [GSW toolbox](https://teos-10.github.io/GSW-Python/geostrophy.html)\n",
    "```\n",
    "\n",
    "## Fig 5. Plot dynamic height\n",
    "\n",
    "1. Plot dynamic height against depth or pressure\n",
    "\n",
    "2. In a separate plot in the same figure, convert dynamic height to steric height (units of m) and plot it.\n",
    "\n",
    "3. Extra (optional): Calculate dynamic height manually by using the specific volume anomaly."
   ]
  },
  {
   "cell_type": "code",
   "execution_count": 13,
   "metadata": {},
   "outputs": [],
   "source": [
    "# Calculate dynamic height"
   ]
  },
  {
   "cell_type": "code",
   "execution_count": 14,
   "metadata": {},
   "outputs": [],
   "source": [
    "# Calculate steric height"
   ]
  },
  {
   "cell_type": "code",
   "execution_count": 15,
   "metadata": {},
   "outputs": [],
   "source": [
    "# Plot dynamic height + steric height"
   ]
  }
 ],
 "metadata": {
  "kernelspec": {
   "display_name": "Python [conda env:root] *",
   "language": "python",
   "name": "conda-root-py"
  },
  "language_info": {
   "codemirror_mode": {
    "name": "ipython",
    "version": 3
   },
   "file_extension": ".py",
   "mimetype": "text/x-python",
   "name": "python",
   "nbconvert_exporter": "python",
   "pygments_lexer": "ipython3",
   "version": "3.8.18"
  },
  "widgets": {
   "application/vnd.jupyter.widget-state+json": {
    "state": {},
    "version_major": 2,
    "version_minor": 0
   }
  }
 },
 "nbformat": 4,
 "nbformat_minor": 4
}
