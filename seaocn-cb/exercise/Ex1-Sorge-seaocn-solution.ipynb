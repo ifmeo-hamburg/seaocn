{
 "cells": [
  {
   "cell_type": "markdown",
   "id": "97a567f5-3223-41c4-86a2-76c5742edf80",
   "metadata": {},
   "source": [
    "# Exercise 1: Profile Data\n",
    "\n",
    "Aim: To work with vertical profile data and make some standard calculations.\n",
    "\n",
    "- Author: Yves\n",
    "- Purpose: Plot profile data\n",
    "- Date: 2024-04-02\n",
    "\n",
    "This **worked**!  But *not sure* what to do next.\n",
    "\n",
    "<hr>"
   ]
  },
  {
   "cell_type": "code",
   "execution_count": 1,
   "id": "551e5eb4-51c0-4e43-8f73-003fd9624fb6",
   "metadata": {},
   "outputs": [],
   "source": [
    "import warnings\n",
    "warnings.filterwarnings('ignore') # hide warnings in this notebook"
   ]
  },
  {
   "cell_type": "code",
   "execution_count": 2,
   "id": "13d272b1-8fdb-49de-864f-3974d675d014",
   "metadata": {},
   "outputs": [
    {
     "ename": "ModuleNotFoundError",
     "evalue": "No module named 'pycnv'",
     "output_type": "error",
     "traceback": [
      "\u001b[0;31m---------------------------------------------------------------------------\u001b[0m",
      "\u001b[0;31mModuleNotFoundError\u001b[0m                       Traceback (most recent call last)",
      "Cell \u001b[0;32mIn[2], line 7\u001b[0m\n\u001b[1;32m      5\u001b[0m \u001b[38;5;28;01mimport\u001b[39;00m \u001b[38;5;21;01mxarray\u001b[39;00m \u001b[38;5;28;01mas\u001b[39;00m \u001b[38;5;21;01mxr\u001b[39;00m\n\u001b[1;32m      6\u001b[0m \u001b[38;5;28;01mimport\u001b[39;00m \u001b[38;5;21;01mos\u001b[39;00m\n\u001b[0;32m----> 7\u001b[0m \u001b[38;5;28;01mimport\u001b[39;00m \u001b[38;5;21;01mpycnv\u001b[39;00m\n\u001b[1;32m      9\u001b[0m \u001b[38;5;28;01mfrom\u001b[39;00m \u001b[38;5;21;01mmatplotlib\u001b[39;00m\u001b[38;5;21;01m.\u001b[39;00m\u001b[38;5;21;01mticker\u001b[39;00m \u001b[38;5;28;01mimport\u001b[39;00m ScalarFormatter\n\u001b[1;32m     10\u001b[0m \u001b[38;5;28;01mfrom\u001b[39;00m \u001b[38;5;21;01mseabird\u001b[39;00m\u001b[38;5;21;01m.\u001b[39;00m\u001b[38;5;21;01mcnv\u001b[39;00m \u001b[38;5;28;01mimport\u001b[39;00m fCNV\n",
      "\u001b[0;31mModuleNotFoundError\u001b[0m: No module named 'pycnv'"
     ]
    }
   ],
   "source": [
    "import matplotlib.pyplot as plt\n",
    "import pandas as pd\n",
    "import gsw \n",
    "import numpy as np\n",
    "import xarray as xr\n",
    "import os\n",
    "import pycnv\n",
    "\n",
    "from matplotlib.ticker import ScalarFormatter\n",
    "from seabird.cnv import fCNV\n",
    "from seabird.netcdf import cnv2nc\n",
    "from datetime import datetime\n",
    "#from modules.nsq import adiabatic_leveling\n",
    "import mixsea as mx"
   ]
  },
  {
   "cell_type": "code",
   "execution_count": null,
   "id": "47870f9f-8f47-4804-bed8-072fdfbb6f12",
   "metadata": {},
   "outputs": [],
   "source": [
    "# Input file paths\n",
    "input_path_cnv = '../shared_data/MSM121_054_1db.cnv'\n",
    "input_path_cnv = '../data/MSM121_054_1db.cnv'\n",
    "\n",
    "# Output file paths for netCDF\n",
    "output_path_netcdf = '../data/MSM121_054_1db.nc'\n",
    "output_path_netcdf_extended = '../data/MSM121_054_1db_extended.nc'\n",
    "\n",
    "# Output file paths for figures\n",
    "output_path_profile_1 = './figures/Ex1-Sorge-profile-channel1-efw.png'\n",
    "output_path_profile_2 = './figures/Ex1-Sorge-profile-channel2-efw.png'\n",
    "output_path_ts = './figures/Ex1-Sorge-ts-diagram-efw.png'\n",
    "output_path_ts_with_depth = './figures/Ex1-Sorge-ts-diagram-with-depth-efw.png'\n",
    "output_path_buoyancy_frequency_linear_scale = './figures/Ex1-Sorge-buoyancy-frequency-linear-efw.png'\n",
    "output_path_buoyancy_frequency_log_scale = './figures/Ex1-Sorge-buoyancy-frequency-log-efw.png'\n",
    "output_path_dynamic_steric_height = './figures/Ex1-Sorge-dynamic-steric-height-efw.png'\n"
   ]
  },
  {
   "cell_type": "code",
   "execution_count": null,
   "id": "d21f5173-c20a-4137-a27b-95b1ed4ca76f",
   "metadata": {},
   "outputs": [],
   "source": [
    "# Number of the station\n",
    "station_number = 54"
   ]
  },
  {
   "cell_type": "markdown",
   "id": "f63dd983-e8bd-42d0-90ee-dc63611c4dd4",
   "metadata": {},
   "source": [
    "## Working with CNV original file"
   ]
  },
  {
   "cell_type": "markdown",
   "id": "d1f24219-3278-42ba-afa6-c483a8ea22d9",
   "metadata": {},
   "source": [
    "### Loading the file"
   ]
  },
  {
   "cell_type": "code",
   "execution_count": null,
   "id": "06928b3e-25ad-4f4e-810f-ae4646158467",
   "metadata": {},
   "outputs": [],
   "source": [
    "# Read data via pycnv\n",
    "cnv1 = pycnv.pycnv(input_path_cnv)"
   ]
  },
  {
   "cell_type": "code",
   "execution_count": null,
   "id": "94cf59d0-6c70-4a30-ae9f-7127767ff87a",
   "metadata": {},
   "outputs": [],
   "source": [
    "# Print some info to the screen\n",
    "print('Test if we are in the Baltic Sea (usage of different equation of state): ' + str(cnv1.baltic))\n",
    "print('Position of cast is: Longitude:', cnv1.lon,'Latitude:',cnv1.lat)\n",
    "print('Time of cast was:', cnv1.date)\n",
    "print('Number of sensor entries (len(cnv.data.keys())):',len(cnv1.data.keys()))\n",
    "print('Names of sensor entries (cnv.data.keys()):',cnv1.data.keys())"
   ]
  },
  {
   "cell_type": "markdown",
   "id": "74e47ecb-eec7-4338-a59c-2db8c5e79bba",
   "metadata": {},
   "source": [
    "### Printing the data"
   ]
  },
  {
   "cell_type": "code",
   "execution_count": null,
   "id": "7e158f4f-9b68-4b5e-b9a7-ae96a8214235",
   "metadata": {
    "scrolled": true
   },
   "outputs": [],
   "source": [
    "key0 = list(cnv1.data.keys())[0]\n",
    "data0 = cnv1.data[key0]\n",
    "print(cnv1.data)\n",
    "print(cnv1.data.keys())\n",
    "print(cnv1.units)\n"
   ]
  },
  {
   "cell_type": "markdown",
   "id": "daca7f99-8a9e-4833-800c-4f7e03ef2d54",
   "metadata": {},
   "source": [
    "### Plotting the data"
   ]
  },
  {
   "cell_type": "code",
   "execution_count": null,
   "id": "b58c2c13-a179-4508-bd33-de1f9a2b88ed",
   "metadata": {},
   "outputs": [],
   "source": [
    "def plot_vertical_profile(pressure: list, pressure_label: str = 'Pressure [db]', parameters: list = [], \n",
    "                parameter_labels: list = [], output_filename: str = None, title: str = None):\n",
    "    \"\"\" Plots salinity and temperature against pressure via two subplots. \"\"\"\n",
    "\n",
    "    # Consistency check\n",
    "    if len(parameters) != len(parameter_labels):\n",
    "        raise ValueError(\"Length of parameters list must be the same of parameter_labels list.\")\n",
    "    \n",
    "    # Create figure for two subplots\n",
    "    fig, axs = plt.subplots(1, len(parameters), figsize=(10,7), sharex=False)\n",
    "\n",
    "    def plot_subplot(ax, values, values_label, pressure, pressure_label, index):\n",
    "        \"\"\" Creates a subplot for a parameter \"\"\"\n",
    "        ax.plot(values, pressure, color='blue', linewidth=2)  # plot data values\n",
    "        ax.set_xlabel(values_label, fontsize=12) # label for x-axis\n",
    "        if index < 1:\n",
    "            ax.set_ylabel(pressure_label, fontsize=12) # label for y-axis\n",
    "        ax.invert_yaxis() # invert y-axis since we look down in the ocean\n",
    "        ax.grid(True, color='gray', linestyle='--', linewidth=0.5) # show grid\n",
    "        ax.tick_params(axis='both', labelsize=12) # format font size of ticks        \n",
    "\n",
    "    # Iterate over list of parameters\n",
    "    for index, parameter in enumerate(parameters):\n",
    "        \n",
    "        # Plot parameter as subplot\n",
    "        plot_subplot(axs[index], parameter, parameter_labels[index], pressure, pressure_label, index)\n",
    "        \n",
    "    # Adjust space between subplots\n",
    "    plt.subplots_adjust(wspace=(0.1+(len(parameters)-1)*0.2))\n",
    "\n",
    "    # Set title for the entire figure if given\n",
    "    if title:\n",
    "        fig.suptitle(title, fontsize=14)\n",
    "    \n",
    "    # Save plot if file name is given\n",
    "    if output_filename:\n",
    "        plt.savefig(output_filename)\n",
    "\n",
    "    # Show plot\n",
    "    plt.show()"
   ]
  },
  {
   "cell_type": "code",
   "execution_count": null,
   "id": "496aa48d-92ee-4110-aee7-3d91fa04072d",
   "metadata": {},
   "outputs": [],
   "source": [
    "plot_vertical_profile(\n",
    "    pressure = cnv1.p, \n",
    "    pressure_label = f\"Pressure [{cnv1.p_unit}]\",\n",
    "    parameters = [\n",
    "        cnv1.SA, # salinity\n",
    "        cnv1.T, # temperature\n",
    "        cnv1.data['sbeox0ML/L'], # oxygen\n",
    "    ],\n",
    "    parameter_labels = [\n",
    "        f\"Absolute salinity [{cnv1.SA_unit}]\",\n",
    "        f\"Temperature [{cnv1.T_unit}]\",\n",
    "        f\"Oxygen [{cnv1.units['sbeox0ML/L']}]\"\n",
    "    ],\n",
    "    title = f\"Station {station_number} ({cnv1.lat:.2f}°N, {cnv1.lon:.2f}°E)\"\n",
    ")"
   ]
  },
  {
   "cell_type": "markdown",
   "id": "936ad3be-712e-4d13-9ba0-2cb1705b7ac5",
   "metadata": {},
   "source": [
    "## Transforming to xarray"
   ]
  },
  {
   "cell_type": "markdown",
   "id": "0c5c5997-535c-47dd-9eea-6ce8520c68c1",
   "metadata": {},
   "source": [
    "### Convert CNV file to netCDF"
   ]
  },
  {
   "cell_type": "code",
   "execution_count": null,
   "id": "bbf42705-d069-43e5-b62e-47737ab8c0f2",
   "metadata": {},
   "outputs": [],
   "source": [
    "# Instead of using seabird package on CLI for conversion: \n",
    "# do it here programmatically, but check before whether the .nc file already exists \n",
    "if not os.path.exists(output_path_netcdf):\n",
    "    data = fCNV(input_path_cnv) # read .cnv file\n",
    "    cnv2nc(ds, output_path_netcdf) # write .nc file"
   ]
  },
  {
   "cell_type": "markdown",
   "id": "2e35539f-2fce-42c7-aa41-0bb8b4f879a2",
   "metadata": {},
   "source": [
    "### Open file and show contents"
   ]
  },
  {
   "cell_type": "code",
   "execution_count": null,
   "id": "82c4d838-a40f-4d24-a54b-0a6179c0cb65",
   "metadata": {
    "scrolled": true
   },
   "outputs": [],
   "source": [
    "ds = xr.open_dataset(output_path_netcdf)\n",
    "ds['PRES'].attrs['long_name'] = ds['PRES'].attrs['long_name'].replace(', Digiquartz', '') # remove digiquartz hint\n",
    "print(ds.info())"
   ]
  },
  {
   "cell_type": "markdown",
   "id": "1e1ad01b-2a1c-4983-850d-06b8acbf87cc",
   "metadata": {},
   "source": [
    "## Calculating TEOS-10 parameters\n",
    "\n",
    "Calculating absolute salinity and conservative temperature for both primary and secondary channels (sensors).\n"
   ]
  },
  {
   "cell_type": "code",
   "execution_count": null,
   "id": "7c6eebe2-123e-48fe-b0dd-fb8714b6fb0d",
   "metadata": {},
   "outputs": [],
   "source": [
    "def get_SA(conductivity: list, temperature: list, pressure: list, longitude: float, latitude: float) -> list:\n",
    "    \"\"\" Calculates absolute salinity \"\"\"\n",
    "    SP = gsw.SP_from_C(conductivity, temperature, pressure) # calculate practical salinity first\n",
    "    SA = gsw.SA_from_SP(SP, pressure, longitude, latitude) # calculate absolute salinity\n",
    "    return SA\n",
    "\n",
    "def get_CT(SA: list, temperature: list, pressure: list) -> list:\n",
    "    \"\"\" Calculates conservative temperature \"\"\"\n",
    "    CT = gsw.CT_from_t(SA, temperature, pressure) # calculate conservative temperature\n",
    "    return CT\n",
    "\n",
    "def get_PT(SA: list, temperature: list, pressure: list) -> list:\n",
    "    \"\"\" Calculates potential temperature \"\"\"\n",
    "    PT = gsw.pt0_from_t(SA, temperature, pressure)\n",
    "    return PT\n",
    "\n"
   ]
  },
  {
   "cell_type": "code",
   "execution_count": null,
   "id": "3b3f95c0-6188-4bd0-8844-5916242f71ce",
   "metadata": {},
   "outputs": [],
   "source": [
    "# Calculate depth\n",
    "ds['DEPTH'] = gsw.z_from_p(ds['PRES'], lat=ds.attrs['LATITUDE']) # convert pressure to depth"
   ]
  },
  {
   "cell_type": "markdown",
   "id": "ae396e25-c559-4fc9-9874-8f4a5a0c301a",
   "metadata": {},
   "source": [
    "### Channel/Sensors 1"
   ]
  },
  {
   "cell_type": "code",
   "execution_count": null,
   "id": "87a8d755-ab4d-4bdb-bef9-5bb24bf4577f",
   "metadata": {},
   "outputs": [],
   "source": [
    "# Calculate Absolute Salinity\n",
    "ds['SA1'] = (('scan',), get_SA(ds['c0mSPercm'].values, ds['TEMP'].values, \n",
    "    ds['PRES'].values, ds.attrs['LONGITUDE'], ds.attrs['LATITUDE']))\n",
    "ds['SA1'].attrs['long_name'] = 'Practical Salinity [g/kg]'\n",
    "\n",
    "# Calculate Conservative Temperature\n",
    "ds['CT1'] = (('scan',), get_CT(ds['SA1'].values, ds['TEMP'].values, ds['PRES'].values))\n",
    "ds['CT1'].attrs['long_name'] = 'Cons. Temperature [ITS-90, deg C]'\n",
    "\n",
    "# Calculate Potential Temperature\n",
    "ds['PT1'] = (('scan',), get_PT(ds['SA1'].values, ds['TEMP'].values, ds['PRES'].values))\n",
    "ds['PT1'].attrs['long_name'] = 'Potential Temperature [ITS-90, deg C]'\n"
   ]
  },
  {
   "cell_type": "code",
   "execution_count": null,
   "id": "3284f297-ac83-4cc8-ac4f-381316e95991",
   "metadata": {
    "scrolled": true
   },
   "outputs": [],
   "source": [
    "plot_vertical_profile(\n",
    "    pressure = ds['PRES'], \n",
    "    pressure_label = ds['PRES'].attrs['long_name'],\n",
    "    parameters = [\n",
    "        ds['SA1'], # salinity\n",
    "        ds['CT1'], # temperature\n",
    "        ds['oxygen_ml_L'], # oxygen\n",
    "    ],\n",
    "    parameter_labels = [\n",
    "        ds['CT1'].attrs['long_name'],\n",
    "        ds['SA1'].attrs['long_name'],\n",
    "        ds['oxygen_ml_L'].attrs['long_name']\n",
    "    ],\n",
    "    title = f\"Station {station_number} ({ds.attrs['LATITUDE']:.2f}°N, {ds.attrs['LONGITUDE']:.2f}°E)\",\n",
    "    output_filename = output_path_profile_1\n",
    ")"
   ]
  },
  {
   "cell_type": "markdown",
   "id": "163606d2-a268-4197-abb7-8140628d879f",
   "metadata": {},
   "source": [
    "### Channel/Sensors 2"
   ]
  },
  {
   "cell_type": "code",
   "execution_count": null,
   "id": "2aa462f2-ec7c-4b94-8557-6ef265e0ccb5",
   "metadata": {},
   "outputs": [],
   "source": [
    "# Calculate Absolute Salinity\n",
    "ds['SA2'] = (('scan',), get_SA(ds['c1mSPercm'].values, ds['TEMP2'].values, \n",
    "    ds['PRES'].values, ds.attrs['LONGITUDE'], ds.attrs['LATITUDE']))\n",
    "ds['SA2'].attrs['long_name'] = 'Practical Salinity 2 [g/kg]'\n",
    "\n",
    "# Calculate Conservative Temperature\n",
    "ds['CT2'] = (('scan',), get_CT(ds['SA2'].values, ds['TEMP2'].values, ds['PRES'].values))\n",
    "ds['CT2'].attrs['long_name'] = 'Cons. Temperature 2 [ITS-90, deg C]'\n",
    "\n",
    "# Calculate Potential Temperature\n",
    "ds['PT2'] = (('scan',), get_PT(ds['SA2'].values, ds['TEMP2'].values, ds['PRES'].values))\n",
    "ds['PT2'].attrs['long_name'] = 'Potential Temperature 2 [ITS-90, deg C]'"
   ]
  },
  {
   "cell_type": "code",
   "execution_count": null,
   "id": "87529669-a94d-4066-8d33-9e537e2a406f",
   "metadata": {},
   "outputs": [],
   "source": [
    "plot_vertical_profile(\n",
    "    pressure = ds['PRES'], \n",
    "    pressure_label = ds['PRES'].attrs['long_name'],\n",
    "    parameters = [\n",
    "        ds['SA2'], # salinity 2\n",
    "        ds['CT2'], # temperature 2\n",
    "        ds['sbeox1MLPerL'], # oxygen 2\n",
    "    ],\n",
    "    parameter_labels = [\n",
    "        ds['CT2'].attrs['long_name'],\n",
    "        ds['SA2'].attrs['long_name'],\n",
    "        ds['sbeox1MLPerL'].attrs['long_name']\n",
    "    ],\n",
    "    title = f\"Station {station_number} ({ds.attrs['LATITUDE']:.2f}°N, {ds.attrs['LONGITUDE']:.2f}°E)\",\n",
    "    output_filename = output_path_profile_2\n",
    ")"
   ]
  },
  {
   "cell_type": "markdown",
   "id": "bca3ef18-a6d0-4993-8c92-88e08177bd8e",
   "metadata": {},
   "source": [
    "### Saving xarray to netCDF file"
   ]
  },
  {
   "cell_type": "code",
   "execution_count": null,
   "id": "960fa426-eb68-45df-8159-288f79ae2407",
   "metadata": {},
   "outputs": [],
   "source": [
    "ds.to_netcdf(output_path_netcdf_extended)"
   ]
  },
  {
   "cell_type": "markdown",
   "id": "4534b064-0832-4be7-8300-39b89302b39b",
   "metadata": {},
   "source": [
    "## T-S Diagram\n",
    "\n",
    "A T-S diagram has salinity on the x-axis and temperature on the y-axis, and contours of density (sigma_0) added."
   ]
  },
  {
   "cell_type": "code",
   "execution_count": null,
   "id": "2ad28d27-6610-4ed3-b000-a9a790878bad",
   "metadata": {},
   "outputs": [],
   "source": [
    "\n",
    "def plot_ts_diagram(salinity: list, temperature: list, depth: list = None, output_file: str = None, title: str = 'T-S Diagram', \n",
    "            dot_size: int = 70, show_density_isolines: bool = True, show_lines_between_dots: bool = True,\n",
    "            label_yaxis: str = 'Temperature [°C]', label_xaxis: str = 'Salinity [g/kg]',\n",
    "            show_grid: bool = True, figsize=(10, 7), linewidth: float = 0.5, linecolor: str = 'blue', \n",
    "            depth_colormap: str = None):\n",
    "    \"\"\" Plots a T-S diagram. \"\"\"\n",
    "\n",
    "    def plot_density_isolines(temperature: list, salinity: list, plt):\n",
    "        \"\"\" Plots density isolines into a given T-S diagram plot. \"\"\"\n",
    "    \n",
    "        def calculate_padding(min_val, max_val, padding=0.1):\n",
    "            \"\"\" Calculates padding with min and max values. \"\"\"\n",
    "            width = max_val - min_val\n",
    "            return min_val - (width * padding), max_val + (width * padding)\n",
    "        \n",
    "        t_min, t_max = calculate_padding(np.min(temperature), np.max(temperature))\n",
    "        s_min, s_max = calculate_padding(np.min(salinity), np.max(salinity))\n",
    "    \n",
    "        # Determine dimensions based on the wider range to maintain aspect ratio\n",
    "        if (t_max - t_min) > (s_max - s_min):\n",
    "            xdim, ydim = 150, int(np.round(150 * (s_max - s_min) / (t_max - t_min)))\n",
    "        else:\n",
    "            ydim, xdim = 150, int(np.round(150 * (t_max - t_min) / (s_max - s_min)))\n",
    "    \n",
    "        # Create temp and salt vectors of appropiate dimensions\n",
    "        ti = np.linspace(t_min, t_max, ydim)\n",
    "        si = np.linspace(s_min, s_max, xdim)\n",
    "    \n",
    "        # Use meshgrid to create a 2D grid of si and ti, then vectorize the density calculation\n",
    "        SI, TI = np.meshgrid(si, ti)\n",
    "        density = gsw.rho(SI, TI, 0) - 1000  # Subtract 1000 to convert density to sigma-t directly\n",
    "    \n",
    "        # Plot isolines\n",
    "        CS = plt.contour(SI, TI, density, linewidths=1, linestyles='dashed', colors='gray')\n",
    "        plt.clabel(CS, fontsize=10, inline=1, fmt='%1.2f')  # Label every second level\n",
    "    \n",
    "        # Add sigma_0 in gray in the left upper corner\n",
    "        plt.text(0.02, 0.95, r\"$\\sigma_0$\", color='gray', fontsize=20, \n",
    "                 fontweight='bold', transform=plt.gca().transAxes)\n",
    "    \n",
    "    # Create figure\n",
    "    fig = plt.figure(figsize=figsize)\n",
    "\n",
    "    # Create a line plot of temperature vs. salinity\n",
    "    if show_lines_between_dots:\n",
    "        plt.plot(salinity, temperature, linestyle='-', color=linecolor, linewidth=linewidth)\n",
    "\n",
    "    # Create a scatter plot of temperature vs. salinity\n",
    "    if depth_colormap == None:\n",
    "        plt.scatter(salinity, temperature, s=dot_size, color='blue')\n",
    "    else:\n",
    "        plt.scatter(salinity, temperature, s=dot_size, c=depth, cmap=depth_colormap)\n",
    "        plt.colorbar(label='Depth [m]') # Plot legend for colormap\n",
    "\n",
    "    # Add grid lines to the plot for better readability\n",
    "    if show_grid:\n",
    "        plt.grid(color='gray', linestyle='--', linewidth=0.5)\n",
    "\n",
    "    # Set font size for ticks\n",
    "    plt.tick_params(axis='both', labelsize=12)\n",
    "   \n",
    "    # Set plot labels and title\n",
    "    if title:\n",
    "        plt.title(title, fontsize=14, pad=30)\n",
    "    plt.xlabel(label_xaxis, fontsize=12)\n",
    "    plt.ylabel(label_yaxis, fontsize=12)\n",
    "\n",
    "    # Integrate density isolines if wanted\n",
    "    if show_density_isolines:\n",
    "        plot_density_isolines(temperature, salinity, plt)\n",
    "\n",
    "    # Save the plot as file\n",
    "    if output_file:\n",
    "        plt.savefig(output_file)\n",
    "\n",
    "    # Show the plot\n",
    "    plt.show()\n",
    "\n",
    "    "
   ]
  },
  {
   "cell_type": "markdown",
   "id": "f79ed67e-af5f-4dac-aaa7-cd5e373da97a",
   "metadata": {},
   "source": [
    "### Plot without depth"
   ]
  },
  {
   "cell_type": "code",
   "execution_count": null,
   "id": "fbeccbc6-ecd3-4caa-a6a7-86cef3e5d3a5",
   "metadata": {},
   "outputs": [],
   "source": [
    "plot_ts_diagram(ds['SA2'].values, ds['PT2'].values, \n",
    "    show_density_isolines=True, \n",
    "    show_grid=False, \n",
    "    output_file=output_path_ts, dot_size=35,\n",
    "    title = f\"T-S Diagram for Station {station_number} ({ds.attrs['LATITUDE']:.2f}°N, {ds.attrs['LONGITUDE']:.2f}°E)\",\n",
    "    label_yaxis='Potential Temperature [°C]',\n",
    "    label_xaxis='Absolute Salinity [g/kg]'\n",
    ")"
   ]
  },
  {
   "cell_type": "markdown",
   "id": "40a8869f-5faf-454b-a361-f0f6b3126451",
   "metadata": {},
   "source": [
    "### Plot with depth"
   ]
  },
  {
   "cell_type": "code",
   "execution_count": null,
   "id": "c65e60e7-0d95-4470-be02-67f2342920fb",
   "metadata": {},
   "outputs": [],
   "source": [
    "plot_ts_diagram(ds['SA2'].values, ds['PT2'].values, \n",
    "    show_density_isolines=True, \n",
    "    show_grid=False, \n",
    "    output_file=output_path_ts_with_depth, dot_size=75,\n",
    "    title = f\"T-S Diagram for Station {station_number} ({ds.attrs['LATITUDE']:.2f}°N, {ds.attrs['LONGITUDE']:.2f}°E)\",\n",
    "    label_yaxis='Potential Temperature [°C]',\n",
    "    label_xaxis='Absolute Salinity [g/kg]',\n",
    "    depth_colormap='winter', depth=(ds['DEPTH']),\n",
    "    linecolor='gray'\n",
    ")"
   ]
  },
  {
   "cell_type": "markdown",
   "id": "09fff8ea-500c-4fae-a1da-bc02c202227b",
   "metadata": {},
   "source": [
    "## Buoyancy Frequency\n",
    "\n",
    "Buoyancy frequency is a measure of how strongly a vertical profile is stratified."
   ]
  },
  {
   "cell_type": "markdown",
   "id": "1f0753c0-34d1-42b3-a442-5b6cf9a76521",
   "metadata": {},
   "source": [
    "### Calculation"
   ]
  },
  {
   "cell_type": "markdown",
   "id": "e2d9a0bb-ff76-4739-9c97-5628095be2c7",
   "metadata": {},
   "source": [
    "#### Method 1: Manually\n",
    "\n",
    "Calculate density using the Gibb’s seawater toolbox [GSW density](https://teos-10.github.io/GSW-Python/density.html)."
   ]
  },
  {
   "cell_type": "code",
   "execution_count": null,
   "id": "894b5b17-749b-4521-bf60-94b9d574d907",
   "metadata": {},
   "outputs": [],
   "source": [
    "# Method 1: \n",
    "g = 9.81  # gravitational acceleration, m/s^2\n",
    "rho_0 = 1025  # reference density, kg/m^3\n",
    "depth = ds['DEPTH']\n",
    "rho = gsw.rho(ds['SA2'], ds['CT2'], ds['PRES']) # calculate in-situ density\n",
    "b = -g * (rho - rho_0) / rho_0 # calculate buoyancy\n",
    "\n",
    "# Numerically differentiate buoyancy with respect to depth to get N^2\n",
    "# Using central differences for interior points and forward/backward differences for the endpoints\n",
    "N2_method1 = np.zeros_like(b)\n",
    "N2_method1[1:-1] = (b[2:] - b[:-2]) / (depth[2:] - depth[:-2])\n",
    "N2_method1[0] = (b[1] - b[0]) / (depth[1] - depth[0])\n",
    "N2_method1[-1] = (b[-1] - b[-2]) / (depth[-1] - depth[-2])\n",
    "\n",
    "rho=rho*1000\n",
    "N2_method1 = np.zeros_like(b)\n",
    "N2_method1[1:-1] = (rho[2:] - rho[:-2]) / (depth[2:] - depth[:-2])\n",
    "N2_method1[0] = (rho[1] - rho[0]) / (depth[1] - depth[0])\n",
    "N2_method1[-1] = (rho[-1] - rho[-2]) / (depth[-1] - depth[-2])\n",
    "N2_method1 = -g/rho_0*N2_method1\n",
    "N2_method1 = N2_method1/1000\n",
    "\n",
    "#b = b[1:5]\n",
    "#b[0:4]=[0,6,9,12]\n",
    "#depth[0:4]=[1,2,3,4]\n",
    "##depth = depth[1:5]\n",
    "#N2_method1 = np.zeros_like(b)\n",
    "#N2_method1[1:-1] = (b[2:] - b[:-2]) / (depth[2:] - depth[:-2])\n",
    "#N2_method1[0] = (b[1] - b[0]) / (depth[1] - depth[0])\n",
    "#N2_method1[-1] = (b[-1] - b[-2]) / (depth[-1] - depth[-2])\n",
    "\n",
    "#print(b[2:] - b[:-2])\n",
    "#print(depth[2:] - depth[:-2])\n",
    "#print(N2_method1[1:-1])"
   ]
  },
  {
   "cell_type": "code",
   "execution_count": null,
   "id": "6bda9717-90e9-4ec9-9511-cf4f75130643",
   "metadata": {},
   "outputs": [],
   "source": [
    "list(ds.keys())"
   ]
  },
  {
   "cell_type": "markdown",
   "id": "343926be-c9eb-4e46-9af2-292ae8e8725b",
   "metadata": {},
   "source": [
    "#### Method 2: GSW function\n",
    "\n",
    "Using the GSW function for buoyancy frequency `gsw.Nsquared()` under [GSW stability](https://teos-10.github.io/GSW-Python/stability.html)."
   ]
  },
  {
   "cell_type": "code",
   "execution_count": null,
   "id": "06004659-0a4d-4320-89e7-7c171f2aa3c5",
   "metadata": {},
   "outputs": [],
   "source": [
    "# Method 2: Calculate buoyancy frequency (N^2) using GSW's function\n",
    "N2_method2, p_mid = gsw.Nsquared(ds['SA2'], ds['CT2'], ds['PRES'], lat=ds.attrs['LATITUDE']) # function returns N^2 and the midpoint pressure levels (p_mid)"
   ]
  },
  {
   "cell_type": "markdown",
   "id": "ded8e2f8-4495-4c90-8a68-0f9b377483b7",
   "metadata": {},
   "source": [
    "#### Method 3: Adiabatic Leveling\n",
    "As a more advanced method 3, the Bray and Fofonoff (1981) method - sometimes called \"Fofonoff levelling\" or here \"adiabatic levelling\" - is used. It smoothes the density locally: function `nsq.adiabatic_levelling` from [mixsea](https://github.com/modscripps/mixsea/blob/main/mixsea/nsq.py) with order 1 polynomial:"
   ]
  },
  {
   "cell_type": "code",
   "execution_count": null,
   "id": "7736b15b-76cf-4ec1-b800-2f384f9ee67c",
   "metadata": {},
   "outputs": [],
   "source": [
    "# Method 3: Applying adiabatic leveling\n",
    "N2_method3 = mx.nsq.adiabatic_leveling(ds['PRES'].values, ds['PSAL2'].values, ds['TEMP2'].values, ds.attrs['LONGITUDE'], ds.attrs['LATITUDE'])\n",
    "N2_method3b = mx.nsq.adiabatic_leveling(ds['PRES'].values, ds['SA2'].values, ds['CT2'].values, ds.attrs['LONGITUDE'], ds.attrs['LATITUDE'])\n"
   ]
  },
  {
   "cell_type": "markdown",
   "id": "53ed8c0d-514d-4ea7-a697-1d07b2191308",
   "metadata": {},
   "source": [
    "### Plotting"
   ]
  },
  {
   "cell_type": "code",
   "execution_count": null,
   "id": "364b7b5a-b43d-45c5-9522-32bbf02b24b0",
   "metadata": {},
   "outputs": [],
   "source": [
    "def plot_buoyancy_frequency(depth: list, depth_label: str = 'Depth [m]',\n",
    "                            parameters: list = [],\n",
    "                            parameter_labels: list = [],\n",
    "                            output_filename: str = None, title: str = None, \n",
    "                            log_scale_for_xaxis: bool = False):\n",
    "    \"\"\" Plots buoyancy frequency against depth via two subplots. \"\"\"\n",
    "\n",
    "    # Consistency check\n",
    "    if len(parameters) != len(parameter_labels):\n",
    "        raise ValueError(\"Length of parameters list must be the same of parameter_labels list.\")\n",
    "    \n",
    "    # Create figure for three subplots\n",
    "    fig, axs = plt.subplots(1, len(parameters), figsize=(10,7), sharex=True)\n",
    "\n",
    "    def plot_subplot(ax, values: list, values_label: str, depth: list, depth_label: str, log_scale_for_axis: bool, index: int):\n",
    "        \"\"\" Creates a subplot for a parameter \"\"\"\n",
    "        ax.plot(values, depth, color='blue')  # plot parameter values\n",
    "        ax.set_xlabel(values_label, fontsize=12) # label for x-axis\n",
    "        if index < 1:\n",
    "            ax.set_ylabel(depth_label, fontsize=12) # label for y-axis\n",
    "        ax.invert_yaxis() # invert y-axis since we look down in the ocean\n",
    "        ax.grid(True, color='gray', linestyle='--', linewidth=0.5) # show grid\n",
    "        ax.tick_params(axis='both', labelsize=12) # format font size of ticks\n",
    "        if log_scale_for_xaxis:\n",
    "            ax.set_xscale('log')  # Apply log-10 scale to x-axis      \n",
    "            \n",
    "    # Iterate over list of parameters\n",
    "    for index, parameter in enumerate(parameters):\n",
    "\n",
    "        # Plot parameter as subplot\n",
    "        plot_subplot(axs[index], parameter, parameter_labels[index], depth, depth_label, log_scale_for_xaxis, index)\n",
    "    \n",
    "    # Adjust space between subplots\n",
    "    plt.subplots_adjust(wspace=0.1+((len(parameters)-1)*0.2))\n",
    "\n",
    "    # Set title for the entire figure if given\n",
    "    if title:\n",
    "        fig.suptitle(title, fontsize=14)\n",
    "    \n",
    "    # Save plot if file name is given\n",
    "    if output_filename:\n",
    "        plt.savefig(output_filename)\n",
    "\n",
    "    # Show plot\n",
    "    plt.show()\n",
    "\n",
    "def plot_buoyancy_frequencyB(depth: list, depth_label: str = 'Depth [m]',\n",
    "                            parameters: list = [],\n",
    "                            parameter_labels: list = [],\n",
    "                            output_filename: str = None, title: str = None, \n",
    "                            log_scale_for_xaxis: bool = False):\n",
    "    \"\"\" Plots buoyancy frequency against depth via two subplots. \"\"\"\n",
    "\n",
    "    # Consistency check\n",
    "    if len(parameters) != len(parameter_labels):\n",
    "        raise ValueError(\"Length of parameters list must be the same of parameter_labels list.\")\n",
    "    \n",
    "    # Create figure for three subplots\n",
    "    fig, ax = plt.subplots(1, 1, figsize=(10,7))\n",
    "\n",
    "    def plot_subplot(ax, values: list, values_label: str, depth: list, depth_label: str, log_scale_for_axis: bool, index: int):\n",
    "        \"\"\" Creates a subplot for a parameter \"\"\"\n",
    "        ax.plot(values, depth)  # plot parameter values\n",
    "        ax.set_xlabel(values_label, fontsize=12) # label for x-axis\n",
    "        if index < 1:\n",
    "            ax.set_ylabel(depth_label, fontsize=12) # label for y-axis\n",
    "        ax.invert_yaxis() # invert y-axis since we look down in the ocean\n",
    "        ax.grid(True, color='gray', linestyle='--', linewidth=0.5) # show grid\n",
    "        ax.tick_params(axis='both', labelsize=12) # format font size of ticks\n",
    "        if log_scale_for_xaxis:\n",
    "            ax.set_xscale('log')  # Apply log-10 scale to x-axis      \n",
    "            \n",
    "    # Iterate over list of parameters\n",
    "    for index, parameter in enumerate(parameters):\n",
    "\n",
    "        # Plot parameter as subplot\n",
    "        plot_subplot(ax, parameter, parameter_labels[index], depth, depth_label, log_scale_for_xaxis, index)\n",
    "    \n",
    "    # Adjust space between subplots\n",
    "    plt.subplots_adjust(wspace=0.1+((len(parameters)-1)*0.2))\n",
    "\n",
    "    # Set title for the entire figure if given\n",
    "    if title:\n",
    "        fig.suptitle(title, fontsize=14)\n",
    "    \n",
    "    # Save plot if file name is given\n",
    "    if output_filename:\n",
    "        plt.savefig(output_filename)\n",
    "\n",
    "    # Show plot\n",
    "    plt.show()"
   ]
  },
  {
   "cell_type": "markdown",
   "id": "a0ae76e2-aece-4223-b536-d209b9f3d846",
   "metadata": {},
   "source": [
    "#### Using linear scale for x-axis"
   ]
  },
  {
   "cell_type": "code",
   "execution_count": null,
   "id": "7d55e016-35c6-44fe-8c96-caaadc11bfff",
   "metadata": {},
   "outputs": [],
   "source": [
    "plot_buoyancy_frequency(\n",
    "    np.abs(ds['DEPTH'][0:-1]),\n",
    "    parameters = [\n",
    "        N2_method1[0:-1], # method 1\n",
    "        N2_method2, # method 2\n",
    "        N2_method3[0:-1] # method 3\n",
    "    ],\n",
    "    parameter_labels = [\n",
    "        'N2 (method 1) [rad²/s²]', \n",
    "        'N2 (method 2) [rad²/s²]', \n",
    "        'N2 (method 3) [rad²/s²]'\n",
    "    ],\n",
    "    title=f\"Buoyancy Frequency for Station {station_number} ({ds.attrs['LATITUDE']:.2f}°N, {ds.attrs['LONGITUDE']:.2f}°E)\",\n",
    "    output_filename = output_path_buoyancy_frequency_linear_scale, \n",
    "    log_scale_for_xaxis = False\n",
    ")\n"
   ]
  },
  {
   "cell_type": "markdown",
   "id": "d220c343-499a-4aef-b3e5-b38559119960",
   "metadata": {},
   "source": [
    "#### Using log-10 scale for x-axis"
   ]
  },
  {
   "cell_type": "code",
   "execution_count": null,
   "id": "9e060f9c-a0d1-4e4e-afa9-60186f1974eb",
   "metadata": {},
   "outputs": [],
   "source": [
    "plot_buoyancy_frequencyB(\n",
    "    np.abs(ds['DEPTH'][0:-1]),\n",
    "    parameters = [\n",
    "        N2_method2, # method 2\n",
    "        N2_method1[0:-1], # method 1\n",
    "        N2_method3[0:-1], # method 3 - from practical sal\n",
    "        N2_method3b[0:-1] # method 3 - from SA\n",
    "    ],\n",
    "    parameter_labels = [\n",
    "        'N2 (method 1) [rad²/s²]', \n",
    "        'N2 (method 2) [rad²/s²]', \n",
    "        'N2 (method 3) [rad²/s²]',\n",
    "        'N2 (method 3) [rad²/s²]'\n",
    "    ],\n",
    "    title=f\"Buoyancy Frequency for Station {station_number} ({ds.attrs['LATITUDE']:.2f}°N, {ds.attrs['LONGITUDE']:.2f}°E)\",\n",
    "    output_filename = output_path_buoyancy_frequency_log_scale, \n",
    "    log_scale_for_xaxis = True\n",
    ")\n"
   ]
  },
  {
   "cell_type": "markdown",
   "id": "ee5db6e3-41c6-42ac-acd3-b60b5eee4493",
   "metadata": {},
   "source": [
    "## Dynamic and Steric Height"
   ]
  },
  {
   "cell_type": "markdown",
   "id": "9f741b46-22c2-4980-a983-ff3eec95705f",
   "metadata": {},
   "source": [
    "### Calculation\n",
    "\n",
    "Dynamic height is related to the geostrophic current's strength and direction, providing a measure of the ocean's relative circulation patterns. The output from this function is typically in units of m^2s^-2, representing the geopotential difference between two points."
   ]
  },
  {
   "cell_type": "code",
   "execution_count": null,
   "id": "9b20bbac-38f8-41aa-94bd-a73b84c237e0",
   "metadata": {},
   "outputs": [],
   "source": [
    "dynamic_height = gsw.geostrophy.geo_strf_dyn_height(ds['SA2'],ds['CT2'], ds['PRES'])"
   ]
  },
  {
   "cell_type": "markdown",
   "id": "de9329f8-69d8-44af-97ed-4d1d8614f1e4",
   "metadata": {},
   "source": [
    "Steric height is a measure of the change in height of a water column due to changes in temperature and salinity, essentially representing the thermal expansion and contraction and the effect of salinity changes on the volume of a column of seawater. Steric height is expressed in meters (m).  To convert dynamic height in m^2s⁻2 to steric height in meters (m), the following relationship can be used which involves the acceleration due to gravity (g):"
   ]
  },
  {
   "cell_type": "code",
   "execution_count": null,
   "id": "9cdabca9-c5c6-4b93-a375-7709e5069ad8",
   "metadata": {},
   "outputs": [],
   "source": [
    "g = 9.81\n",
    "steric_height = dynamic_height / g"
   ]
  },
  {
   "cell_type": "markdown",
   "id": "ee7b6221-3ac8-488c-a08e-191c45baa9be",
   "metadata": {},
   "source": [
    "### Plotting"
   ]
  },
  {
   "cell_type": "code",
   "execution_count": null,
   "id": "1e9bbbd4-36d6-436c-8efe-2dcd520a3e22",
   "metadata": {},
   "outputs": [],
   "source": [
    "def plot_dynamic_and_steric_height(dynamic_height, steric_height, depth, \n",
    "                depth_label='Depth [m]', output_filename=None, title=None):\n",
    "    \"\"\" Plots dynamic height and steric height against depth via two subplots. \"\"\"\n",
    "    \n",
    "    # Create figure for two subplots\n",
    "    fig, axs = plt.subplots(1, 2, figsize=(10,7), sharex=False)\n",
    "\n",
    "    def plot_subplot(ax, values: list, values_label: list, depth, depth_label: str, index: int):\n",
    "        \"\"\" Creates a subplot for a parameter \"\"\"\n",
    "        ax.plot(values, depth, color='blue')  # plot parameter values\n",
    "        ax.set_xlabel(values_label, fontsize=12) # label for x-axis\n",
    "        if index < 1:\n",
    "            ax.set_ylabel(depth_label, fontsize=12) # label for y-axis\n",
    "        ax.invert_yaxis() # invert y-axis since we look down in the ocean\n",
    "        ax.grid(True, color='gray', linestyle='--', linewidth=0.5) # show grid\n",
    "        ax.tick_params(axis='both', labelsize=12) # format font size of ticks\n",
    "\n",
    "    # Plot dynamic height\n",
    "    plot_subplot(axs[0], dynamic_height, 'Dynamic height [m$^2$s$^{-2}$]', depth, depth_label, 0)\n",
    "\n",
    "    # Plot steric height\n",
    "    plot_subplot(axs[1], steric_height, 'Steric height [m$^2$s$^{-2}$]', depth, depth_label, 1)\n",
    "    \n",
    "    # Adjust space between subplots\n",
    "    plt.subplots_adjust(wspace=0.3)\n",
    "\n",
    "    # Set title for the entire figure if given\n",
    "    if title:\n",
    "        fig.suptitle(title, fontsize=14)\n",
    "    \n",
    "    # Save plot if file name is given\n",
    "    if output_filename:\n",
    "        plt.savefig(output_filename)\n",
    "\n",
    "    # Show plot\n",
    "    plt.show()\n",
    "\n"
   ]
  },
  {
   "cell_type": "code",
   "execution_count": null,
   "id": "53fe1fb0-4431-4bad-8007-a305dcd48e2d",
   "metadata": {},
   "outputs": [],
   "source": [
    "plot_dynamic_and_steric_height(dynamic_height, steric_height, np.abs(depth), \n",
    "        title=f\"Dynamic and Steric Height for Station {station_number} ({ds.attrs['LATITUDE']:.2f}°N, {ds.attrs['LONGITUDE']:.2f}°E)\",\n",
    "        output_filename = output_path_dynamic_steric_height\n",
    ")"
   ]
  }
 ],
 "metadata": {
  "kernelspec": {
   "display_name": "Python [conda env:root] *",
   "language": "python",
   "name": "conda-root-py"
  },
  "language_info": {
   "codemirror_mode": {
    "name": "ipython",
    "version": 3
   },
   "file_extension": ".py",
   "mimetype": "text/x-python",
   "name": "python",
   "nbconvert_exporter": "python",
   "pygments_lexer": "ipython3",
   "version": "3.8.18"
  }
 },
 "nbformat": 4,
 "nbformat_minor": 5
}
