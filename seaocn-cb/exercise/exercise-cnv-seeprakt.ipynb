{
 "cells": [
  {
   "cell_type": "markdown",
   "metadata": {},
   "source": [
    "# Exercise 8 - CTD data from Büsum\n",
    "\n",
    "**Aim:** To load the CTD data from the Seepraktikum\n",
    "\n",
    "**Data:** `*.cnv` files from Büsum, from the Seepraktikum 2024\n",
    "\n",
    "**Directions:** Answer the questions, create an `*.ipynb` and 5 figures.  \n",
    "\n",
    "**Measure of success:** Some plots of temperature and salinity, ideally with tidal phase and location notes.\n",
    "\n",
    "<hr>"
   ]
  },
  {
   "cell_type": "markdown",
   "metadata": {},
   "source": [
    "## Create a notebook\n",
    "\n",
    "Create an `*.ipynb` containing the commands for this assignment, or copy this file.  \n",
    "\n",
    "```{admonition} File naming convention\n",
    "Name your python notebook something useful `ex<X>-<slug>-<Lastname>-seaocn.ipynb` where you replace `<X>` with the exercise number and `<slug>` with the short slug to name the topic, and `<Lastname>` with your last name.\n",
    "\n",
    "Figures should be named something like `ex<X>fig<Y>-<Lastname>-<slug>-seaocn.png` where you replace `<X>` with the exercise number, `<Y>` with the figure number, and `<Lastname>` with your last name.\n",
    "\n",
    "```"
   ]
  },
  {
   "cell_type": "markdown",
   "metadata": {},
   "source": [
    "### Import necessary packages.  \n",
    "\n",
    "For example, `matplotlib` and `pandas` and `numpy` and `xarray`.  You may also need\n",
    "```\n",
    "import matplotlib.pyplot as plt\n",
    "import pandas as pd\n",
    "import gsw \n",
    "import numpy as np\n",
    "import xarray as xr\n",
    "from datetime import datetime\n",
    "```\n",
    "\n",
    "Here you have two options (there may be more) for working with `*.cnv` files.  They are `pycnv` and `seabird`, as\n",
    "- [pycnv (link)](https://pypi.org/project/pycnv/)\n",
    "- [seabird (link)](https://github.com/castelao/seabird)\n",
    "\n",
    "You may try either of these.  Note that `pycnv` will create its own data type which you will need to conver to `xarray`.  `seabird` can be used to create a netCDF file (`*.nc`) which is a format that `xarray` can handle.\n",
    "\n",
    "Both of these packages are designed to run on `*.cnv` files.  Normally, the data will first need to be converted from `*.hex` to `*.cnv` using the Seabird processing.  There is a \"wrapper\" written to call Seabird processing from within python, but it does require the Seabird software to already be installed on the computer (therefore the computer needs to be running Windows).  See [Seabird-processing (link)](https://github.com/HakaiInstitute/seabird-processing).\n",
    "\n",
    "If you are missing any of the packages that you decide you need, please refer to [Resources: Python](../resource/python).\n",
    "\n",
    "For processing directly from `*.hex`, there is some python code available [here](https://github.com/jklymak/SeaCat/tree/master/python) by Jody Klymak.  It was written for a specific set of SeaCat files, and so may not be generalised to all the possible (especially header) formats for Seabird instruments.\n"
   ]
  },
  {
   "cell_type": "code",
   "execution_count": 113,
   "metadata": {},
   "outputs": [],
   "source": [
    "# Importing required packages here\n",
    "import matplotlib.pyplot as plt\n",
    "import numpy as np\n",
    "from seabird.cnv import fCNV\n",
    "from seabird.netcdf import cnv2nc\n",
    "import gsw\n",
    "import xarray as xr\n",
    "import os\n",
    "import glob\n",
    "from datetime import datetime\n",
    "import matplotlib.dates as mdates\n",
    "from matplotlib.patches import Rectangle\n",
    "import re # to search strings\n"
   ]
  },
  {
   "cell_type": "markdown",
   "metadata": {},
   "source": [
    "<hr>\n",
    "\n",
    "# Convert to netCDF and load with `xarray`\n",
    "\n",
    "- First, on your computer (after installing the [seabird (link)](https://github.com/castelao/seabird) package, run it on one `*.cnv` file to create a `*.nc` file.\n",
    "\n",
    "  ```\n",
    "  seabird cnv2nc MSM121_054_1db.cnv\n",
    "  ```\n",
    "  \n",
    "- `xarray` is a python package commonly used for ocean and climate science.  While you could continue working with the `pycnv` format, it will become a hindrance later.\n",
    "\n",
    "```{seealso}\n",
    "Read the docs: [xarray.DataArray](https://docs.xarray.dev/en/stable/generated/xarray.DataArray.html)\n",
    "```\n",
    "\n",
    "```{admonition} Alternative\n",
    "You can instead convert your `pycnv` format data into an `xarray` dataArray, but I suspect this may be slightly more complicated.\n",
    "```\n"
   ]
  },
  {
   "cell_type": "code",
   "execution_count": 91,
   "metadata": {},
   "outputs": [],
   "source": [
    "# Load your *.nc file\n",
    "#profile = fCNV('your_file.cnv')\n",
    "file_path = '../data/ctd_cnv/'\n",
    "out_dir = '../data/ctd_nc/'\n",
    "ctd_files = os.listdir(file_path)\n",
    "\n",
    "ctd_files = sorted(glob.glob(file_path + '*cnv'))\n",
    "\n",
    "if 0:\n",
    "    for ii in ctd_files:\n",
    "        output_path_netcdf = out_dir + ii[0:-4] + '.nc'\n",
    "        ds = fCNV(file_path + ii)\n",
    "        cnv2nc(ds, output_path_netcdf)"
   ]
  },
  {
   "cell_type": "markdown",
   "metadata": {},
   "source": [
    "## Work with data in xarray\n",
    "\n",
    "Use the `print` command to see what is in your data array.  A data array is a bit like a file folder, with different variable types in it.\n",
    "\n",
    "\n",
    "```{seealso}\n",
    "The [xarray user guide (external)](https://docs.xarray.dev/en/stable/user-guide/index.html), especially for this lab on\n",
    "- [Data structures](https://docs.xarray.dev/en/stable/user-guide/data-structures.html)\n",
    "- [Indexing and selecting data](https://docs.xarray.dev/en/stable/user-guide/indexing.html)\n",
    "```\n"
   ]
  },
  {
   "cell_type": "code",
   "execution_count": 145,
   "metadata": {},
   "outputs": [
    {
     "ename": "ValueError",
     "evalue": "cannot reindex or align along dimension 'scan' because of conflicting dimension sizes: {218, 394}",
     "output_type": "error",
     "traceback": [
      "\u001b[0;31m---------------------------------------------------------------------------\u001b[0m",
      "\u001b[0;31mValueError\u001b[0m                                Traceback (most recent call last)",
      "Cell \u001b[0;32mIn[145], line 26\u001b[0m\n\u001b[1;32m     24\u001b[0m     allctd \u001b[38;5;241m=\u001b[39m ds\n\u001b[1;32m     25\u001b[0m \u001b[38;5;28;01melse\u001b[39;00m:\n\u001b[0;32m---> 26\u001b[0m     allctd \u001b[38;5;241m=\u001b[39m \u001b[43mxr\u001b[49m\u001b[38;5;241;43m.\u001b[39;49m\u001b[43mconcat\u001b[49m\u001b[43m(\u001b[49m\u001b[43m[\u001b[49m\u001b[43mallctd\u001b[49m\u001b[43m,\u001b[49m\u001b[43m \u001b[49m\u001b[43mds\u001b[49m\u001b[43m]\u001b[49m\u001b[43m,\u001b[49m\u001b[43m \u001b[49m\u001b[38;5;124;43m\"\u001b[39;49m\u001b[38;5;124;43mcastnum\u001b[39;49m\u001b[38;5;124;43m\"\u001b[39;49m\u001b[43m,\u001b[49m\u001b[43m \u001b[49m\u001b[43mfill_value\u001b[49m\u001b[38;5;241;43m=\u001b[39;49m\u001b[43mnp\u001b[49m\u001b[38;5;241;43m.\u001b[39;49m\u001b[43mnan\u001b[49m\u001b[43m)\u001b[49m\n\u001b[1;32m     29\u001b[0m qdo\u001b[38;5;241m+\u001b[39m\u001b[38;5;241m=\u001b[39m\u001b[38;5;241m1\u001b[39m\n",
      "File \u001b[0;32m~/micromamba/envs/seaocn_env/lib/python3.8/site-packages/xarray/core/concat.py:248\u001b[0m, in \u001b[0;36mconcat\u001b[0;34m(objs, dim, data_vars, coords, compat, positions, fill_value, join, combine_attrs)\u001b[0m\n\u001b[1;32m    236\u001b[0m     \u001b[38;5;28;01mreturn\u001b[39;00m _dataarray_concat(\n\u001b[1;32m    237\u001b[0m         objs,\n\u001b[1;32m    238\u001b[0m         dim\u001b[38;5;241m=\u001b[39mdim,\n\u001b[0;32m   (...)\u001b[0m\n\u001b[1;32m    245\u001b[0m         combine_attrs\u001b[38;5;241m=\u001b[39mcombine_attrs,\n\u001b[1;32m    246\u001b[0m     )\n\u001b[1;32m    247\u001b[0m \u001b[38;5;28;01melif\u001b[39;00m \u001b[38;5;28misinstance\u001b[39m(first_obj, Dataset):\n\u001b[0;32m--> 248\u001b[0m     \u001b[38;5;28;01mreturn\u001b[39;00m \u001b[43m_dataset_concat\u001b[49m\u001b[43m(\u001b[49m\n\u001b[1;32m    249\u001b[0m \u001b[43m        \u001b[49m\u001b[43mobjs\u001b[49m\u001b[43m,\u001b[49m\n\u001b[1;32m    250\u001b[0m \u001b[43m        \u001b[49m\u001b[43mdim\u001b[49m\u001b[38;5;241;43m=\u001b[39;49m\u001b[43mdim\u001b[49m\u001b[43m,\u001b[49m\n\u001b[1;32m    251\u001b[0m \u001b[43m        \u001b[49m\u001b[43mdata_vars\u001b[49m\u001b[38;5;241;43m=\u001b[39;49m\u001b[43mdata_vars\u001b[49m\u001b[43m,\u001b[49m\n\u001b[1;32m    252\u001b[0m \u001b[43m        \u001b[49m\u001b[43mcoords\u001b[49m\u001b[38;5;241;43m=\u001b[39;49m\u001b[43mcoords\u001b[49m\u001b[43m,\u001b[49m\n\u001b[1;32m    253\u001b[0m \u001b[43m        \u001b[49m\u001b[43mcompat\u001b[49m\u001b[38;5;241;43m=\u001b[39;49m\u001b[43mcompat\u001b[49m\u001b[43m,\u001b[49m\n\u001b[1;32m    254\u001b[0m \u001b[43m        \u001b[49m\u001b[43mpositions\u001b[49m\u001b[38;5;241;43m=\u001b[39;49m\u001b[43mpositions\u001b[49m\u001b[43m,\u001b[49m\n\u001b[1;32m    255\u001b[0m \u001b[43m        \u001b[49m\u001b[43mfill_value\u001b[49m\u001b[38;5;241;43m=\u001b[39;49m\u001b[43mfill_value\u001b[49m\u001b[43m,\u001b[49m\n\u001b[1;32m    256\u001b[0m \u001b[43m        \u001b[49m\u001b[43mjoin\u001b[49m\u001b[38;5;241;43m=\u001b[39;49m\u001b[43mjoin\u001b[49m\u001b[43m,\u001b[49m\n\u001b[1;32m    257\u001b[0m \u001b[43m        \u001b[49m\u001b[43mcombine_attrs\u001b[49m\u001b[38;5;241;43m=\u001b[39;49m\u001b[43mcombine_attrs\u001b[49m\u001b[43m,\u001b[49m\n\u001b[1;32m    258\u001b[0m \u001b[43m    \u001b[49m\u001b[43m)\u001b[49m\n\u001b[1;32m    259\u001b[0m \u001b[38;5;28;01melse\u001b[39;00m:\n\u001b[1;32m    260\u001b[0m     \u001b[38;5;28;01mraise\u001b[39;00m \u001b[38;5;167;01mTypeError\u001b[39;00m(\n\u001b[1;32m    261\u001b[0m         \u001b[38;5;124m\"\u001b[39m\u001b[38;5;124mcan only concatenate xarray Dataset and DataArray \u001b[39m\u001b[38;5;124m\"\u001b[39m\n\u001b[1;32m    262\u001b[0m         \u001b[38;5;124mf\u001b[39m\u001b[38;5;124m\"\u001b[39m\u001b[38;5;124mobjects, got \u001b[39m\u001b[38;5;132;01m{\u001b[39;00m\u001b[38;5;28mtype\u001b[39m(first_obj)\u001b[38;5;132;01m}\u001b[39;00m\u001b[38;5;124m\"\u001b[39m\n\u001b[1;32m    263\u001b[0m     )\n",
      "File \u001b[0;32m~/micromamba/envs/seaocn_env/lib/python3.8/site-packages/xarray/core/concat.py:471\u001b[0m, in \u001b[0;36m_dataset_concat\u001b[0;34m(datasets, dim, data_vars, coords, compat, positions, fill_value, join, combine_attrs)\u001b[0m\n\u001b[1;32m    468\u001b[0m \u001b[38;5;66;03m# Make sure we're working on a copy (we'll be loading variables)\u001b[39;00m\n\u001b[1;32m    469\u001b[0m datasets \u001b[38;5;241m=\u001b[39m [ds\u001b[38;5;241m.\u001b[39mcopy() \u001b[38;5;28;01mfor\u001b[39;00m ds \u001b[38;5;129;01min\u001b[39;00m datasets]\n\u001b[1;32m    470\u001b[0m datasets \u001b[38;5;241m=\u001b[39m \u001b[38;5;28mlist\u001b[39m(\n\u001b[0;32m--> 471\u001b[0m     \u001b[43malign\u001b[49m\u001b[43m(\u001b[49m\u001b[38;5;241;43m*\u001b[39;49m\u001b[43mdatasets\u001b[49m\u001b[43m,\u001b[49m\u001b[43m \u001b[49m\u001b[43mjoin\u001b[49m\u001b[38;5;241;43m=\u001b[39;49m\u001b[43mjoin\u001b[49m\u001b[43m,\u001b[49m\u001b[43m \u001b[49m\u001b[43mcopy\u001b[49m\u001b[38;5;241;43m=\u001b[39;49m\u001b[38;5;28;43;01mFalse\u001b[39;49;00m\u001b[43m,\u001b[49m\u001b[43m \u001b[49m\u001b[43mexclude\u001b[49m\u001b[38;5;241;43m=\u001b[39;49m\u001b[43m[\u001b[49m\u001b[43mdim\u001b[49m\u001b[43m]\u001b[49m\u001b[43m,\u001b[49m\u001b[43m \u001b[49m\u001b[43mfill_value\u001b[49m\u001b[38;5;241;43m=\u001b[39;49m\u001b[43mfill_value\u001b[49m\u001b[43m)\u001b[49m\n\u001b[1;32m    472\u001b[0m )\n\u001b[1;32m    474\u001b[0m dim_coords, dims_sizes, coord_names, data_names \u001b[38;5;241m=\u001b[39m _parse_datasets(datasets)\n\u001b[1;32m    475\u001b[0m dim_names \u001b[38;5;241m=\u001b[39m \u001b[38;5;28mset\u001b[39m(dim_coords)\n",
      "File \u001b[0;32m~/micromamba/envs/seaocn_env/lib/python3.8/site-packages/xarray/core/alignment.py:797\u001b[0m, in \u001b[0;36malign\u001b[0;34m(join, copy, indexes, exclude, fill_value, *objects)\u001b[0m\n\u001b[1;32m    601\u001b[0m \u001b[38;5;250m\u001b[39m\u001b[38;5;124;03m\"\"\"\u001b[39;00m\n\u001b[1;32m    602\u001b[0m \u001b[38;5;124;03mGiven any number of Dataset and/or DataArray objects, returns new\u001b[39;00m\n\u001b[1;32m    603\u001b[0m \u001b[38;5;124;03mobjects with aligned indexes and dimension sizes.\u001b[39;00m\n\u001b[0;32m   (...)\u001b[0m\n\u001b[1;32m    787\u001b[0m \n\u001b[1;32m    788\u001b[0m \u001b[38;5;124;03m\"\"\"\u001b[39;00m\n\u001b[1;32m    789\u001b[0m aligner \u001b[38;5;241m=\u001b[39m Aligner(\n\u001b[1;32m    790\u001b[0m     objects,\n\u001b[1;32m    791\u001b[0m     join\u001b[38;5;241m=\u001b[39mjoin,\n\u001b[0;32m   (...)\u001b[0m\n\u001b[1;32m    795\u001b[0m     fill_value\u001b[38;5;241m=\u001b[39mfill_value,\n\u001b[1;32m    796\u001b[0m )\n\u001b[0;32m--> 797\u001b[0m \u001b[43maligner\u001b[49m\u001b[38;5;241;43m.\u001b[39;49m\u001b[43malign\u001b[49m\u001b[43m(\u001b[49m\u001b[43m)\u001b[49m\n\u001b[1;32m    798\u001b[0m \u001b[38;5;28;01mreturn\u001b[39;00m aligner\u001b[38;5;241m.\u001b[39mresults\n",
      "File \u001b[0;32m~/micromamba/envs/seaocn_env/lib/python3.8/site-packages/xarray/core/alignment.py:585\u001b[0m, in \u001b[0;36mAligner.align\u001b[0;34m(self)\u001b[0m\n\u001b[1;32m    583\u001b[0m \u001b[38;5;28mself\u001b[39m\u001b[38;5;241m.\u001b[39massert_no_index_conflict()\n\u001b[1;32m    584\u001b[0m \u001b[38;5;28mself\u001b[39m\u001b[38;5;241m.\u001b[39malign_indexes()\n\u001b[0;32m--> 585\u001b[0m \u001b[38;5;28;43mself\u001b[39;49m\u001b[38;5;241;43m.\u001b[39;49m\u001b[43massert_unindexed_dim_sizes_equal\u001b[49m\u001b[43m(\u001b[49m\u001b[43m)\u001b[49m\n\u001b[1;32m    587\u001b[0m \u001b[38;5;28;01mif\u001b[39;00m \u001b[38;5;28mself\u001b[39m\u001b[38;5;241m.\u001b[39mjoin \u001b[38;5;241m==\u001b[39m \u001b[38;5;124m\"\u001b[39m\u001b[38;5;124moverride\u001b[39m\u001b[38;5;124m\"\u001b[39m:\n\u001b[1;32m    588\u001b[0m     \u001b[38;5;28mself\u001b[39m\u001b[38;5;241m.\u001b[39moverride_indexes()\n",
      "File \u001b[0;32m~/micromamba/envs/seaocn_env/lib/python3.8/site-packages/xarray/core/alignment.py:484\u001b[0m, in \u001b[0;36mAligner.assert_unindexed_dim_sizes_equal\u001b[0;34m(self)\u001b[0m\n\u001b[1;32m    482\u001b[0m     add_err_msg \u001b[38;5;241m=\u001b[39m \u001b[38;5;124m\"\u001b[39m\u001b[38;5;124m\"\u001b[39m\n\u001b[1;32m    483\u001b[0m \u001b[38;5;28;01mif\u001b[39;00m \u001b[38;5;28mlen\u001b[39m(sizes) \u001b[38;5;241m>\u001b[39m \u001b[38;5;241m1\u001b[39m:\n\u001b[0;32m--> 484\u001b[0m     \u001b[38;5;28;01mraise\u001b[39;00m \u001b[38;5;167;01mValueError\u001b[39;00m(\n\u001b[1;32m    485\u001b[0m         \u001b[38;5;124mf\u001b[39m\u001b[38;5;124m\"\u001b[39m\u001b[38;5;124mcannot reindex or align along dimension \u001b[39m\u001b[38;5;132;01m{\u001b[39;00mdim\u001b[38;5;132;01m!r}\u001b[39;00m\u001b[38;5;124m \u001b[39m\u001b[38;5;124m\"\u001b[39m\n\u001b[1;32m    486\u001b[0m         \u001b[38;5;124mf\u001b[39m\u001b[38;5;124m\"\u001b[39m\u001b[38;5;124mbecause of conflicting dimension sizes: \u001b[39m\u001b[38;5;132;01m{\u001b[39;00msizes\u001b[38;5;132;01m!r}\u001b[39;00m\u001b[38;5;124m\"\u001b[39m \u001b[38;5;241m+\u001b[39m add_err_msg\n\u001b[1;32m    487\u001b[0m     )\n",
      "\u001b[0;31mValueError\u001b[0m: cannot reindex or align along dimension 'scan' because of conflicting dimension sizes: {218, 394}"
     ]
    }
   ],
   "source": [
    "# Print your data\n",
    "file_path = '../data/ctd_nc/'\n",
    "ctd_nc = sorted(glob.glob(file_path + '*nc'))\n",
    "\n",
    "latstn = np.ones(len(ctd_nc),) * np.nan\n",
    "lonstn = latstn.copy()\n",
    "castnum = latstn.copy()\n",
    "#time1 = np.empty((len(ctd_nc),), dtype=object)\n",
    "mdates1 = lonstn.copy()\n",
    "qdo=0\n",
    "fnames = []\n",
    "\n",
    "for ii in ctd_nc:\n",
    "    ds = xr.open_dataset(ii)\n",
    "    \n",
    "    latstn[qdo] = ds.LATITUDE\n",
    "    lonstn[qdo] = ds.LONGITUDE\n",
    "    tmp1 = datetime.fromisoformat(ds.datetime)\n",
    "    mdates1[qdo] = mdates.date2num(tmp1)\n",
    "    cstart = re.search(\"Cast\", ii).start()\n",
    "    castnum[qdo] = int(ii[cstart+4:-3])\n",
    "\n",
    "#    if qdo==0:\n",
    "#        allctd = ds\n",
    "#    else:\n",
    "#        allctd = xr.concat([allctd, ds], \"castnum\", fill_value=np.nan)\n",
    "           \n",
    "    qdo+=1"
   ]
  },
  {
   "cell_type": "code",
   "execution_count": null,
   "metadata": {},
   "outputs": [],
   "source": [
    "# Try to combine all the nc files\n",
    "for ii in ctd_nc:\n",
    "    ds = xr.open_dataset(ii)\n",
    "    \n",
    "    latstn[qdo] = ds.LATITUDE\n",
    "    lonstn[qdo] = ds.LONGITUDE\n",
    "    tmp1 = datetime.fromisoformat(ds.datetime)\n",
    "    mdates1[qdo] = mdates.date2num(tmp1)\n",
    "    cstart = re.search(\"Cast\", ii).start()\n",
    "    castnum[qdo] = int(ii[cstart+4:-3])\n",
    "\n",
    "#    if qdo==0:\n",
    "#        allctd = ds\n",
    "#    else:\n",
    "#        allctd = xr.concat([allctd, ds], \"castnum\", fill_value=np.nan)\n",
    "           \n",
    "    qdo+=1"
   ]
  },
  {
   "cell_type": "markdown",
   "metadata": {},
   "source": [
    "## Calculate TEOS-10 parameters\n",
    "\n",
    "- Calculate absolute salinity and conservative temperature\n",
    "\n",
    "- Repeat for both primary and secondary channels\n",
    "\n",
    "\n"
   ]
  },
  {
   "cell_type": "code",
   "execution_count": 149,
   "metadata": {},
   "outputs": [
    {
     "name": "stdout",
     "output_type": "stream",
     "text": [
      "<xarray.Dataset>\n",
      "Dimensions:       (scan: 218)\n",
      "Dimensions without coordinates: scan\n",
      "Data variables:\n",
      "    timeJ         (scan) float64 ...\n",
      "    prdM          (scan) float64 ...\n",
      "    tv290C        (scan) float64 ...\n",
      "    c0mSPercm     (scan) float64 ...\n",
      "    PSAL          (scan) float64 ...\n",
      "    DEPTH         (scan) float64 ...\n",
      "    oxsatMmPerKg  (scan) float64 ...\n",
      "    oxsolMmPerKg  (scan) float64 ...\n",
      "    turbWETntu0   (scan) float64 ...\n",
      "    flECO-AFL     (scan) float64 ...\n",
      "    flag          (scan) float64 ...\n",
      "    timeS         (scan) float64 ...\n",
      "Attributes: (12/14)\n",
      "    history:          Created by cnv2nc (PyCNV)\n",
      "    date_created:     2024-06-02T05:27:48.978126\n",
      "    LATITUDE:         54.125\n",
      "    LONGITUDE:        8.466666666666667\n",
      "    bad_flag:         -9.990e-29\n",
      "    datetime:         2024-05-21T09:29:47\n",
      "    ...               ...\n",
      "    instrument_type:  CTD\n",
      "    md5:              4bf777d78a5c262ac68225f79df249fa\n",
      "    nquan:            11\n",
      "    nvalues:          218\n",
      "    sbe_model:        19plus\n",
      "    start_time:       May 21 2024 09:29:47 [Instrument's time stamp, header]\n",
      "<xarray.Dataset>\n",
      "Dimensions:       (scan: 394)\n",
      "Dimensions without coordinates: scan\n",
      "Data variables:\n",
      "    timeJ         (scan) float64 ...\n",
      "    prdM          (scan) float64 ...\n",
      "    tv290C        (scan) float64 ...\n",
      "    c0mSPercm     (scan) float64 ...\n",
      "    PSAL          (scan) float64 ...\n",
      "    DEPTH         (scan) float64 ...\n",
      "    oxsatMmPerKg  (scan) float64 ...\n",
      "    oxsolMmPerKg  (scan) float64 ...\n",
      "    turbWETntu0   (scan) float64 ...\n",
      "    flECO-AFL     (scan) float64 ...\n",
      "    flag          (scan) float64 ...\n",
      "    timeS         (scan) float64 ...\n",
      "Attributes: (12/14)\n",
      "    history:          Created by cnv2nc (PyCNV)\n",
      "    date_created:     2024-06-02T05:27:49.473683\n",
      "    LATITUDE:         54.13333333333333\n",
      "    LONGITUDE:        8.383333333333333\n",
      "    bad_flag:         -9.990e-29\n",
      "    datetime:         2024-05-21T10:13:37\n",
      "    ...               ...\n",
      "    instrument_type:  CTD\n",
      "    md5:              c12bd0a9df98b92a91b80c5363a8dc2a\n",
      "    nquan:            11\n",
      "    nvalues:          394\n",
      "    sbe_model:        19plus\n",
      "    start_time:       May 21 2024 10:13:37 [Instrument's time stamp, header]\n"
     ]
    }
   ],
   "source": [
    "print(allctd)\n",
    "print(ds)"
   ]
  },
  {
   "cell_type": "code",
   "execution_count": 96,
   "metadata": {},
   "outputs": [
    {
     "name": "stdout",
     "output_type": "stream",
     "text": [
      "19870.000011574073\n",
      "(array([60, 61, 62, 63, 64, 65, 66, 67, 68, 69, 70, 71, 72, 73, 74, 75, 76,\n",
      "       77, 78, 79]),)\n",
      "../data/ctd_nc/SBE19plus_01907321_2024_05_22_Cast11.nc\n",
      "../data/ctd_nc/SBE19plus_01907321_2024_05_25_Cast50.nc\n",
      "../data/ctd_nc/SBE19plus_01907321_2024_05_27_Cast69.nc\n",
      "../data/ctd_nc/SBE19plus_01907321_2024_05_27_Cast70.nc\n",
      "../data/ctd_nc/SBE19plus_01907321_2024_05_27_Cast71.nc\n",
      "../data/ctd_nc/SBE19plus_01907321_2024_05_27_Cast72.nc\n",
      "../data/ctd_nc/SBE19plus_01907321_2024_05_27_Cast73.nc\n",
      "../data/ctd_nc/SBE19plus_01907321_2024_05_27_Cast74.nc\n",
      "../data/ctd_nc/SBE19plus_01907321_2024_05_27_Cast75.nc\n",
      "../data/ctd_nc/SBE19plus_01907321_2024_05_27_Cast76.nc\n",
      "../data/ctd_nc/SBE19plus_01907321_2024_05_27_Cast77.nc\n",
      "../data/ctd_nc/SBE19plus_01907321_2024_05_27_Cast78.nc\n",
      "../data/ctd_nc/SBE19plus_01907321_2024_05_27_Cast79.nc\n",
      "../data/ctd_nc/SBE19plus_01907321_2024_05_27_Cast80.nc\n",
      "../data/ctd_nc/SBE19plus_01907321_2024_05_27_Cast81.nc\n",
      "../data/ctd_nc/SBE19plus_01907321_2024_05_27_Cast82.nc\n",
      "../data/ctd_nc/SBE19plus_01907321_2024_05_27_Cast83.nc\n",
      "../data/ctd_nc/SBE19plus_01907321_2024_05_27_Cast84.nc\n",
      "../data/ctd_nc/SBE19plus_01907321_2024_05_27_Cast85.nc\n",
      "../data/ctd_nc/SBE19plus_01907321_2024_05_27_Cast86.nc\n",
      "../data/ctd_nc/SBE19plus_01907321_2024_05_28_Cast102.nc\n",
      "../data/ctd_nc/SBE19plus_01907321_2024_05_28_Cast89.nc\n",
      "../data/ctd_nc/SBE19plus_01907321_2024_05_29_Cast109.nc\n",
      "../data/ctd_nc/SBE19plus_01907321_2024_05_30_Cast112.nc\n"
     ]
    },
    {
     "data": {
      "image/png": "[encoded data removed]",
      "text/plain": [
       "<Figure size 640x480 with 1 Axes>"
      ]
     },
     "metadata": {},
     "output_type": "display_data"
    }
   ],
   "source": [
    "my_first_day = datetime.fromisoformat('2024-05-27T00:00:01')\n",
    "my_first_mdate = mdates.date2num(my_first_day)\n",
    "print(my_first_mdate)\n",
    "\n",
    "itime = np.where((mdates1>my_first_mdate) & (mdates1<my_first_mdate+1) )\n",
    "print(itime)\n",
    "\n",
    "fig, ax = plt.subplots()\n",
    "plt.plot(lonstn,latstn,'o')\n",
    "plt.plot(lonstn[itime],latstn[itime],'+')\n",
    "\n",
    "minlon = 8.4\n",
    "maxlon = 8.45\n",
    "minlat = 54.11\n",
    "maxlat = 54.150\n",
    "# Create a Rectangle patch & add to plot\n",
    "rect = Rectangle((minlon, minlat), maxlon-minlon, maxlat-minlat, linewidth=1, edgecolor='r', facecolor='none')\n",
    "ax.add_patch(rect)\n",
    "\n",
    "iloc = np.where((lonstn>minlon) & (lonstn<maxlon) & (latstn>minlat) & (latstn<maxlat))\n",
    "iloc2 = iloc[0]\n",
    "\n",
    "for ii in iloc2:\n",
    "    print(ctd_nc[ii])"
   ]
  },
  {
   "cell_type": "code",
   "execution_count": 97,
   "metadata": {},
   "outputs": [
    {
     "name": "stdout",
     "output_type": "stream",
     "text": [
      "['../data/ctd_nc/SBE19plus_01907321_2024_05_21_Cast01.nc', '../data/ctd_nc/SBE19plus_01907321_2024_05_21_Cast02.nc', '../data/ctd_nc/SBE19plus_01907321_2024_05_21_Cast03.nc', '../data/ctd_nc/SBE19plus_01907321_2024_05_21_Cast04.nc', '../data/ctd_nc/SBE19plus_01907321_2024_05_21_Cast05.nc', '../data/ctd_nc/SBE19plus_01907321_2024_05_21_Cast06.nc', '../data/ctd_nc/SBE19plus_01907321_2024_05_22_Cast08.nc', '../data/ctd_nc/SBE19plus_01907321_2024_05_22_Cast09.nc', '../data/ctd_nc/SBE19plus_01907321_2024_05_22_Cast10.nc', '../data/ctd_nc/SBE19plus_01907321_2024_05_22_Cast11.nc', '../data/ctd_nc/SBE19plus_01907321_2024_05_22_Cast12.nc', '../data/ctd_nc/SBE19plus_01907321_2024_05_22_Cast13.nc', '../data/ctd_nc/SBE19plus_01907321_2024_05_22_Cast14.nc', '../data/ctd_nc/SBE19plus_01907321_2024_05_22_Cast17.nc', '../data/ctd_nc/SBE19plus_01907321_2024_05_22_Cast18.nc', '../data/ctd_nc/SBE19plus_01907321_2024_05_22_Cast19.nc', '../data/ctd_nc/SBE19plus_01907321_2024_05_23_Cast20.nc', '../data/ctd_nc/SBE19plus_01907321_2024_05_23_Cast21.nc', '../data/ctd_nc/SBE19plus_01907321_2024_05_23_Cast22.nc', '../data/ctd_nc/SBE19plus_01907321_2024_05_23_Cast23.nc', '../data/ctd_nc/SBE19plus_01907321_2024_05_23_Cast24.nc', '../data/ctd_nc/SBE19plus_01907321_2024_05_23_Cast25.nc', '../data/ctd_nc/SBE19plus_01907321_2024_05_23_Cast26.nc', '../data/ctd_nc/SBE19plus_01907321_2024_05_23_Cast27.nc', '../data/ctd_nc/SBE19plus_01907321_2024_05_23_Cast28.nc', '../data/ctd_nc/SBE19plus_01907321_2024_05_23_Cast31.nc', '../data/ctd_nc/SBE19plus_01907321_2024_05_23_Cast32.nc', '../data/ctd_nc/SBE19plus_01907321_2024_05_23_Cast33.nc', '../data/ctd_nc/SBE19plus_01907321_2024_05_24_Cast34.nc', '../data/ctd_nc/SBE19plus_01907321_2024_05_24_Cast35.nc', '../data/ctd_nc/SBE19plus_01907321_2024_05_24_Cast37.nc', '../data/ctd_nc/SBE19plus_01907321_2024_05_24_Cast38.nc', '../data/ctd_nc/SBE19plus_01907321_2024_05_24_Cast39.nc', '../data/ctd_nc/SBE19plus_01907321_2024_05_24_Cast40.nc', '../data/ctd_nc/SBE19plus_01907321_2024_05_24_Cast41.nc', '../data/ctd_nc/SBE19plus_01907321_2024_05_24_Cast42.nc', '../data/ctd_nc/SBE19plus_01907321_2024_05_24_Cast43.nc', '../data/ctd_nc/SBE19plus_01907321_2024_05_24_Cast44.nc', '../data/ctd_nc/SBE19plus_01907321_2024_05_24_Cast45.nc', '../data/ctd_nc/SBE19plus_01907321_2024_05_25_Cast46.nc', '../data/ctd_nc/SBE19plus_01907321_2024_05_25_Cast47.nc', '../data/ctd_nc/SBE19plus_01907321_2024_05_25_Cast48.nc', '../data/ctd_nc/SBE19plus_01907321_2024_05_25_Cast49.nc', '../data/ctd_nc/SBE19plus_01907321_2024_05_25_Cast50.nc', '../data/ctd_nc/SBE19plus_01907321_2024_05_25_Cast51.nc', '../data/ctd_nc/SBE19plus_01907321_2024_05_25_Cast52.nc', '../data/ctd_nc/SBE19plus_01907321_2024_05_25_Cast53.nc', '../data/ctd_nc/SBE19plus_01907321_2024_05_25_Cast54.nc', '../data/ctd_nc/SBE19plus_01907321_2024_05_25_Cast55.nc', '../data/ctd_nc/SBE19plus_01907321_2024_05_25_Cast56.nc', '../data/ctd_nc/SBE19plus_01907321_2024_05_25_Cast57.nc', '../data/ctd_nc/SBE19plus_01907321_2024_05_25_Cast58.nc', '../data/ctd_nc/SBE19plus_01907321_2024_05_25_Cast59.nc', '../data/ctd_nc/SBE19plus_01907321_2024_05_26_Cast60.nc', '../data/ctd_nc/SBE19plus_01907321_2024_05_26_Cast61.nc', '../data/ctd_nc/SBE19plus_01907321_2024_05_26_Cast62.nc', '../data/ctd_nc/SBE19plus_01907321_2024_05_26_Cast63.nc', '../data/ctd_nc/SBE19plus_01907321_2024_05_26_Cast64.nc', '../data/ctd_nc/SBE19plus_01907321_2024_05_26_Cast65.nc', '../data/ctd_nc/SBE19plus_01907321_2024_05_26_Cast66.nc', '../data/ctd_nc/SBE19plus_01907321_2024_05_27_Cast67.nc', '../data/ctd_nc/SBE19plus_01907321_2024_05_27_Cast68.nc', '../data/ctd_nc/SBE19plus_01907321_2024_05_27_Cast69.nc', '../data/ctd_nc/SBE19plus_01907321_2024_05_27_Cast70.nc', '../data/ctd_nc/SBE19plus_01907321_2024_05_27_Cast71.nc', '../data/ctd_nc/SBE19plus_01907321_2024_05_27_Cast72.nc', '../data/ctd_nc/SBE19plus_01907321_2024_05_27_Cast73.nc', '../data/ctd_nc/SBE19plus_01907321_2024_05_27_Cast74.nc', '../data/ctd_nc/SBE19plus_01907321_2024_05_27_Cast75.nc', '../data/ctd_nc/SBE19plus_01907321_2024_05_27_Cast76.nc', '../data/ctd_nc/SBE19plus_01907321_2024_05_27_Cast77.nc', '../data/ctd_nc/SBE19plus_01907321_2024_05_27_Cast78.nc', '../data/ctd_nc/SBE19plus_01907321_2024_05_27_Cast79.nc', '../data/ctd_nc/SBE19plus_01907321_2024_05_27_Cast80.nc', '../data/ctd_nc/SBE19plus_01907321_2024_05_27_Cast81.nc', '../data/ctd_nc/SBE19plus_01907321_2024_05_27_Cast82.nc', '../data/ctd_nc/SBE19plus_01907321_2024_05_27_Cast83.nc', '../data/ctd_nc/SBE19plus_01907321_2024_05_27_Cast84.nc', '../data/ctd_nc/SBE19plus_01907321_2024_05_27_Cast85.nc', '../data/ctd_nc/SBE19plus_01907321_2024_05_27_Cast86.nc', '../data/ctd_nc/SBE19plus_01907321_2024_05_28_Cast100.nc', '../data/ctd_nc/SBE19plus_01907321_2024_05_28_Cast101.nc', '../data/ctd_nc/SBE19plus_01907321_2024_05_28_Cast102.nc', '../data/ctd_nc/SBE19plus_01907321_2024_05_28_Cast87.nc', '../data/ctd_nc/SBE19plus_01907321_2024_05_28_Cast88.nc', '../data/ctd_nc/SBE19plus_01907321_2024_05_28_Cast89.nc', '../data/ctd_nc/SBE19plus_01907321_2024_05_28_Cast90.nc', '../data/ctd_nc/SBE19plus_01907321_2024_05_28_Cast91.nc', '../data/ctd_nc/SBE19plus_01907321_2024_05_28_Cast92.nc', '../data/ctd_nc/SBE19plus_01907321_2024_05_28_Cast93.nc', '../data/ctd_nc/SBE19plus_01907321_2024_05_28_Cast94.nc', '../data/ctd_nc/SBE19plus_01907321_2024_05_28_Cast95.nc', '../data/ctd_nc/SBE19plus_01907321_2024_05_28_Cast96.nc', '../data/ctd_nc/SBE19plus_01907321_2024_05_28_Cast97.nc', '../data/ctd_nc/SBE19plus_01907321_2024_05_28_Cast98.nc', '../data/ctd_nc/SBE19plus_01907321_2024_05_28_Cast99.nc', '../data/ctd_nc/SBE19plus_01907321_2024_05_29_Cast103.nc', '../data/ctd_nc/SBE19plus_01907321_2024_05_29_Cast104.nc', '../data/ctd_nc/SBE19plus_01907321_2024_05_29_Cast105.nc', '../data/ctd_nc/SBE19plus_01907321_2024_05_29_Cast106.nc', '../data/ctd_nc/SBE19plus_01907321_2024_05_29_Cast107.nc', '../data/ctd_nc/SBE19plus_01907321_2024_05_29_Cast108.nc', '../data/ctd_nc/SBE19plus_01907321_2024_05_29_Cast109.nc', '../data/ctd_nc/SBE19plus_01907321_2024_05_29_Cast110.nc', '../data/ctd_nc/SBE19plus_01907321_2024_05_29_Cast111.nc', '../data/ctd_nc/SBE19plus_01907321_2024_05_30_Cast112.nc', '../data/ctd_nc/SBE19plus_01907321_2024_05_30_Cast113.nc', '../data/ctd_nc/SBE19plus_01907321_2024_05_30_Cast114.nc', '../data/ctd_nc/SBE19plus_01907321_2024_05_30_Cast115.nc', '../data/ctd_nc/SBE19plus_01907321_2024_05_30_Cast116.nc']\n"
     ]
    }
   ],
   "source": [
    "print(ctd_nc)"
   ]
  },
  {
   "cell_type": "code",
   "execution_count": 81,
   "metadata": {},
   "outputs": [
    {
     "name": "stdout",
     "output_type": "stream",
     "text": [
      "[19870.47969907 19870.36488426 19870.51982639 19870.40633102\n",
      " 19871.5993287  19870.3958912  19870.48965278 19870.35423611\n",
      " 19865.4483912  19870.42774306 19870.50005787 19870.38547454\n",
      " 19870.45840278 19871.44238426 19870.37555556 19870.46923611\n",
      " 19872.53190972 19870.41685185 19870.51027778 19870.3447338\n",
      " 19870.44797454 19870.43771991 19868.3268287  19873.33982639]\n",
      "['2024-05-27T11:30:46.000000' '2024-05-27T08:45:26.000000'\n",
      " '2024-05-27T12:28:33.000000' '2024-05-27T09:45:07.000000'\n",
      " '2024-05-28T14:23:02.000000' '2024-05-27T09:30:05.000000'\n",
      " '2024-05-27T11:45:06.000000' '2024-05-27T08:30:06.000000'\n",
      " '2024-05-22T10:45:41.000000' '2024-05-27T10:15:57.000000'\n",
      " '2024-05-27T12:00:05.000000' '2024-05-27T09:15:05.000000'\n",
      " '2024-05-27T11:00:06.000000' '2024-05-28T10:37:02.000000'\n",
      " '2024-05-27T09:00:48.000000' '2024-05-27T11:15:42.000000'\n",
      " '2024-05-29T12:45:57.000000' '2024-05-27T10:00:16.000000'\n",
      " '2024-05-27T12:14:48.000000' '2024-05-27T08:16:25.000000'\n",
      " '2024-05-27T10:45:05.000000' '2024-05-27T10:30:19.000000'\n",
      " '2024-05-25T07:50:38.000000' '2024-05-30T08:09:21.000000']\n"
     ]
    },
    {
     "name": "stderr",
     "output_type": "stream",
     "text": [
      "/var/folders/t1/z5bp59k95119nw35yqv699t40000gn/T/ipykernel_18450/2474042474.py:5: DeprecationWarning: parsing timezone aware datetimes is deprecated; this will raise an error in the future\n",
      "  a = np.array(tmp, dtype='datetime64')\n"
     ]
    }
   ],
   "source": [
    "print(mdates1[iloc])\n",
    "tmp=   mdates.num2date(mdates1[iloc])\n",
    "#time_array_np = tmp.astype(np.datetime64)\n",
    "#print(time_array_np)\n",
    "a = np.array(tmp, dtype='datetime64')\n",
    "print(a)"
   ]
  },
  {
   "cell_type": "markdown",
   "metadata": {},
   "source": [
    "## Add these data to your xarray data array\n",
    "\n",
    "- Name them 'SA' and 'CT' for absolute salinity and conservative temperature\n",
    "\n",
    "- And 'SA2' and 'CT2' for secondary\n",
    "\n",
    "```{seealso}\n",
    "Some functions to get you started reading the `xarray` docs: https://docs.xarray.dev/en/latest/generated/xarray.Dataset.assign.html\n",
    "```"
   ]
  },
  {
   "cell_type": "code",
   "execution_count": 8,
   "metadata": {},
   "outputs": [],
   "source": [
    "# Add additional data fields\n"
   ]
  },
  {
   "cell_type": "markdown",
   "metadata": {},
   "source": [
    "## Save an xr.da to *.netCDF file\n",
    "\n",
    "Now that your data are in `xarray.DataArray` format, you can use tools within `xarray` to write a netCDF file.\n",
    "\n",
    "```{seealso}\n",
    "Function help for [xarray.Dataset.to_netcdf](https://docs.xarray.dev/en/latest/generated/xarray.Dataset.to_netcdf.html)\n",
    "```"
   ]
  },
  {
   "cell_type": "markdown",
   "metadata": {},
   "source": [
    "<hr>\n",
    "\n",
    "## Fig 2. Repeat the profile plot\n",
    "\n",
    "As above, but with the data in `xarray` format.  \n",
    "\n",
    "Modify your plot:\n",
    "\n",
    "1. Add grid lines\n",
    "\n",
    "2. Limit the top of the plot to the surface (p=0)\n",
    "\n",
    "3. Add a second plot for temperature, to the right of the salinity plot\n",
    "\n",
    "4. Add a title to your figure, perhaps the station number, latitude and longitude\n",
    "\n",
    "5. Export the figure using the figure naming convention, to the subfolder `figures/`.\n",
    "\n"
   ]
  },
  {
   "cell_type": "code",
   "execution_count": 9,
   "metadata": {},
   "outputs": [],
   "source": [
    "# Plot the data"
   ]
  },
  {
   "cell_type": "markdown",
   "metadata": {},
   "source": [
    "## Fig 3. Make a T-S diagram \n",
    "\n",
    "A T-S diagram has salinity on the x-axis and temperature on the y-axis, and contours of density (sigma_0) added.\n",
    "\n",
    "Modify your plot by\n",
    "\n",
    "1. Add contours of potential density\n",
    "    - Hint, you will need to create a vector of temperature and salinity spanning at least the ranges in the profile\n",
    "    - You will then need to use these gridded vectors to calculate potential density using the gsw toolbox\n",
    "\n",
    "2. Add contour labels for the density\n",
    "\n",
    "3. Add a title\n",
    "\n",
    "4. Export the figure using the figure-naming convention, to the subfolder `figures/`"
   ]
  },
  {
   "cell_type": "code",
   "execution_count": 10,
   "metadata": {},
   "outputs": [],
   "source": [
    "# Plot a T-S diagram"
   ]
  },
  {
   "cell_type": "markdown",
   "metadata": {},
   "source": [
    "## Clean up the plots\n",
    "\n",
    "Go back and clean up the plots if needed. This means, add a legend, axes labels, fix the time axis annotations if needed, and fix the fontsize to be legible even if the figure is small.\n",
    "\n",
    "```{note}\n",
    "In future exercises, you will be expected to clean up all plots without reminders.  All plots should have axes labelled (with units!), legible font size (bigger than you think) and appropriate axis ranges.  Legends should be used whenever more than one quantity is plotted.\n",
    "```\n",
    "\n",
    "- Re-export the figures with the same names as before.\n",
    "\n",
    "<hr>"
   ]
  },
  {
   "cell_type": "markdown",
   "metadata": {},
   "source": [
    "# Further calculations\n",
    "\n",
    "## Calculate buoyancy frequency\n",
    "\n",
    "Buoyancy frequency is a measure of how strongly a vertical profile is stratified.  It is calculated as\n",
    "    \n",
    "$$\n",
    "N^2 = \\partial b/\\partial z\n",
    "$$\n",
    "\n",
    "where buoyancy $b$ is\n",
    "\n",
    "$$\n",
    "b(z) = -g\\frac{\\rho(z)}{\\rho_0}\n",
    "$$\n",
    "and $g$ is gravitational acceleration, $\\rho(z)$ the profile of density, and $\\rho_0$ a background mean value of density.  (The exact value of $\\rho_0$ doesn't matter much.  Something like 1023 or 1025 kg/m$^3$ will do fine.)\n",
    "\n",
    "You can do this two ways.  \n",
    "\n",
    "1. Calculate density using the Gibb's seawater toolbox [GSW density](https://teos-10.github.io/GSW-Python/density.html), and\n",
    "\n",
    "2. Use the GSW function for buoyancy frequency under [GSW stability](https://teos-10.github.io/GSW-Python/stability.html).\n",
    "\n",
    "## Fig 4. Plot buoyancy frequency\n",
    "\n",
    "Try and plot both ways on the same axes.\n",
    "\n",
    "```{note}\n",
    "The convention in oceanography is that the N$^2$ axis is a log10 axis.  Do you have a noisy plot?  (Optional:) The way we calculate buoyancy frequency in practice is to use one of a few possible techniques to smooth the data. \n",
    "```\n",
    "\n",
    "3. Export your figure."
   ]
  },
  {
   "cell_type": "code",
   "execution_count": 11,
   "metadata": {},
   "outputs": [],
   "source": [
    "# Calculate buoyancy frequency"
   ]
  },
  {
   "cell_type": "code",
   "execution_count": 12,
   "metadata": {},
   "outputs": [],
   "source": [
    "# Plot buoyancy frequency"
   ]
  },
  {
   "cell_type": "markdown",
   "metadata": {},
   "source": [
    "## Calculate dynamic height\n",
    "\n",
    "Small variations in seawater density affect both ocean circulation and sea level.  According to the hydrostatic approximation, the vertical gradient of pressure is a function of density $\\rho$ and gravitational acceleration $g$ as\n",
    "\n",
    "$$\n",
    "\\frac{\\partial p}{\\partial z} = -\\rho g\n",
    "$$\n",
    "\n",
    "if we want to integrate to find the height of the surface above a profile of given density, we can calculate\n",
    "\n",
    "$$\n",
    "h = \\int_{p_r}^p\\frac{dp}{-\\rho g}\n",
    "$$\n",
    "\n",
    "which has units of meters.\n",
    "\n",
    "Dynamic height is a similar quantity, but accounts for gravity already (has units of m$^2$/s$^s$ and is used in the geostrophic velocity/transport calculation.\n",
    "\n",
    "```{seealso}\n",
    "See dynamic height calculations in the [GSW toolbox](https://teos-10.github.io/GSW-Python/geostrophy.html)\n",
    "```\n",
    "\n",
    "## Fig 5. Plot dynamic height\n",
    "\n",
    "1. Plot dynamic height against depth or pressure\n",
    "\n",
    "2. In a separate plot in the same figure, convert dynamic height to steric height (units of m) and plot it.\n",
    "\n",
    "3. Extra (optional): Calculate dynamic height manually by using the specific volume anomaly."
   ]
  },
  {
   "cell_type": "code",
   "execution_count": 13,
   "metadata": {},
   "outputs": [],
   "source": [
    "# Calculate dynamic height"
   ]
  },
  {
   "cell_type": "code",
   "execution_count": 14,
   "metadata": {},
   "outputs": [],
   "source": [
    "# Calculate steric height"
   ]
  },
  {
   "cell_type": "code",
   "execution_count": 15,
   "metadata": {},
   "outputs": [],
   "source": [
    "# Plot dynamic height + steric height"
   ]
  }
 ],
 "metadata": {
  "kernelspec": {
   "display_name": "Python [conda env:root] *",
   "language": "python",
   "name": "conda-root-py"
  },
  "language_info": {
   "codemirror_mode": {
    "name": "ipython",
    "version": 3
   },
   "file_extension": ".py",
   "mimetype": "text/x-python",
   "name": "python",
   "nbconvert_exporter": "python",
   "pygments_lexer": "ipython3",
   "version": "3.8.18"
  },
  "widgets": {
   "application/vnd.jupyter.widget-state+json": {
    "state": {},
    "version_major": 2,
    "version_minor": 0
   }
  }
 },
 "nbformat": 4,
 "nbformat_minor": 4
}
