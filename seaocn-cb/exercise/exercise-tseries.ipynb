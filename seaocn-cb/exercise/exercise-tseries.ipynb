{
 "cells": [
  {
   "cell_type": "markdown",
   "metadata": {},
   "source": [
    "# Exercise 2  Time series\n",
    "\n",
    "**Aim:** The purpose of this lab is to get you started with elementary time series analysis: fitting a trend and a polynomial to a time series.\n",
    "\n",
    "**Learning outcomes:** At the end of this lab, you will be able to:\n",
    "1. Calculate a linear trend given a time series, and determine its slope and y-offset.\n",
    "2. Calculate a polynomial fit to the time series, and determine the acceleration.\n",
    "3. Gain basic familiarity with Python `xarray` data arrays, and familiarity with indices and NaNs.\n",
    "<!--4. Use the functions including: nanmean, detrend, polyfit, polyval, disp, grid, find, isnan, sqrt, and the operators ==, ~ and .^2.-->\n",
    "\n",
    "**Data:** You will work with a time series of monthly sea surface temperature.\n",
    "\n",
    "**Directions:** Answer the questions, create an `*.ipynb` and two figures which you'll add to the `shared_figures/` folder.\n",
    "\n",
    "```{seealso}\n",
    "Xarray docs: [https://docs.xarray.dev/en/latest/user-guide/time-series.html](https://docs.xarray.dev/en/latest/user-guide/time-series.html)\n",
    "\n",
    "```\n",
    "<hr>"
   ]
  },
  {
   "cell_type": "markdown",
   "metadata": {},
   "source": [
    "## Create a notebook & load the data\n",
    "\n",
    "1. Create an `*.ipynb` containing the commands for this assignment, or copy this file.  \n",
    "    \n",
    "    ```{admonition} File naming convention\n",
    "    Name your python notebook something useful `ex<X>-<Lastname>-<slug>-seaocn.ipynb` where you replace `<X>` with the exercise number and `<slug>` with the short slug to name the topic, and `<Lastname>` with your last name.\n",
    "\n",
    "    Figures should be named something like `ex<X>fig<Y>-<Lastname>-<slug>-seaocn.png` where you replace `<X>` with the exercise number, `<Y>` with the figure number, and `<Lastname>` with your last name.\n",
    "    ```\n",
    "2. Import necessary packages.  \n",
    "\n",
    "    For example, `matplotlib` and `pandas` and `numpy` and `xarray`.  You may also need\n",
    "    ```{python}\n",
    "    import matplotlib.pyplot as plt\n",
    "    import pandas as pd\n",
    "    import numpy as np\n",
    "    import xarray as xr\n",
    "    from datetime import datetime\n",
    "    ```\n",
    "\n",
    "    If you are missing any of these packages, please refer to [Resources: Python](../resource/python).\n"
   ]
  },
  {
   "cell_type": "code",
   "execution_count": 1,
   "metadata": {},
   "outputs": [],
   "source": [
    "# Importing required packages here\n",
    "import matplotlib.pyplot as plt\n",
    "import numpy as np\n",
    "import xarray as xr\n",
    "import pandas as pd"
   ]
  },
  {
   "cell_type": "markdown",
   "metadata": {},
   "source": [
    "### Download some data\n",
    "\n",
    "Go to the [KNMI climate explorer](https://climexp.knmi.nl/start.cgi) and download a time series of monthly sea surface temperature since 1850.\n",
    "\n",
    "1. Click \"Monthly Observations\" on the right\n",
    "\n",
    "2. Choose temperature from \"Berkeley 1 deg\".  This is a gridded and filled sea surface temperature product.\n",
    "\n",
    "3. Select a latitude and longitude in the ocean. Enter a range into the latitude which is 1 degree wide.  Note that for the southern hemisphere, you should use negative values.  For degrees west you should use \"negative degrees east\".\n",
    "\n",
    "4. After entering values in the 2 latititude and 2 longitude boxes, click the choice \"subset of the field\" after make.\n",
    "\n",
    "5. Click the button \"Make time series\".\n",
    "\n",
    "6. Scroll to the bottom of the page, and find the line \"If you *really* want to get it here, <data file name> is available as a netcdf file.  Click the link with \"netcdf file\" to download your data.\n",
    "\n",
    "7. Put the data into the `data/` folder on your computer.  This should be accessible from the location of your python exercises.\n"
   ]
  },
  {
   "cell_type": "code",
   "execution_count": 3,
   "metadata": {},
   "outputs": [
    {
     "name": "stdout",
     "output_type": "stream",
     "text": [
      "../data/TAVG_landocean_LatLong1_-51--50E_30-31N.nc\n"
     ]
    }
   ],
   "source": [
    "# Your code here\n",
    "file_path = '../data/'\n",
    "filename = 'TAVG_landocean_LatLong1_-51--50E_30-31N.nc'\n",
    "\n",
    "# To concatenate two strings in python, you use the '+' symbol\n",
    "fname = file_path + filename\n",
    "# Try a `print` on your new variable to see what it is\n",
    "print(fname)"
   ]
  },
  {
   "cell_type": "markdown",
   "metadata": {},
   "source": [
    "### Load the data\n",
    "\n",
    "The data are in a netCDF file.  As before, we will use `xarray` to handle the dataset.  Make sure you have included `xarray` in your cell above importing packages.\n",
    "\n",
    "```\n",
    "import xarray as xr\n",
    "```"
   ]
  },
  {
   "cell_type": "code",
   "execution_count": 4,
   "metadata": {},
   "outputs": [],
   "source": [
    "# Loading the data\n",
    "#  --> Uncomment this line.  Note that it will throw an error.  After troubleshooting the error, you can comment it back out again.\n",
    "#sst1 = xr.open_dataset(fname)\n"
   ]
  },
  {
   "cell_type": "markdown",
   "metadata": {},
   "source": [
    "### Errors with time format\n",
    "\n",
    "One of the things that can cause a headache in python is time formatting, and we see this here.\n",
    "\n",
    "Depending on your installation, `xarray` cannot decode the time format which, from the error message, we see is in units of \"months since 1850-01-01\".  The error message itself recommends a (temporary) fix by using `decode_times=False`.\n",
    "\n",
    "1. Try loading the data using this hint.\n",
    "  \n",
    "2. Note the format of the time - it's now integers counting from 0 to something like 2077, which doesn't look like \"time\"\n",
    "\n",
    "3. Create a time vector representing the time (you may need to refer back to your error message above to see what the time should be).\n",
    "\n",
    "    Some examples to help you get started.\n",
    "    ```{python}\n",
    "    NN = len(sst1.time)\n",
    "    newtime = pd.date_range(\"1850-01-01\", freq=\"M\", periods=NN)\n",
    "    newtime = pd.date_range(\"1849-12-31\", freq=\"M\", periods=NN) + pd.DateOffset(1)\n",
    "    ```\n",
    "\n",
    "4. Replace your coordinate in the `xarray` structure with  your new time object.\n",
    "\n",
    "    ```{python}\n",
    "    sst1 = sst1.assign_coords({\"time\": newtime.values})\n",
    "    ```"
   ]
  },
  {
   "cell_type": "code",
   "execution_count": 5,
   "metadata": {},
   "outputs": [],
   "source": [
    "# Your code here\n"
   ]
  },
  {
   "cell_type": "markdown",
   "metadata": {},
   "source": [
    "## Fig 1. Plot the time series\n",
    "\n",
    "Plot your sea surface temperature against time.\n",
    "\n",
    "A simple tutorial from `matplotlib` for making a plot: [https://matplotlib.org/stable/tutorials/pyplot.html#sphx-glr-tutorials-pyplot-py](https://matplotlib.org/stable/tutorials/pyplot.html#sphx-glr-tutorials-pyplot-py)\n",
    "\n",
    "Replot the time series.  Try adding a grid using `plt.grid()`.  Now try adding only horizontal grid lines.  Try reformating the x-axis labels.  \n"
   ]
  },
  {
   "cell_type": "code",
   "execution_count": 6,
   "metadata": {},
   "outputs": [],
   "source": [
    "# Making a time series plot\n",
    "# --> The following line will throw an error.  Try to troubleshoot the error.\n",
    "\n",
    "# plt.plot(sst1.time, sst1.temperature, linewidth=2.0)\n"
   ]
  },
  {
   "cell_type": "markdown",
   "metadata": {},
   "source": [
    "The above code should generate an error for you, i.e. python says it can't compute what you've asked it to for some reason.  The last line of the error may look something like:\n",
    "\n",
    "    ValueError: x and y can be no greater than 2D, but have shapes (2078,) and (2078, 1, 1)\n",
    "\n",
    "\n",
    "### Errors\n",
    "\n",
    "Try reading the error message you got from the previous line.  It is trying to tell you that there is a problem with plotting your data variable `temperature` because it is 3-dimensional (in this case, its \"shape\" is (2064,1,1) meaning that the number of rows is 2064, the number of columns is 1 and the number of elements in the 3rd dimension is also 1.\n",
    "\n",
    "As humans, we might see this as 1-dimensional, but python has a problem with it.\n",
    "\n",
    "### Fixing dimensionality\n",
    "\n",
    "There are two ways to deal with this problem.  \n",
    "\n",
    "0. Verify the size of your data that is causing the problem.\n",
    "\n",
    "    ```{python}\n",
    "    print(sst1.temperature.shape)\n",
    "    ```\n",
    "\n",
    "2. Since the time series is really something like 2078 long, and the 2nd and 3rd dimensions are not needed, we can do this by using the indexing\n",
    "\n",
    "    `tanom = sst1.temperature[:,0,0]`\n",
    "\n",
    "   This says we want all the data from the variable \"temperature\" in the first dimension (\"all\" is given by the colon \":\" by itself, and the first element in the second dimension (given by 0) and the first element in the third dimension (given by the second zero).  *Note: in python, indexing (referring to a location in a vector or matrix) starts counting at zero, so the first element in a sequence has an index of 0, the second element has an index of 1, and so on.*\n",
    "\n",
    "3. An alternative option using `xarray` functionality:  In the case of our sea surface tempearture dataset, since we've chosen a 1x1 degree region, the latitude and longitude dimensions are singular (length 1), and the only dimension we want to retain (the \"time\" dimension) is length 2064, we can use a funny little function for `xarray` called:\n",
    "\n",
    "```\n",
    "xr.DataArray.squeeze()\n",
    "```\n",
    "\n",
    "This will take our dataset and squeeze out (remove) the extra dimensions.\n",
    "\n",
    "Try both of these options, and then use the `print` commands to see what resulted.\n"
   ]
  },
  {
   "cell_type": "code",
   "execution_count": 7,
   "metadata": {},
   "outputs": [
    {
     "name": "stdout",
     "output_type": "stream",
     "text": [
      "---- Option 1: ----\n",
      "---- Option 2: ----\n"
     ]
    }
   ],
   "source": [
    "# Your code here\n",
    "\n",
    "# Try option 1 below\n",
    "print('---- Option 1: ----')\n",
    "\n",
    "# Try option 2 below\n",
    "print('---- Option 2: ----')\n"
   ]
  },
  {
   "cell_type": "markdown",
   "metadata": {},
   "source": [
    "### Re-try your plotting\n",
    "\n",
    "Note that if this still doesn't work, it is possible that your data are not actually 1-dimensional.  You can see this if you check the \"shape\" of your data. When choosing a dataset to download from KNMI climate explorer, verify that the longitude and latitude ranges were each only 1 degree wide.  Check the size of your data variable again:\n",
    "\n",
    "    print(sst1.temperature.shape)\n",
    "\n",
    "The first number in brackets can be $>1$ but the other two should be $=1$.  If the second or third dimensions are $>1$, then this is probably where you asked KNMI climate explorer for SSTs in a region that was larger than 1 degree latitude or 1 degree longitude.  Go back and redownload your data.\n",
    "\n"
   ]
  },
  {
   "cell_type": "code",
   "execution_count": 5,
   "metadata": {},
   "outputs": [],
   "source": [
    "# Your code here\n"
   ]
  },
  {
   "cell_type": "markdown",
   "metadata": {},
   "source": [
    "*Thought exercise:* Try changing the axes limits to zoom in on different parts of the data.  Can you describe the data overall?  Various periodicities, tendencies or other wobbles?"
   ]
  },
  {
   "cell_type": "markdown",
   "metadata": {},
   "source": [
    "## Explore the data\n",
    "\n",
    "1. What is the mean of the data?  \n",
    "\n",
    "    ```{seealso}\n",
    "    [xarray: Computation](https://docs.xarray.dev/en/stable/user-guide/computation.html)\n",
    "    ```\n",
    "\n",
    "2. What is the first temperature? the minumum temperature?\n",
    "\n",
    "3. What is the last temperature value?  the maximum temperature?\n",
    "\n",
    "4. How many years long is the record?\n",
    "\n",
    "    Some sample code to get you started (see also: https://numpy.org/doc/stable/reference/arrays.datetime.html)\n",
    "    ```{python}\n",
    "    range_time = (sst_squeeze.time.max()-sst_squeeze.time.min())\n",
    "    range_days = range_time.astype('timedelta64[D]') / np.timedelta64(1,'D')\n",
    "    print('There are ' + str(range_days.values) + ' days between the end and start')\n",
    "    ```\n",
    "    This is an example for the time in days, but you need to do this in years, so take a look at the documentation to figure out how to do this in years instead.\n",
    "   \n",
    "\n",
    "6. How quickly is SST rising? *Calculate this using your first, last and time span of the data.*\n",
    "\n",
    "7. What is the average SST in the last year of the dataset?  In the first year? Re-estimate how quickly SST is rising using these annually averaged values.\n",
    "\n",
    "**Experiment with printing your answer to the screen.**\n",
    "\n",
    "```{python}\n",
    "tmean = sst_squeeze.temperature.mean()\n",
    "print('The mean is ' + str(tmean.values) + u'\\N}{DEGREE SIGN}C.')\n",
    "```\n",
    "\n",
    "or\n",
    "\n",
    "```{python}\n",
    "print('The median is ' + str(sst_squeeze.temperature.median()) + u'\\N}{DEGREE SIGN}C.')\n",
    "```\n",
    "\n",
    "Recall what the '+' does between two strings.  (We saw this above when we were working with the file path and name.)\n",
    "\n",
    "7. Now note that your numbers previously calculated had a lot of significant digits.  Suppose the temperature dataset is only accurate to 0.01 deg C.  Use the `.round()` function to round everything to 2 digits past the decimal place.\n",
    "\n",
    "```{python}\n",
    "print('The first temperature value is ' + str(sst_squeeze.temperature[0].round(2) + u'\\N}{DEGREE SIGN}C.')\n",
    "```\n",
    "\n",
    "```{note}\n",
    "When should you bundle the whole string of commands together, and when should you break it into steps?  There are a few considerations here.\n",
    "\n",
    "1. Will I use a computed value again?  If so, then you probably want to save it as something (as in the example of computing tmean and then printing its values.\n",
    "\n",
    "2. Which option is better for readability?  If the computation is long and complex, it may be hard to keep track of what is happening where and when, which can often lead to errors.  In this case, separating it out is also useful.\n",
    "\n",
    "3. If you only need it once, and the calculation is fairly straightforward (like here, the calculation of the mean or median, and only for display purposes) then your code will overall be more compact if you put it in the same line as the print command.\n",
    "```\n",
    "\n",
    "8. Plot a histogram of the data.  Use `matplotlib.pyplot.hist` with 100 bins.  Do the data look normally distributed?  I.e., is the histogram roughly a gaussian?\n",
    "\n",
    "    ```{python}\n",
    "    plt.hist(sst_squeeze.temperature, 100)\n",
    "    ```"
   ]
  },
  {
   "cell_type": "code",
   "execution_count": 6,
   "metadata": {},
   "outputs": [],
   "source": [
    "# Your code: Mean and median\n"
   ]
  },
  {
   "cell_type": "code",
   "execution_count": 7,
   "metadata": {},
   "outputs": [],
   "source": [
    "# Your code: Calculating the time difference from end to beginning\n"
   ]
  },
  {
   "cell_type": "code",
   "execution_count": 8,
   "metadata": {},
   "outputs": [],
   "source": [
    "# Your code: Averaing first year / last year\n"
   ]
  },
  {
   "cell_type": "code",
   "execution_count": 9,
   "metadata": {},
   "outputs": [],
   "source": [
    "# Make a histogram of the first year's sst\n"
   ]
  },
  {
   "cell_type": "markdown",
   "metadata": {},
   "source": [
    "## Fig 2. Plot an annual cycle\n",
    "\n",
    "Here we will use some useful functions in xarray for handling time series data.  See [xarray: Time series data](https://docs.xarray.dev/en/stable/user-guide/time-series.html).  \n",
    "\n",
    "1. Calculate monthly averages.  As an example, something like\n",
    "\n",
    "    ```{python}\n",
    "    sst_ann = sst_squeeze.groupby(\"time.month\").mean()\n",
    "    ```\n",
    "   \n",
    "2. Plot the seasonal cycle, calculated as monthly averages, in a new figure.  Add appropriate annotations.\n",
    "  \n",
    "3. Next step: Estimate a standard error (SE) for the mean of each monthly value, where the standard error is\n",
    "\n",
    "    $$SE = \\frac{\\sigma}{\\sqrt{N}}$$\n",
    "\n",
    "    with $\\sigma$ the standard deviation and $N$ the number of values.  A quick-and-dirty estimate would have, for January, that $\\sigma$ is the standard deviation of January values, and $N$ the number of years of measurements.  This is fine for a first estimate.  However, notice from your earlier time series plot that there are some gaps in the data record , especially prior to 1920.  So this means that the number of years is not equal to 2063 (length of the time series) divided by 12 months.  *Recall that the standard error calculation assumes a few things: that your measurements are independent (this is not quite true here) and that your data are normally distributed.  Check your histogram above to see whether the data are normal.*\n",
    "\n",
    "4. Then try plotting the annual cycle with the annual cycle + standard error and the annual cycle - standard error for each month.  Now you will have 3 lines on your plot.\n",
    "\n",
    "5.  Instead of plotting these as lines, try shading.\n",
    "   \n",
    "    See the `matplotlib.pyplot.fill_between` command.  Experiment with the optional argument `alpha`.  Try giving `alpha=.8` or `alpha=.3`.\n",
    "\n",
    "   ```{python}\n",
    "   plt.fill_between(sst_ann.month, upper_lim, lower_lim, alpha=.8)\n",
    "   ```\n",
    "\n",
    "6.  Export this figure as figure 2, using the file naming convention.  Make sure your figure has appropriate annotations.\n"
   ]
  },
  {
   "cell_type": "code",
   "execution_count": 10,
   "metadata": {},
   "outputs": [],
   "source": [
    "# Calculate an annual cycle\n"
   ]
  },
  {
   "cell_type": "markdown",
   "metadata": {},
   "source": [
    "## Fitting a trend - updating Fig. 1\n",
    "\n",
    "Find a line of best fit to the original data.  \n",
    "\n",
    "1. Calculate an annually-averaged time series.  This is similar to what you did above for averaging the months, but instead you'll average across years.  Use the `.median()` instead of `.mean()`.\n",
    "\n",
    "2. Plot your new time series\n",
    "   \n",
    "1. Fit a first degree polynomial (linear regression).  Recall that a 1st order polynomial has the form\n",
    "\n",
    "    $$Ax + B$$\n",
    "\n",
    "    where $A$ is the slope.  Read how to use the function [xarray.Dataset.polyfit](https://docs.xarray.dev/en/stable/generated/xarray.Dataset.polyfit.html).  You should use the time dimension as your coordinate along which to fit the 1st degree polynomial (a line).  \n",
    "\n",
    "2. What is the slope of the line?  What are the units on the slope?\n",
    "\n",
    "3. Convert this to units of degrees/year.\n",
    "\n",
    "  *Question for thought:* How does this compare to the slope you calculated above when looking at the maximum and minimum of the time series, and time series length?\n",
    "\n",
    "4. Using your linear regression, what temperature would you predict in 1960?  Use the function [xarray.polyval](https://docs.xarray.dev/en/stable/generated/xarray.polyval.html#xarray.polyval) to compute this.\n",
    "\n",
    "5. What was the observed value in 1960?  Use `xarray` functions to extract the year of 1960 and calculate an average over that year.\n",
    "\n",
    "6. Add the line of best fit to your original plot of the full dataset (or replot here).\n",
    "\n",
    "\n",
    "7. Now fit a polynomial of degree 2 (a quadratic).  A second degree polynomial has the form\n",
    "\n",
    "    $$Ax^2 + Bx + C$$\n",
    "\n",
    "    where $A$ is the acceleration.  What are the units on $A$?\n",
    "\n",
    "8. Add this polynomial as a third curve on your plot.\n",
    "\n",
    "9. **Clean up the plot.**  This means, add a legend, axes labels, fix the time axis annotations if needed, and fix the fontsize to be legible even if the figure is small.\n",
    "\n",
    "```{note}\n",
    "In future exercises, you will be expected to clean up all plots without reminders.  All plots should have axes labelled (with units!), legible font size (bigger than you think) and appropriate axis ranges.  Legends should be used whenever more than one quantity is plotted.\n",
    "```\n",
    "\n",
    "10. Save the figure as a new version of your figure 1, *overwriting* the previous version.\n"
   ]
  },
  {
   "cell_type": "code",
   "execution_count": 12,
   "metadata": {},
   "outputs": [],
   "source": [
    "# Your code here\n"
   ]
  }
 ],
 "metadata": {
  "kernelspec": {
   "display_name": "Python [conda env:micromamba-seaocn_env] *",
   "language": "python",
   "name": "conda-env-micromamba-seaocn_env-py"
  },
  "language_info": {
   "codemirror_mode": {
    "name": "ipython",
    "version": 3
   },
   "file_extension": ".py",
   "mimetype": "text/x-python",
   "name": "python",
   "nbconvert_exporter": "python",
   "pygments_lexer": "ipython3",
   "version": "3.11.8"
  },
  "widgets": {
   "application/vnd.jupyter.widget-state+json": {
    "state": {},
    "version_major": 2,
    "version_minor": 0
   }
  }
 },
 "nbformat": 4,
 "nbformat_minor": 4
}
