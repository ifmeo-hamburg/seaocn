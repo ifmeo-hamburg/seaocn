{
 "cells": [
  {
   "cell_type": "markdown",
   "metadata": {},
   "source": [
    "# Exercise A1 - Git \n",
    "\n",
    "\n",
    "**Aim:** The purpose of this exercise is to get you working with git.\n",
    "\n",
    "**Context:** For this course, we will use a single repository for un-graded exercises.  Within this repository, you will each have your own directory with your working files.  Note this is for un-graded exercises, where you are *encouraged* to work collaboratively with people in the class.\n",
    "\n",
    "**Goals:** At the end of this exercise, you will have\n",
    "\n",
    "- Cloned the course repository on your computer/UHH account\n",
    "- Created a directory within the repository *following the naming convention*\n",
    "- Created a file called `readme.md` within your directory.\n",
    "- Pushed the repository (with your new file and directory) back to the course repository\n",
    "- Verified that you can see the changes (with your directory) on the web\n",
    "- Edited the `readme.md` including instructions for *you* on how to edit your files and push/fetch them from the repository.\n",
    "\n",
    "<hr>\n"
   ]
  },
  {
   "cell_type": "markdown",
   "metadata": {},
   "source": [
    "## Step 1: Check whether you have git installed.\n",
    "\n",
    "On a Mac or linux, in a terminal window, run\n",
    "\n",
    "```\n",
    "git --version\n",
    "```\n",
    "If it runs, you have git.\n",
    "\n",
    "On Windows, you can possibly find it by searching in the start menu (<-update).\n",
    "\n",
    "### If you don't have git, install it\n",
    "\n",
    "Please refer to [Resources: Git and Python](../resource/git).\n",
    "\n",
    "Or see [Installing Git (external)](https://www.linode.com/docs/guides/how-to-install-git-on-linux-mac-and-windows/)\n"
   ]
  },
  {
   "cell_type": "markdown",
   "metadata": {},
   "source": [
    "## Step 2: Clone the course repository for exercises\n",
    "  \n",
    "```{note}\n",
    "The instructions below assume you are using GitHub desktop which is a desktop application for interacting with any online git (i.e., you do not need a github account.)  See also [Resources: Git and Python](../resource/git) for installation of GitHub desktop.\n",
    "```\n",
    "\n",
    "Once you have the software installed, you will want to first clone the class repository.  The repositories we use will live on the UHH gitlab server: [https://gitlab.rrz.uni-hamburg.de/ifmeo/teaching/IfM_SeaOcean/uhh-seaocean-2024](https://gitlab.rrz.uni-hamburg.de/ifmeo/teaching/IfM_SeaOcean/uhh-seaocean-2024). Within this folder, there may be multiple individual \"repositories\" or \"projects\". and multiple \"subgroups\".  For today, you will want to clone the repository for exercises.\n",
    "\n",
    "The \"Exercises\" repository is [https://gitlab.rrz.uni-hamburg.de/ifmeo/teaching/IfM_SeaOcean/uhh-seaocean-2024/exercises-seaocn](https://gitlab.rrz.uni-hamburg.de/ifmeo/teaching/IfM_SeaOcean/uhh-seaocean-2024/exercises-seaocn).\n",
    "\n",
    "Now you will clone the repository.  For this, have a\n",
    "\n",
    "1. A browswer window open (edge, chrome, safari, firefox, etc) and navigate to the **group gitlab**.  \n",
    "\n",
    "2. Github desktop (purple)\n",
    "\n",
    "Decide where on your computer you want these folders to live.  If you don't specify, the default is something like `Documents\\GitHub\\part-1-basics`.  You may want to nest it inside a folder that has the slug `seaocn` so you can find these later.\n",
    "\n",
    "1a. In Github desktop, select \"clone a repository\", and click the \"URL\" at the right.\n",
    "\n",
    "2a.  In the browser window, select the address of the repository you would like to clone first.  Copy this address (starting with https:)\n",
    "\n",
    "1b. In Github desktop, past the URL of the repository into the first text box.  The second text box will auto-populate with a location on your computer.  If you'd like to change this from default, use the button to the right to pick where these will live.  Click \"ok\" or \"next\".  *Authentication will fail.* Kein problem.\n",
    "\n",
    "2b. In the browswer window on the chosen repository (must match the one you used in the previous step), click on \"settings\" at the bottom of the list to the left.  Choose \"Access tokens\".  Near the top right, click \"Add new token\".  Give it a name (maybe your name).  Choose an expiration date at least 1 month in the future but no more than 12 months into the future.  Select a role \"maintainer\".  Scroll down over all the choices and click \"create project access token\".  In the green bar that appears, click the \"clipboard\" button to copy this token.\n",
    "\n",
    "1c.  In Github desktop, enter your B-kennung in the top text bar \"username\", but for \"password\" paste the access token that you just copied.  Click \"next\".\n",
    "\n",
    "You should now have cloned the repository.  Check that the repository (which may be an empty folder) lives on your computer.  \n",
    "\n",
    "<hr>\n"
   ]
  },
  {
   "cell_type": "markdown",
   "metadata": {},
   "source": [
    "## Step 3: Make your directory in the repository \n",
    "\n",
    "You should do this *on your local computer* or on the UHH computer, *not* in a browser window viewing the respository at gitlab.rrz.uni-hamburg.de.  There, the \"remote repository\" is located.\n",
    "\n",
    "1. Create a folder. On your computer, navigate to where you have cloned the repository, and create a new folder/directory.  \n",
    "\n",
    "    ```{admonition} Naming convention: your folder/directory\n",
    "\n",
    "    Please name your folder `seaocn-exercises-<Lastname>` where you replace `<Lastname>` with your last name.\n",
    "\n",
    "    Naming conventions will be *important* in this course.   Here they are particularly important because--to start with--the `.gitignore` file in the directory is initialised with the directory names of the course participants so that you do not always download the changes they make to their course files.\n",
    "    ```\n",
    "\n",
    "2. Add a file named `readme.md`.  Here the ending `*.md` means that it is a markdown file, which is a simple formating or \"markup\" language.  (In contrast, Latex and html are more complicated \"markup\" language.\n",
    "\n",
    "    ```{seealso}\n",
    "    You will use markdown to add slightly fancier comments in your python notebooks.  To find out more, see [Getting Started with Markdown (external link)](https://www.markdownguide.org/getting-started/).\n",
    "    ```\n",
    "    \n",
    "3. Push your local repository to the remote (at gitlab.rrz.uni-hamburg.de).  **Note, this may be the trickiest step.**\n",
    "\n",
    "You may need to \n",
    "\n",
    "- Request access to the repository.  If so, you will need to log in with your B-kennung.  This will need to be manually approved by e.g. Emelie or Eleanor, so it will take a little time.\n",
    "\n",
    "- Generate a personal access token (see above).\n",
    "\n",
    "\n"
   ]
  },
  {
   "cell_type": "markdown",
   "metadata": {},
   "source": [
    "## Step 4: Verify success\n",
    "\n",
    "Go to [https://gitlab.rrz.uni-hamburg.de/ifmeo/teaching/IfM_SeaOcean/uhh-seaocean-2024/exercises-seaocn](https://gitlab.rrz.uni-hamburg.de/ifmeo/teaching/IfM_SeaOcean/uhh-seaocean-2024/exercises-seaocn) and check that your repository exists."
   ]
  },
  {
   "cell_type": "markdown",
   "metadata": {},
   "source": [
    "# Check whether you have python installed\n",
    "\n",
    "In Mac or Linux, at the command line, type\n",
    "```\n",
    "python --version\n",
    "```\n",
    "\n",
    "For example, mine says\n",
    "```\n",
    "(base) 9:34 ~ $ python --version\n",
    "Python 3.9.5\n",
    "```"
   ]
  },
  {
   "cell_type": "markdown",
   "metadata": {},
   "source": [
    "## Using conda\n",
    "\n",
    "For Mac users, you will probably want `conda` and `pip` installed on your computer.\n",
    "\n",
    "You can get conda here: [https://conda.io/projects/conda/en/latest/user-guide/install/index.html](https://conda.io/projects/conda/en/latest/user-guide/install/index.html).  I would recommend *miniconda* (Here is the direct link for [installing miniconda](https://docs.anaconda.com/free/miniconda/miniconda-install/)).  If you already have Anaconda, that is fine too.\n",
    "\n",
    "We will also use jupyter notebooks in this course.\n",
    "\n",
    "## Installing jupyterlab\n",
    "\n",
    "You can install jupyterlab with conda\n",
    "\n",
    "    conda install -c conda-forge jupyterlab=4.0.7 notebook=7.0.6\n",
    "\n",
    "Since we recommend managing your environments, then conda (as above) is the better way to install it.  Otherwise you can use pip: [https://jupyter.org/install](https://jupyter.org/install).\n",
    "\n",
    "If you already have Anaconda, then jupyter lab comes by default [explained here](https://test-jupyter.readthedocs.io/en/latest/install.html)."
   ]
  },
  {
   "cell_type": "markdown",
   "metadata": {},
   "source": [
    "## Now, open this notebook in jupyter notebook.\n",
    "\n",
    "Please record for yourself the steps you took to get jupyter running on your computer."
   ]
  },
  {
   "cell_type": "markdown",
   "metadata": {},
   "source": [
    "## (optional) setting up an environment\n",
    "\n",
    "On a Mac, in a terminal window, you will create an environment using a specified version of python.\n",
    "\n",
    "```\n",
    "conda create --name seaocn_env python=3.8 -y\n",
    "conda activate seaocn_env\n",
    "```\n"
   ]
  },
  {
   "cell_type": "code",
   "execution_count": null,
   "metadata": {},
   "outputs": [],
   "source": []
  }
 ],
 "metadata": {
  "kernelspec": {
   "display_name": "Python [conda env:root]",
   "language": "python",
   "name": "conda-root-py"
  },
  "language_info": {
   "codemirror_mode": {
    "name": "ipython",
    "version": 3
   },
   "file_extension": ".py",
   "mimetype": "text/x-python",
   "name": "python",
   "nbconvert_exporter": "python",
   "pygments_lexer": "ipython3",
   "version": "3.9.5"
  },
  "widgets": {
   "application/vnd.jupyter.widget-state+json": {
    "state": {},
    "version_major": 2,
    "version_minor": 0
   }
  }
 },
 "nbformat": 4,
 "nbformat_minor": 4
}
