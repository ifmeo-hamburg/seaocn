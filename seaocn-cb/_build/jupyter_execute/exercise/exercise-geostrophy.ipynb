{
 "cells": [
  {
   "cell_type": "markdown",
   "id": "a3068a6a-bb7e-412f-8aff-875afa0543cb",
   "metadata": {},
   "source": [
    "# Exercise 3$^+$  Slopes & Integrals\n",
    "\n",
    "In oceanography, the governing equations include derivatives and integrals. If we are interested in transport $T$, for instance, the definition is the area integral of velocity $v$ through that\n",
    "area $A$, or\n",
    "\n",
    "$$T\\equiv \\int_{A} v\\, \\mathrm{d}A\\ .$$\n",
    "\n",
    "If instead we are interested in geostrophic velocities, we had from surface variations that velocity could\n",
    "be determined as\n",
    "\n",
    "$$v_g = \\frac{g}{f}\\frac{d\\eta}{dx}\\ ,$$\n",
    "\n",
    "where $g$ is gravitational acceleration, $f$ is the Coriolis parameter, $\\eta$ is sea surface height anomaly, and $x$ the zonal direction. Here, you’ll use the Gibbs Seawater toolbox to calculate profiles of velocity from hydrographic sections.\n",
    "\n",
    "**Aim:**  You will calculate transport by integrating velocities across an area, and velocities by calculating the derivative in sea surface height.\n",
    "\n",
    "**Data:** You will need to download files from [CCHDO](https://cchdo.ucsd.edu/cruise/740H20200119).  You will need the \"A05\" section for **one** of 1992, 2004, 2010 or 2020.  You want the CTD data in CF format.\n",
    "\n",
    "**Directions:** Create an `*.ipynb` and some figures.\n",
    "\n",
    "<hr>"
   ]
  },
  {
   "cell_type": "markdown",
   "id": "2019c0dd-b5e8-44cd-b840-7610db220bf5",
   "metadata": {},
   "source": [
    "## Create a notebook \n",
    "\n",
    "1. Create an `*.ipynb` containing the commands for this assignment, or copy this file.  \n",
    "    \n",
    "    ```{admonition} File naming convention\n",
    "    Name your python notebook something useful `ex<X>-<Lastname>-<slug>-seaocn.ipynb` where you replace `<X>` with the exercise number and `<slug>` with the short slug to name the topic, and `<Lastname>` with your last name.\n",
    "\n",
    "    Figures should be named something like `ex<X>fig<Y>-<Lastname>-<slug>-seaocn.png` where you replace `<X>` with the exercise number, `<Y>` with the figure number, and `<Lastname>` with your last name.\n",
    "    ```\n",
    "\n",
    "2. Import necessary packages.  \n",
    "\n",
    "\n",
    "\n",
    "    For example, `matplotlib` and `pandas` and `numpy` and `xarray`.  You may also need\n",
    "    ```{python}\n",
    "    import matplotlib.pyplot as plt\n",
    "    import pandas as pd\n",
    "    import numpy as np\n",
    "    import xarray as xr\n",
    "    import gsw \n",
    "    from datetime import datetime\n",
    "    ```\n",
    "    If you are missing any of these packages, please refer to [Resources: Python](../resource/python).\n",
    "\n"
   ]
  },
  {
   "cell_type": "code",
   "execution_count": 1,
   "id": "0a841f3a",
   "metadata": {},
   "outputs": [],
   "source": [
    "# Your code here\n",
    "import matplotlib.pyplot as plt\n",
    "import pandas as pd\n",
    "import numpy as np\n",
    "import xarray as xr\n",
    "from datetime import datetime\n",
    "\n",
    "# Some extra colormaps\n",
    "import cmocean\n",
    "\n",
    "# Fancy but non-intuitive\n",
    "import pygmt\n"
   ]
  },
  {
   "cell_type": "markdown",
   "id": "41a44db0-ccfc-4bf5-87bf-0e09b9010344",
   "metadata": {},
   "source": [
    "### Downloading data\n",
    "\n",
    "3. Download some data.  First decide what year you'd like to work with.  The data are under 10mb so *could* be stored and shared on the gitlab `data/` folder.\n",
    "\n",
    "4. Load the data.  Make a basic exploration. How big are the data?  What are the coordinates?  \n"
   ]
  },
  {
   "cell_type": "code",
   "execution_count": 2,
   "id": "91bfe6ac-d842-44fa-94c7-bfec7ccf483d",
   "metadata": {},
   "outputs": [
    {
     "name": "stdout",
     "output_type": "stream",
     "text": [
      "<xarray.Dataset>\n",
      "Dimensions:             (N_PROF: 134, N_LEVELS: 3297)\n",
      "Coordinates:\n",
      "    expocode            (N_PROF) object ...\n",
      "    station             (N_PROF) object ...\n",
      "    cast                (N_PROF) int32 ...\n",
      "    sample              (N_PROF, N_LEVELS) object ...\n",
      "    time                (N_PROF) datetime64[ns] ...\n",
      "    latitude            (N_PROF) float64 ...\n",
      "    longitude           (N_PROF) float64 ...\n",
      "    pressure            (N_PROF, N_LEVELS) float64 ...\n",
      "Dimensions without coordinates: N_PROF, N_LEVELS\n",
      "Data variables:\n",
      "    section_id          (N_PROF) object ...\n",
      "    btm_depth           (N_PROF) float64 ...\n",
      "    pressure_qc         (N_PROF, N_LEVELS) float32 ...\n",
      "    ctd_temperature     (N_PROF, N_LEVELS) float64 ...\n",
      "    ctd_temperature_qc  (N_PROF, N_LEVELS) float32 ...\n",
      "    ctd_salinity        (N_PROF, N_LEVELS) float64 ...\n",
      "    ctd_salinity_qc     (N_PROF, N_LEVELS) float32 ...\n",
      "    ctd_oxygen          (N_PROF, N_LEVELS) float64 ...\n",
      "    ctd_oxygen_qc       (N_PROF, N_LEVELS) float32 ...\n",
      "    profile_type        (N_PROF) object ...\n",
      "    geometry_container  float64 ...\n",
      "Attributes:\n",
      "    Conventions:               CF-1.8 CCHDO-1.0\n",
      "    cchdo_software_version:    hydro 1.0.2.3\n",
      "    cchdo_parameters_version:  params 0.1.21\n",
      "    comments:                  CTD,20200302OCPNOCBAK\\nSHIP: James Cook\\nCruis...\n",
      "    featureType:               profile\n"
     ]
    }
   ],
   "source": [
    "# Your code here\n",
    "file_path = '../data/'\n",
    "filename = '740H20200119_ctd.nc'\n",
    "\n",
    "fname = file_path + filename\n",
    "tmp = xr.open_dataset(fname)\n",
    "print(tmp)"
   ]
  },
  {
   "cell_type": "markdown",
   "id": "919bfa8f-fbe2-4d54-8d74-f34317eeeaff",
   "metadata": {},
   "source": [
    "## Fig 1. Map the data\n",
    "\n",
    "- Create a figure that shows where the station locations are.\n",
    "\n",
    "- Add coastlines.\n",
    "\n",
    "- Use a sensible projection.  Mercator is OK here.\n",
    "\n",
    "- Save the figure using the file-naming convention.\n"
   ]
  },
  {
   "cell_type": "code",
   "execution_count": 3,
   "id": "5736636d-c6cf-4e6d-9167-8451b9d40e1f",
   "metadata": {},
   "outputs": [
    {
     "data": {
      "text/plain": [
       "[<matplotlib.lines.Line2D at 0x14ab81430>]"
      ]
     },
     "execution_count": 3,
     "metadata": {},
     "output_type": "execute_result"
    },
    {
     "data": {
      "image/png": "[encoded data removed]",
      "text/plain": [
       "<Figure size 640x480 with 1 Axes>"
      ]
     },
     "metadata": {},
     "output_type": "display_data"
    }
   ],
   "source": [
    "# Your code here\n",
    "plt.plot(tmp.longitude,tmp.latitude)"
   ]
  },
  {
   "cell_type": "markdown",
   "id": "2acf01a3-620c-42b1-addb-7763873ccc28",
   "metadata": {},
   "source": [
    "## Fig 2.  Plot a section of T and S\n",
    "\n",
    "1. What format are the data in the dataset?  Use the attributes in the meta data of the file to help you, and scour \n",
    "\n",
    "```{seealso}\n",
    "Some details about the `CF-1.8 CCHDO-1.0` convention: [https://data.pmel.noaa.gov/generic/erddap/info/cchdo_bottle/index.html](https://data.pmel.noaa.gov/generic/erddap/info/cchdo_bottle/index.html)\n",
    "```\n",
    "\n",
    "2. If necessary, calculate absolute salinity and conservative temperature using the `gsw` toolbox.\n",
    "\n",
    "3. Plot the section data (either conservative temperature or absolute salinity).  Try `matplotlib.pyplot.pcolormesh` or `~.contour` options for plotting.\n",
    "\n",
    "4. Experiment with a colorbar from `cmocean`.\n",
    "\n",
    "    ```{seealso}\n",
    "    - `cmocean` for some decent colormaps in python: [https://matplotlib.org/cmocean/](https://matplotlib.org/cmocean/)\n",
    "    - I prefer colorbrewer, which is also available for python: [https://github.com/dsc/colorbrewer-python](https://github.com/dsc/colorbrewer-python)\n",
    "    ```"
   ]
  },
  {
   "cell_type": "markdown",
   "id": "5007faaf-35c7-4d50-a4cc-65b491017fbc",
   "metadata": {},
   "source": [
    "## Fig 3. Calculate geostrophic velocities\n",
    "\n",
    "\n",
    "```{seealso}\n",
    "http://oceanworld.tamu.edu/resources/ocng_textbook/chapter10/chapter10_04.htm for more information.\n",
    "```\n",
    "\n",
    "For vertical profiles of seawater density, we calculate the dynamic height anomaly (also known as geopotential anomaly) in m$^2$s$^{-2}$ as\n",
    "\n",
    "```{python}\n",
    "geo_gstrf1 = gsw.geo_strf_dyn_height(SA1, CT1, p1, p_ref)\n",
    "```\n",
    "\n",
    "where `SA1` and `CT1` are the salinity and temperature (TEOS-10) definition, `p1` is the pressure vector, and `p_ref` the reference depth (could be 0).  In equations, this is calculating\n",
    "\n",
    "$$\\Phi = -\\int_{p_ref}^{p}\\delta(S_A,\\theta,p')\\, dp'$$\n",
    "\n",
    "where $\\Phi$ is the dynamic height anomaly and $\\delta$ is the specific volume anomaly (sometimes also denoted by $\\alpha$).  Between different locations or stations, we calculate geostrophic velocity.  Using the `gsw` toolbox, this is executed as,\n",
    "\n",
    "```{python}\n",
    "[geovel, midlat, midlong] = gsw.geostrophic_velocity(...)\n",
    "```\n",
    "\n",
    "This creates a velocity profile at the mid-point location between the two original stations, where the velocity is zero at the level-of-no-motion (at $p_{ref}$).  In equations, this is estimating:\n",
    "\n",
    "$$f(v-v_{ref}) = g\\frac{d\\Phi}{dx}\\ .$$\n",
    "\n",
    "1. Extract the profiles of absolute salinity and conservative temperature closest to the longitudes\n",
    "76.75$^\\circ$W and 76.5$^\\circ$W. Call them station 1 and station 2, respectively.\n",
    "\n",
    "2. Calculate the dynamic height relative to 1000 dbar as your reference level.\n",
    "\n",
    "3. Calculate the geostrophic velocities referenced to 1000 dbar.\n",
    "\n",
    "4. Create a figure with the dynamic height profiles as a function of depth (or pressure) on the left, and the velocity profile as a function of depth (or pressure) on the right.\n",
    "\n",
    "```{hint}\n",
    "There is a `gsw` function to convert between pressure and depth.\n",
    "```\n"
   ]
  },
  {
   "cell_type": "code",
   "execution_count": 4,
   "id": "c953b55d-5daf-4e38-bb03-f8e2a2a27848",
   "metadata": {},
   "outputs": [],
   "source": [
    "# Your code here"
   ]
  },
  {
   "cell_type": "markdown",
   "id": "74d8d4b5-b769-4979-98d6-e7e345acbdd1",
   "metadata": {},
   "source": [
    "## Fig 4. Integrate velocities to estimate transport.\n",
    "\n",
    "1. Calculate the distance between the two stations above using the distance function in the `gsw`.\n",
    "\n",
    "2. Use the distance between the two stations and water depths, to turn the velocity profile calculated above into a transport estimate. What is the net northward transport?\n",
    "\n",
    "3. What is the transport in units of Sverdrups, where 1 Sv = 10$^6$ m$^3$s$^{−1}$.\n",
    "\n",
    "4. Repeat the geostrophic velocity calculation between all station pairs from 76.75$^\\circ$W and 76.5$^\\circ$W (so between the station closest to 76.75◦W and the next adjacent to the east, then between that next station, and the one a little bit further east, etc.).\n",
    "\n",
    "5. Integrate the velocities in the zonal direction to create a transport-per-unit-depth profile. Look for a function that will perform a \"trapezoidal integration\".  For a distance vector given by $x$ and a velocity matrix $v$ which has one dimension corresponding to horizontal distances $x$ and another to depth, $z$, the zonal-integral of a velocity section\n",
    "can be calculated using `numpy.trapz` as\n",
    "\n",
    "```{python}\n",
    "td = trapz(x, v)\n",
    "```\n",
    "\n",
    "6. Create a figure with the transport-per-unit-depth in the left panel.\n",
    "\n",
    "7. Integrate the transport-per-unit-depth profile over the first 1000m of depth only.  What is the net northward transport in the top 1000m?\n",
    "\n",
    "8. (Optional:) You can calculate the overturning streamfunction by *accumulating* in the vertical rather than integrating.  This leaves you with a profile that still has a depth-dependence.  In python, this can be accomplished with\n",
    "\n",
    "```{python}\n",
    "scipy.integrate.cumulative_trapezoid\n",
    "```"
   ]
  },
  {
   "cell_type": "code",
   "execution_count": 5,
   "id": "d0aec638-c3da-4100-af56-14eeab71bb6d",
   "metadata": {},
   "outputs": [],
   "source": [
    "# Your code here"
   ]
  }
 ],
 "metadata": {
  "kernelspec": {
   "display_name": "Python [conda env:root] *",
   "language": "python",
   "name": "conda-root-py"
  },
  "language_info": {
   "codemirror_mode": {
    "name": "ipython",
    "version": 3
   },
   "file_extension": ".py",
   "mimetype": "text/x-python",
   "name": "python",
   "nbconvert_exporter": "python",
   "pygments_lexer": "ipython3",
   "version": "3.8.18"
  }
 },
 "nbformat": 4,
 "nbformat_minor": 5
}