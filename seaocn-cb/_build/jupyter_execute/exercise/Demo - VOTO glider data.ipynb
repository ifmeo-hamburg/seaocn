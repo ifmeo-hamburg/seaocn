{
 "cells": [
  {
   "cell_type": "markdown",
   "id": "212aa624-bfbb-4151-8e2b-4848ab78ea0f",
   "metadata": {},
   "source": [
    "Env\n",
    "- matplotlib\n",
    "- pandas\n",
    "- tqdm\n",
    "- xarrray\n",
    "- cmocean\n",
    "- erddapy\n",
    "- argopy"
   ]
  },
  {
   "cell_type": "code",
   "execution_count": 1,
   "id": "dc4dd6cc",
   "metadata": {},
   "outputs": [],
   "source": [
    "import matplotlib.dates as mdates\n",
    "from matplotlib import style\n",
    "import matplotlib\n",
    "import pandas as pd\n",
    "import numpy as np\n",
    "import matplotlib.pyplot as plt\n",
    "import matplotlib.patches as patches\n",
    "import ast\n",
    "import datetime\n",
    "from tqdm import tqdm\n",
    "import xarray as xr\n",
    "from cmocean import cm as cmo\n",
    "import sys\n",
    "from erddapy import ERDDAP\n"
   ]
  },
  {
   "cell_type": "markdown",
   "id": "ac08e0c3-0981-425f-9735-63f629dfb403",
   "metadata": {},
   "source": [
    "## Structure:\n",
    "\n",
    "0. ERDDAP-How to access data\n",
    "1. Åland sea data\n",
    "2. Baltic Inflow\n",
    "3. Hans Storm\n",
    "4. Spring blooms and annual cycle\n",
    "5. Issue with CTD data"
   ]
  },
  {
   "cell_type": "markdown",
   "id": "d2dcc57f",
   "metadata": {},
   "source": [
    "### 0. ERDDAP-How to access data \n",
    "We need some functions in untils to download data from ERDDAP\n",
    "You need to have erddap_demo on your computer \n",
    "\n",
    "\n",
    "https://github.com/voto-ocean-knowledge/erddap_demo use git clone to get this on your computer and the adjust the path in order to import all the functions"
   ]
  },
  {
   "cell_type": "markdown",
   "id": "ef6ffa0a-4924-42e1-b1e3-0fea000f39aa",
   "metadata": {},
   "source": [
    "Observations portal VOTO https://observations.voiceoftheocean.org/"
   ]
  },
  {
   "cell_type": "code",
   "execution_count": 2,
   "id": "e16b8aea-bb01-44d3-aebf-18bfae7a59ca",
   "metadata": {},
   "outputs": [],
   "source": [
    "sys.path.append('/Users/eddifying/Library/Mobile Documents/com~apple~CloudDocs/Work/teaching/SeaOcn-UHH/2024-SeaOcn/05-github/erddap_demo')\n",
    "#sys.path.append('C:\\\\Users\\\\u241346\\\\uni_hamburg\\\\erddap_demo')\n",
    "import erddaputils as utils"
   ]
  },
  {
   "cell_type": "code",
   "execution_count": null,
   "id": "0c7ba7d0-d802-46f5-b121-2eb8d8b41250",
   "metadata": {},
   "outputs": [],
   "source": []
  },
  {
   "cell_type": "code",
   "execution_count": 3,
   "id": "8f93b9fc-c52b-4b97-8ae1-ba95eacfa260",
   "metadata": {},
   "outputs": [
    {
     "name": "stdout",
     "output_type": "stream",
     "text": [
      "found 501 datasets\n"
     ]
    }
   ],
   "source": [
    "e = utils.init_erddap()\n",
    "\n",
    "# Fetch dataset list of all dataset existing\n",
    "e.response = \"csv\"\n",
    "e.dataset_id = \"allDatasets\"\n",
    "df_datasets = e.to_pandas(parse_dates=['minTime (UTC)', 'maxTime (UTC)'])\n",
    "\n",
    "print(f\"found {len(df_datasets)} datasets\")"
   ]
  },
  {
   "cell_type": "code",
   "execution_count": 4,
   "id": "cb9b4842-21b4-4962-9124-7f158da4ca68",
   "metadata": {},
   "outputs": [
    {
     "name": "stderr",
     "output_type": "stream",
     "text": [
      "\r",
      "  0%|                                                                    | 0/197 [00:00<?, ?it/s]"
     ]
    },
    {
     "name": "stderr",
     "output_type": "stream",
     "text": [
      "\r",
      "  1%|▎                                                           | 1/197 [00:00<00:58,  3.36it/s]"
     ]
    },
    {
     "name": "stderr",
     "output_type": "stream",
     "text": [
      "\r",
      "  1%|▌                                                           | 2/197 [00:00<01:12,  2.69it/s]"
     ]
    },
    {
     "name": "stderr",
     "output_type": "stream",
     "text": [
      "\r",
      "  2%|▉                                                           | 3/197 [00:01<01:11,  2.73it/s]"
     ]
    },
    {
     "name": "stderr",
     "output_type": "stream",
     "text": [
      "\r",
      "  2%|█▏                                                          | 4/197 [00:01<01:06,  2.92it/s]"
     ]
    },
    {
     "name": "stderr",
     "output_type": "stream",
     "text": [
      "\r",
      "  3%|█▌                                                          | 5/197 [00:02<01:29,  2.15it/s]"
     ]
    },
    {
     "name": "stderr",
     "output_type": "stream",
     "text": [
      "\r",
      "  3%|█▊                                                          | 6/197 [00:02<01:56,  1.64it/s]"
     ]
    },
    {
     "name": "stderr",
     "output_type": "stream",
     "text": [
      "\r",
      "  4%|██▏                                                         | 7/197 [00:04<02:35,  1.22it/s]"
     ]
    },
    {
     "name": "stderr",
     "output_type": "stream",
     "text": [
      "\r",
      "  4%|██▍                                                         | 8/197 [00:04<02:08,  1.48it/s]"
     ]
    },
    {
     "name": "stderr",
     "output_type": "stream",
     "text": [
      "\r",
      "  5%|██▋                                                         | 9/197 [00:05<02:43,  1.15it/s]"
     ]
    },
    {
     "name": "stderr",
     "output_type": "stream",
     "text": [
      "\r",
      "  5%|██▉                                                        | 10/197 [00:06<02:52,  1.09it/s]"
     ]
    },
    {
     "name": "stderr",
     "output_type": "stream",
     "text": [
      "\r",
      "  6%|███▎                                                       | 11/197 [00:08<03:49,  1.23s/it]"
     ]
    },
    {
     "name": "stderr",
     "output_type": "stream",
     "text": [
      "\r",
      "  6%|███▌                                                       | 12/197 [00:09<02:52,  1.07it/s]"
     ]
    },
    {
     "name": "stderr",
     "output_type": "stream",
     "text": [
      "\r",
      "  7%|███▉                                                       | 13/197 [00:09<02:23,  1.28it/s]"
     ]
    },
    {
     "name": "stderr",
     "output_type": "stream",
     "text": [
      "\r",
      "  7%|████▏                                                      | 14/197 [00:09<01:58,  1.54it/s]"
     ]
    },
    {
     "name": "stderr",
     "output_type": "stream",
     "text": [
      "\r",
      "  8%|████▍                                                      | 15/197 [00:10<01:42,  1.78it/s]"
     ]
    },
    {
     "name": "stderr",
     "output_type": "stream",
     "text": [
      "\r",
      "  8%|████▊                                                      | 16/197 [00:10<01:20,  2.25it/s]"
     ]
    },
    {
     "name": "stderr",
     "output_type": "stream",
     "text": [
      "\r",
      "  9%|█████                                                      | 17/197 [00:10<01:17,  2.33it/s]"
     ]
    },
    {
     "name": "stderr",
     "output_type": "stream",
     "text": [
      "\r",
      "  9%|█████▍                                                     | 18/197 [00:11<01:12,  2.47it/s]"
     ]
    },
    {
     "name": "stderr",
     "output_type": "stream",
     "text": [
      "\r",
      " 10%|█████▋                                                     | 19/197 [00:11<01:09,  2.58it/s]"
     ]
    },
    {
     "name": "stderr",
     "output_type": "stream",
     "text": [
      "\r",
      " 10%|█████▉                                                     | 20/197 [00:11<01:10,  2.50it/s]"
     ]
    },
    {
     "name": "stderr",
     "output_type": "stream",
     "text": [
      "\r",
      " 11%|██████▎                                                    | 21/197 [00:12<01:12,  2.43it/s]"
     ]
    },
    {
     "name": "stderr",
     "output_type": "stream",
     "text": [
      "\r",
      " 11%|██████▌                                                    | 22/197 [00:12<01:11,  2.46it/s]"
     ]
    },
    {
     "name": "stderr",
     "output_type": "stream",
     "text": [
      "\r",
      " 12%|██████▉                                                    | 23/197 [00:13<01:03,  2.76it/s]"
     ]
    },
    {
     "name": "stderr",
     "output_type": "stream",
     "text": [
      "\r",
      " 12%|███████▏                                                   | 24/197 [00:13<00:57,  3.01it/s]"
     ]
    },
    {
     "name": "stderr",
     "output_type": "stream",
     "text": [
      "\r",
      " 13%|███████▍                                                   | 25/197 [00:13<00:53,  3.24it/s]"
     ]
    },
    {
     "name": "stderr",
     "output_type": "stream",
     "text": [
      "\r",
      " 13%|███████▊                                                   | 26/197 [00:13<00:50,  3.42it/s]"
     ]
    },
    {
     "name": "stderr",
     "output_type": "stream",
     "text": [
      "\r",
      " 14%|████████                                                   | 27/197 [00:14<00:58,  2.93it/s]"
     ]
    },
    {
     "name": "stderr",
     "output_type": "stream",
     "text": [
      "\r",
      " 14%|████████▍                                                  | 28/197 [00:14<01:03,  2.68it/s]"
     ]
    },
    {
     "name": "stderr",
     "output_type": "stream",
     "text": [
      "\r",
      " 15%|████████▋                                                  | 29/197 [00:14<00:58,  2.89it/s]"
     ]
    },
    {
     "name": "stderr",
     "output_type": "stream",
     "text": [
      "\r",
      " 15%|████████▉                                                  | 30/197 [00:15<01:00,  2.75it/s]"
     ]
    },
    {
     "name": "stderr",
     "output_type": "stream",
     "text": [
      "\r",
      " 16%|█████████▎                                                 | 31/197 [00:15<00:53,  3.08it/s]"
     ]
    },
    {
     "name": "stderr",
     "output_type": "stream",
     "text": [
      "\r",
      " 16%|█████████▌                                                 | 32/197 [00:15<00:51,  3.21it/s]"
     ]
    },
    {
     "name": "stderr",
     "output_type": "stream",
     "text": [
      "\r",
      " 17%|█████████▉                                                 | 33/197 [00:16<00:54,  3.00it/s]"
     ]
    },
    {
     "name": "stderr",
     "output_type": "stream",
     "text": [
      "\r",
      " 17%|██████████▏                                                | 34/197 [00:16<00:56,  2.88it/s]"
     ]
    },
    {
     "name": "stderr",
     "output_type": "stream",
     "text": [
      "\r",
      " 18%|██████████▍                                                | 35/197 [00:17<01:15,  2.16it/s]"
     ]
    },
    {
     "name": "stderr",
     "output_type": "stream",
     "text": [
      "\r",
      " 18%|██████████▊                                                | 36/197 [00:17<01:08,  2.36it/s]"
     ]
    },
    {
     "name": "stderr",
     "output_type": "stream",
     "text": [
      "\r",
      " 19%|███████████                                                | 37/197 [00:18<01:02,  2.57it/s]"
     ]
    },
    {
     "name": "stderr",
     "output_type": "stream",
     "text": [
      "\r",
      " 19%|███████████▍                                               | 38/197 [00:18<00:59,  2.66it/s]"
     ]
    },
    {
     "name": "stderr",
     "output_type": "stream",
     "text": [
      "\r",
      " 20%|███████████▋                                               | 39/197 [00:18<00:54,  2.90it/s]"
     ]
    },
    {
     "name": "stderr",
     "output_type": "stream",
     "text": [
      "\r",
      " 20%|███████████▉                                               | 40/197 [00:18<00:54,  2.90it/s]"
     ]
    },
    {
     "name": "stderr",
     "output_type": "stream",
     "text": [
      "\r",
      " 21%|████████████▎                                              | 41/197 [00:19<00:55,  2.83it/s]"
     ]
    },
    {
     "name": "stderr",
     "output_type": "stream",
     "text": [
      "\r",
      " 21%|████████████▌                                              | 42/197 [00:19<00:47,  3.25it/s]"
     ]
    },
    {
     "name": "stderr",
     "output_type": "stream",
     "text": [
      "\r",
      " 22%|████████████▉                                              | 43/197 [00:19<00:50,  3.05it/s]"
     ]
    },
    {
     "name": "stderr",
     "output_type": "stream",
     "text": [
      "\r",
      " 22%|█████████████▏                                             | 44/197 [00:20<00:53,  2.85it/s]"
     ]
    },
    {
     "name": "stderr",
     "output_type": "stream",
     "text": [
      "\r",
      " 23%|█████████████▍                                             | 45/197 [00:20<00:53,  2.83it/s]"
     ]
    },
    {
     "name": "stderr",
     "output_type": "stream",
     "text": [
      "\r",
      " 23%|█████████████▊                                             | 46/197 [00:21<00:54,  2.78it/s]"
     ]
    },
    {
     "name": "stderr",
     "output_type": "stream",
     "text": [
      "\r",
      " 24%|██████████████                                             | 47/197 [00:24<02:54,  1.16s/it]"
     ]
    },
    {
     "name": "stderr",
     "output_type": "stream",
     "text": [
      "\r",
      " 24%|██████████████▍                                            | 48/197 [00:24<02:15,  1.10it/s]"
     ]
    },
    {
     "name": "stderr",
     "output_type": "stream",
     "text": [
      "\r",
      " 25%|██████████████▋                                            | 49/197 [00:24<01:46,  1.39it/s]"
     ]
    },
    {
     "name": "stderr",
     "output_type": "stream",
     "text": [
      "\r",
      " 25%|██████████████▉                                            | 50/197 [00:24<01:23,  1.77it/s]"
     ]
    },
    {
     "name": "stderr",
     "output_type": "stream",
     "text": [
      "\r",
      " 26%|███████████████▎                                           | 51/197 [00:25<01:13,  1.97it/s]"
     ]
    },
    {
     "name": "stderr",
     "output_type": "stream",
     "text": [
      "\r",
      " 26%|███████████████▌                                           | 52/197 [00:26<01:25,  1.70it/s]"
     ]
    },
    {
     "name": "stderr",
     "output_type": "stream",
     "text": [
      "\r",
      " 27%|███████████████▊                                           | 53/197 [00:27<01:40,  1.44it/s]"
     ]
    },
    {
     "name": "stderr",
     "output_type": "stream",
     "text": [
      "\r",
      " 27%|████████████████▏                                          | 54/197 [00:27<01:47,  1.33it/s]"
     ]
    },
    {
     "name": "stderr",
     "output_type": "stream",
     "text": [
      "\r",
      " 28%|████████████████▍                                          | 55/197 [00:28<01:50,  1.28it/s]"
     ]
    },
    {
     "name": "stderr",
     "output_type": "stream",
     "text": [
      "\r",
      " 28%|████████████████▊                                          | 56/197 [00:29<01:29,  1.58it/s]"
     ]
    },
    {
     "name": "stderr",
     "output_type": "stream",
     "text": [
      "\r",
      " 29%|█████████████████                                          | 57/197 [00:29<01:18,  1.79it/s]"
     ]
    },
    {
     "name": "stderr",
     "output_type": "stream",
     "text": [
      "\r",
      " 29%|█████████████████                                          | 57/197 [00:29<01:13,  1.90it/s]"
     ]
    },
    {
     "name": "stderr",
     "output_type": "stream",
     "text": [
      "\n"
     ]
    },
    {
     "ename": "KeyboardInterrupt",
     "evalue": "",
     "output_type": "error",
     "traceback": [
      "\u001b[0;31m---------------------------------------------------------------------------\u001b[0m",
      "\u001b[0;31mKeyboardInterrupt\u001b[0m                         Traceback (most recent call last)",
      "Cell \u001b[0;32mIn[4], line 9\u001b[0m\n\u001b[1;32m      7\u001b[0m ds_meta \u001b[38;5;241m=\u001b[39m {}\n\u001b[1;32m      8\u001b[0m \u001b[38;5;28;01mfor\u001b[39;00m dataset_id \u001b[38;5;129;01min\u001b[39;00m tqdm(df_datasets\u001b[38;5;241m.\u001b[39mindex):\n\u001b[0;32m----> 9\u001b[0m     ds_meta[dataset_id] \u001b[38;5;241m=\u001b[39m \u001b[43mutils\u001b[49m\u001b[38;5;241;43m.\u001b[39;49m\u001b[43mget_meta\u001b[49m\u001b[43m(\u001b[49m\u001b[43mdataset_id\u001b[49m\u001b[43m)\u001b[49m\n",
      "File \u001b[0;32m~/Library/Mobile Documents/com~apple~CloudDocs/Work/teaching/SeaOcn-UHH/2024-SeaOcn/05-github/erddap_demo/erddaputils.py:80\u001b[0m, in \u001b[0;36mget_meta\u001b[0;34m(dataset_id, protocol)\u001b[0m\n\u001b[1;32m     78\u001b[0m e \u001b[38;5;241m=\u001b[39m init_erddap(protocol\u001b[38;5;241m=\u001b[39mprotocol)\n\u001b[1;32m     79\u001b[0m e\u001b[38;5;241m.\u001b[39mdataset_id \u001b[38;5;241m=\u001b[39m dataset_id\n\u001b[0;32m---> 80\u001b[0m meta \u001b[38;5;241m=\u001b[39m \u001b[43me\u001b[49m\u001b[38;5;241;43m.\u001b[39;49m\u001b[43mto_ncCF\u001b[49m\u001b[43m(\u001b[49m\u001b[43m)\u001b[49m\n\u001b[1;32m     81\u001b[0m attrs \u001b[38;5;241m=\u001b[39m {}\n\u001b[1;32m     82\u001b[0m \u001b[38;5;28;01mfor\u001b[39;00m key_name \u001b[38;5;129;01min\u001b[39;00m \u001b[38;5;28mdir\u001b[39m(meta):\n",
      "File \u001b[0;32m~/micromamba/envs/seaocn_env/lib/python3.8/site-packages/erddapy/erddapy.py:368\u001b[0m, in \u001b[0;36mERDDAP.to_ncCF\u001b[0;34m(self, protocol, **kw)\u001b[0m\n\u001b[1;32m    366\u001b[0m protocol \u001b[38;5;241m=\u001b[39m protocol \u001b[38;5;28;01mif\u001b[39;00m protocol \u001b[38;5;28;01melse\u001b[39;00m \u001b[38;5;28mself\u001b[39m\u001b[38;5;241m.\u001b[39mprotocol\n\u001b[1;32m    367\u001b[0m url \u001b[38;5;241m=\u001b[39m \u001b[38;5;28mself\u001b[39m\u001b[38;5;241m.\u001b[39mget_download_url(response\u001b[38;5;241m=\u001b[39m\u001b[38;5;124m\"\u001b[39m\u001b[38;5;124mncCF\u001b[39m\u001b[38;5;124m\"\u001b[39m, distinct\u001b[38;5;241m=\u001b[39mdistinct)\n\u001b[0;32m--> 368\u001b[0m \u001b[38;5;28;01mreturn\u001b[39;00m \u001b[43mto_ncCF\u001b[49m\u001b[43m(\u001b[49m\u001b[43murl\u001b[49m\u001b[43m,\u001b[49m\u001b[43m \u001b[49m\u001b[43mprotocol\u001b[49m\u001b[38;5;241;43m=\u001b[39;49m\u001b[43mprotocol\u001b[49m\u001b[43m,\u001b[49m\u001b[43m \u001b[49m\u001b[43mrequests_kwargs\u001b[49m\u001b[38;5;241;43m=\u001b[39;49m\u001b[38;5;28;43mdict\u001b[39;49m\u001b[43m(\u001b[49m\u001b[38;5;241;43m*\u001b[39;49m\u001b[38;5;241;43m*\u001b[39;49m\u001b[43mkw\u001b[49m\u001b[43m)\u001b[49m\u001b[43m)\u001b[49m\n",
      "File \u001b[0;32m~/micromamba/envs/seaocn_env/lib/python3.8/site-packages/erddapy/core/interfaces.py:54\u001b[0m, in \u001b[0;36mto_ncCF\u001b[0;34m(url, protocol, requests_kwargs)\u001b[0m\n\u001b[1;32m     50\u001b[0m \u001b[38;5;28;01mif\u001b[39;00m protocol \u001b[38;5;241m==\u001b[39m \u001b[38;5;124m\"\u001b[39m\u001b[38;5;124mgriddap\u001b[39m\u001b[38;5;124m\"\u001b[39m:\n\u001b[1;32m     51\u001b[0m     \u001b[38;5;28;01mraise\u001b[39;00m \u001b[38;5;167;01mValueError\u001b[39;00m(\n\u001b[1;32m     52\u001b[0m         \u001b[38;5;124mf\u001b[39m\u001b[38;5;124m\"\u001b[39m\u001b[38;5;124mCannot use .ncCF with griddap protocol. The URL you tried to access is: \u001b[39m\u001b[38;5;124m'\u001b[39m\u001b[38;5;132;01m{\u001b[39;00murl\u001b[38;5;132;01m}\u001b[39;00m\u001b[38;5;124m'\u001b[39m\u001b[38;5;124m.\u001b[39m\u001b[38;5;124m\"\u001b[39m,\n\u001b[1;32m     53\u001b[0m     )\n\u001b[0;32m---> 54\u001b[0m \u001b[38;5;28;01mreturn\u001b[39;00m \u001b[43m_nc_dataset\u001b[49m\u001b[43m(\u001b[49m\u001b[43murl\u001b[49m\u001b[43m,\u001b[49m\u001b[43m \u001b[49m\u001b[43mrequests_kwargs\u001b[49m\u001b[43m)\u001b[49m\n",
      "File \u001b[0;32m~/micromamba/envs/seaocn_env/lib/python3.8/site-packages/erddapy/core/netcdf.py:16\u001b[0m, in \u001b[0;36m_nc_dataset\u001b[0;34m(url, requests_kwargs)\u001b[0m\n\u001b[1;32m     13\u001b[0m \u001b[38;5;250m\u001b[39m\u001b[38;5;124;03m\"\"\"Return a netCDF4-python Dataset from memory and fallbacks to disk if that fails.\"\"\"\u001b[39;00m\n\u001b[1;32m     14\u001b[0m \u001b[38;5;28;01mfrom\u001b[39;00m \u001b[38;5;21;01mnetCDF4\u001b[39;00m \u001b[38;5;28;01mimport\u001b[39;00m Dataset\n\u001b[0;32m---> 16\u001b[0m data \u001b[38;5;241m=\u001b[39m \u001b[43murlopen\u001b[49m\u001b[43m(\u001b[49m\u001b[43murl\u001b[49m\u001b[43m,\u001b[49m\u001b[43m \u001b[49m\u001b[43mrequests_kwargs\u001b[49m\u001b[43m)\u001b[49m\n\u001b[1;32m     17\u001b[0m \u001b[38;5;28;01mtry\u001b[39;00m:\n\u001b[1;32m     18\u001b[0m     \u001b[38;5;28;01mreturn\u001b[39;00m Dataset(Path(urlparse(url)\u001b[38;5;241m.\u001b[39mpath)\u001b[38;5;241m.\u001b[39mname, memory\u001b[38;5;241m=\u001b[39mdata\u001b[38;5;241m.\u001b[39mread())\n",
      "File \u001b[0;32m~/micromamba/envs/seaocn_env/lib/python3.8/site-packages/erddapy/core/url.py:42\u001b[0m, in \u001b[0;36murlopen\u001b[0;34m(url, requests_kwargs)\u001b[0m\n\u001b[1;32m     40\u001b[0m \u001b[38;5;28;01mif\u001b[39;00m requests_kwargs \u001b[38;5;129;01mis\u001b[39;00m \u001b[38;5;28;01mNone\u001b[39;00m:\n\u001b[1;32m     41\u001b[0m     requests_kwargs \u001b[38;5;241m=\u001b[39m {}\n\u001b[0;32m---> 42\u001b[0m data \u001b[38;5;241m=\u001b[39m \u001b[43m_urlopen\u001b[49m\u001b[43m(\u001b[49m\u001b[43murl\u001b[49m\u001b[43m,\u001b[49m\u001b[43m \u001b[49m\u001b[38;5;241;43m*\u001b[39;49m\u001b[38;5;241;43m*\u001b[39;49m\u001b[43mrequests_kwargs\u001b[49m\u001b[43m)\u001b[49m  \u001b[38;5;66;03m# type: ignore\u001b[39;00m\n\u001b[1;32m     43\u001b[0m data\u001b[38;5;241m.\u001b[39mseek(\u001b[38;5;241m0\u001b[39m)\n\u001b[1;32m     44\u001b[0m \u001b[38;5;28;01mreturn\u001b[39;00m data\n",
      "File \u001b[0;32m~/micromamba/envs/seaocn_env/lib/python3.8/site-packages/erddapy/core/url.py:22\u001b[0m, in \u001b[0;36m_urlopen\u001b[0;34m(url, auth, **kwargs)\u001b[0m\n\u001b[1;32m     20\u001b[0m \u001b[38;5;28;01mif\u001b[39;00m \u001b[38;5;124m\"\u001b[39m\u001b[38;5;124mtimeout\u001b[39m\u001b[38;5;124m\"\u001b[39m \u001b[38;5;129;01mnot\u001b[39;00m \u001b[38;5;129;01min\u001b[39;00m kwargs\u001b[38;5;241m.\u001b[39mkeys():\n\u001b[1;32m     21\u001b[0m     kwargs[\u001b[38;5;124m\"\u001b[39m\u001b[38;5;124mtimeout\u001b[39m\u001b[38;5;124m\"\u001b[39m] \u001b[38;5;241m=\u001b[39m \u001b[38;5;241m60\u001b[39m\n\u001b[0;32m---> 22\u001b[0m response \u001b[38;5;241m=\u001b[39m \u001b[43mhttpx\u001b[49m\u001b[38;5;241;43m.\u001b[39;49m\u001b[43mget\u001b[49m\u001b[43m(\u001b[49m\u001b[43murl\u001b[49m\u001b[43m,\u001b[49m\u001b[43m \u001b[49m\u001b[43mfollow_redirects\u001b[49m\u001b[38;5;241;43m=\u001b[39;49m\u001b[38;5;28;43;01mTrue\u001b[39;49;00m\u001b[43m,\u001b[49m\u001b[43m \u001b[49m\u001b[43mauth\u001b[49m\u001b[38;5;241;43m=\u001b[39;49m\u001b[43mauth\u001b[49m\u001b[43m,\u001b[49m\u001b[43m \u001b[49m\u001b[38;5;241;43m*\u001b[39;49m\u001b[38;5;241;43m*\u001b[39;49m\u001b[43mkwargs\u001b[49m\u001b[43m)\u001b[49m\n\u001b[1;32m     23\u001b[0m \u001b[38;5;28;01mtry\u001b[39;00m:\n\u001b[1;32m     24\u001b[0m     response\u001b[38;5;241m.\u001b[39mraise_for_status()\n",
      "File \u001b[0;32m~/micromamba/envs/seaocn_env/lib/python3.8/site-packages/httpx/_api.py:198\u001b[0m, in \u001b[0;36mget\u001b[0;34m(url, params, headers, cookies, auth, proxy, proxies, follow_redirects, cert, verify, timeout, trust_env)\u001b[0m\n\u001b[1;32m    175\u001b[0m \u001b[38;5;28;01mdef\u001b[39;00m \u001b[38;5;21mget\u001b[39m(\n\u001b[1;32m    176\u001b[0m     url: URLTypes,\n\u001b[1;32m    177\u001b[0m     \u001b[38;5;241m*\u001b[39m,\n\u001b[0;32m   (...)\u001b[0m\n\u001b[1;32m    188\u001b[0m     trust_env: \u001b[38;5;28mbool\u001b[39m \u001b[38;5;241m=\u001b[39m \u001b[38;5;28;01mTrue\u001b[39;00m,\n\u001b[1;32m    189\u001b[0m ) \u001b[38;5;241m-\u001b[39m\u001b[38;5;241m>\u001b[39m Response:\n\u001b[1;32m    190\u001b[0m \u001b[38;5;250m    \u001b[39m\u001b[38;5;124;03m\"\"\"\u001b[39;00m\n\u001b[1;32m    191\u001b[0m \u001b[38;5;124;03m    Sends a `GET` request.\u001b[39;00m\n\u001b[1;32m    192\u001b[0m \n\u001b[0;32m   (...)\u001b[0m\n\u001b[1;32m    196\u001b[0m \u001b[38;5;124;03m    on this function, as `GET` requests should not include a request body.\u001b[39;00m\n\u001b[1;32m    197\u001b[0m \u001b[38;5;124;03m    \"\"\"\u001b[39;00m\n\u001b[0;32m--> 198\u001b[0m     \u001b[38;5;28;01mreturn\u001b[39;00m \u001b[43mrequest\u001b[49m\u001b[43m(\u001b[49m\n\u001b[1;32m    199\u001b[0m \u001b[43m        \u001b[49m\u001b[38;5;124;43m\"\u001b[39;49m\u001b[38;5;124;43mGET\u001b[39;49m\u001b[38;5;124;43m\"\u001b[39;49m\u001b[43m,\u001b[49m\n\u001b[1;32m    200\u001b[0m \u001b[43m        \u001b[49m\u001b[43murl\u001b[49m\u001b[43m,\u001b[49m\n\u001b[1;32m    201\u001b[0m \u001b[43m        \u001b[49m\u001b[43mparams\u001b[49m\u001b[38;5;241;43m=\u001b[39;49m\u001b[43mparams\u001b[49m\u001b[43m,\u001b[49m\n\u001b[1;32m    202\u001b[0m \u001b[43m        \u001b[49m\u001b[43mheaders\u001b[49m\u001b[38;5;241;43m=\u001b[39;49m\u001b[43mheaders\u001b[49m\u001b[43m,\u001b[49m\n\u001b[1;32m    203\u001b[0m \u001b[43m        \u001b[49m\u001b[43mcookies\u001b[49m\u001b[38;5;241;43m=\u001b[39;49m\u001b[43mcookies\u001b[49m\u001b[43m,\u001b[49m\n\u001b[1;32m    204\u001b[0m \u001b[43m        \u001b[49m\u001b[43mauth\u001b[49m\u001b[38;5;241;43m=\u001b[39;49m\u001b[43mauth\u001b[49m\u001b[43m,\u001b[49m\n\u001b[1;32m    205\u001b[0m \u001b[43m        \u001b[49m\u001b[43mproxy\u001b[49m\u001b[38;5;241;43m=\u001b[39;49m\u001b[43mproxy\u001b[49m\u001b[43m,\u001b[49m\n\u001b[1;32m    206\u001b[0m \u001b[43m        \u001b[49m\u001b[43mproxies\u001b[49m\u001b[38;5;241;43m=\u001b[39;49m\u001b[43mproxies\u001b[49m\u001b[43m,\u001b[49m\n\u001b[1;32m    207\u001b[0m \u001b[43m        \u001b[49m\u001b[43mfollow_redirects\u001b[49m\u001b[38;5;241;43m=\u001b[39;49m\u001b[43mfollow_redirects\u001b[49m\u001b[43m,\u001b[49m\n\u001b[1;32m    208\u001b[0m \u001b[43m        \u001b[49m\u001b[43mcert\u001b[49m\u001b[38;5;241;43m=\u001b[39;49m\u001b[43mcert\u001b[49m\u001b[43m,\u001b[49m\n\u001b[1;32m    209\u001b[0m \u001b[43m        \u001b[49m\u001b[43mverify\u001b[49m\u001b[38;5;241;43m=\u001b[39;49m\u001b[43mverify\u001b[49m\u001b[43m,\u001b[49m\n\u001b[1;32m    210\u001b[0m \u001b[43m        \u001b[49m\u001b[43mtimeout\u001b[49m\u001b[38;5;241;43m=\u001b[39;49m\u001b[43mtimeout\u001b[49m\u001b[43m,\u001b[49m\n\u001b[1;32m    211\u001b[0m \u001b[43m        \u001b[49m\u001b[43mtrust_env\u001b[49m\u001b[38;5;241;43m=\u001b[39;49m\u001b[43mtrust_env\u001b[49m\u001b[43m,\u001b[49m\n\u001b[1;32m    212\u001b[0m \u001b[43m    \u001b[49m\u001b[43m)\u001b[49m\n",
      "File \u001b[0;32m~/micromamba/envs/seaocn_env/lib/python3.8/site-packages/httpx/_api.py:106\u001b[0m, in \u001b[0;36mrequest\u001b[0;34m(method, url, params, content, data, files, json, headers, cookies, auth, proxy, proxies, timeout, follow_redirects, verify, cert, trust_env)\u001b[0m\n\u001b[1;32m     46\u001b[0m \u001b[38;5;250m\u001b[39m\u001b[38;5;124;03m\"\"\"\u001b[39;00m\n\u001b[1;32m     47\u001b[0m \u001b[38;5;124;03mSends an HTTP request.\u001b[39;00m\n\u001b[1;32m     48\u001b[0m \n\u001b[0;32m   (...)\u001b[0m\n\u001b[1;32m     95\u001b[0m \u001b[38;5;124;03m```\u001b[39;00m\n\u001b[1;32m     96\u001b[0m \u001b[38;5;124;03m\"\"\"\u001b[39;00m\n\u001b[1;32m     97\u001b[0m \u001b[38;5;28;01mwith\u001b[39;00m Client(\n\u001b[1;32m     98\u001b[0m     cookies\u001b[38;5;241m=\u001b[39mcookies,\n\u001b[1;32m     99\u001b[0m     proxy\u001b[38;5;241m=\u001b[39mproxy,\n\u001b[0;32m   (...)\u001b[0m\n\u001b[1;32m    104\u001b[0m     trust_env\u001b[38;5;241m=\u001b[39mtrust_env,\n\u001b[1;32m    105\u001b[0m ) \u001b[38;5;28;01mas\u001b[39;00m client:\n\u001b[0;32m--> 106\u001b[0m     \u001b[38;5;28;01mreturn\u001b[39;00m \u001b[43mclient\u001b[49m\u001b[38;5;241;43m.\u001b[39;49m\u001b[43mrequest\u001b[49m\u001b[43m(\u001b[49m\n\u001b[1;32m    107\u001b[0m \u001b[43m        \u001b[49m\u001b[43mmethod\u001b[49m\u001b[38;5;241;43m=\u001b[39;49m\u001b[43mmethod\u001b[49m\u001b[43m,\u001b[49m\n\u001b[1;32m    108\u001b[0m \u001b[43m        \u001b[49m\u001b[43murl\u001b[49m\u001b[38;5;241;43m=\u001b[39;49m\u001b[43murl\u001b[49m\u001b[43m,\u001b[49m\n\u001b[1;32m    109\u001b[0m \u001b[43m        \u001b[49m\u001b[43mcontent\u001b[49m\u001b[38;5;241;43m=\u001b[39;49m\u001b[43mcontent\u001b[49m\u001b[43m,\u001b[49m\n\u001b[1;32m    110\u001b[0m \u001b[43m        \u001b[49m\u001b[43mdata\u001b[49m\u001b[38;5;241;43m=\u001b[39;49m\u001b[43mdata\u001b[49m\u001b[43m,\u001b[49m\n\u001b[1;32m    111\u001b[0m \u001b[43m        \u001b[49m\u001b[43mfiles\u001b[49m\u001b[38;5;241;43m=\u001b[39;49m\u001b[43mfiles\u001b[49m\u001b[43m,\u001b[49m\n\u001b[1;32m    112\u001b[0m \u001b[43m        \u001b[49m\u001b[43mjson\u001b[49m\u001b[38;5;241;43m=\u001b[39;49m\u001b[43mjson\u001b[49m\u001b[43m,\u001b[49m\n\u001b[1;32m    113\u001b[0m \u001b[43m        \u001b[49m\u001b[43mparams\u001b[49m\u001b[38;5;241;43m=\u001b[39;49m\u001b[43mparams\u001b[49m\u001b[43m,\u001b[49m\n\u001b[1;32m    114\u001b[0m \u001b[43m        \u001b[49m\u001b[43mheaders\u001b[49m\u001b[38;5;241;43m=\u001b[39;49m\u001b[43mheaders\u001b[49m\u001b[43m,\u001b[49m\n\u001b[1;32m    115\u001b[0m \u001b[43m        \u001b[49m\u001b[43mauth\u001b[49m\u001b[38;5;241;43m=\u001b[39;49m\u001b[43mauth\u001b[49m\u001b[43m,\u001b[49m\n\u001b[1;32m    116\u001b[0m \u001b[43m        \u001b[49m\u001b[43mfollow_redirects\u001b[49m\u001b[38;5;241;43m=\u001b[39;49m\u001b[43mfollow_redirects\u001b[49m\u001b[43m,\u001b[49m\n\u001b[1;32m    117\u001b[0m \u001b[43m    \u001b[49m\u001b[43m)\u001b[49m\n",
      "File \u001b[0;32m~/micromamba/envs/seaocn_env/lib/python3.8/site-packages/httpx/_client.py:827\u001b[0m, in \u001b[0;36mClient.request\u001b[0;34m(self, method, url, content, data, files, json, params, headers, cookies, auth, follow_redirects, timeout, extensions)\u001b[0m\n\u001b[1;32m    812\u001b[0m     warnings\u001b[38;5;241m.\u001b[39mwarn(message, \u001b[38;5;167;01mDeprecationWarning\u001b[39;00m)\n\u001b[1;32m    814\u001b[0m request \u001b[38;5;241m=\u001b[39m \u001b[38;5;28mself\u001b[39m\u001b[38;5;241m.\u001b[39mbuild_request(\n\u001b[1;32m    815\u001b[0m     method\u001b[38;5;241m=\u001b[39mmethod,\n\u001b[1;32m    816\u001b[0m     url\u001b[38;5;241m=\u001b[39murl,\n\u001b[0;32m   (...)\u001b[0m\n\u001b[1;32m    825\u001b[0m     extensions\u001b[38;5;241m=\u001b[39mextensions,\n\u001b[1;32m    826\u001b[0m )\n\u001b[0;32m--> 827\u001b[0m \u001b[38;5;28;01mreturn\u001b[39;00m \u001b[38;5;28;43mself\u001b[39;49m\u001b[38;5;241;43m.\u001b[39;49m\u001b[43msend\u001b[49m\u001b[43m(\u001b[49m\u001b[43mrequest\u001b[49m\u001b[43m,\u001b[49m\u001b[43m \u001b[49m\u001b[43mauth\u001b[49m\u001b[38;5;241;43m=\u001b[39;49m\u001b[43mauth\u001b[49m\u001b[43m,\u001b[49m\u001b[43m \u001b[49m\u001b[43mfollow_redirects\u001b[49m\u001b[38;5;241;43m=\u001b[39;49m\u001b[43mfollow_redirects\u001b[49m\u001b[43m)\u001b[49m\n",
      "File \u001b[0;32m~/micromamba/envs/seaocn_env/lib/python3.8/site-packages/httpx/_client.py:928\u001b[0m, in \u001b[0;36mClient.send\u001b[0;34m(self, request, stream, auth, follow_redirects)\u001b[0m\n\u001b[1;32m    926\u001b[0m \u001b[38;5;28;01mexcept\u001b[39;00m \u001b[38;5;167;01mBaseException\u001b[39;00m \u001b[38;5;28;01mas\u001b[39;00m exc:\n\u001b[1;32m    927\u001b[0m     response\u001b[38;5;241m.\u001b[39mclose()\n\u001b[0;32m--> 928\u001b[0m     \u001b[38;5;28;01mraise\u001b[39;00m exc\n",
      "File \u001b[0;32m~/micromamba/envs/seaocn_env/lib/python3.8/site-packages/httpx/_client.py:922\u001b[0m, in \u001b[0;36mClient.send\u001b[0;34m(self, request, stream, auth, follow_redirects)\u001b[0m\n\u001b[1;32m    920\u001b[0m \u001b[38;5;28;01mtry\u001b[39;00m:\n\u001b[1;32m    921\u001b[0m     \u001b[38;5;28;01mif\u001b[39;00m \u001b[38;5;129;01mnot\u001b[39;00m stream:\n\u001b[0;32m--> 922\u001b[0m         \u001b[43mresponse\u001b[49m\u001b[38;5;241;43m.\u001b[39;49m\u001b[43mread\u001b[49m\u001b[43m(\u001b[49m\u001b[43m)\u001b[49m\n\u001b[1;32m    924\u001b[0m     \u001b[38;5;28;01mreturn\u001b[39;00m response\n\u001b[1;32m    926\u001b[0m \u001b[38;5;28;01mexcept\u001b[39;00m \u001b[38;5;167;01mBaseException\u001b[39;00m \u001b[38;5;28;01mas\u001b[39;00m exc:\n",
      "File \u001b[0;32m~/micromamba/envs/seaocn_env/lib/python3.8/site-packages/httpx/_models.py:813\u001b[0m, in \u001b[0;36mResponse.read\u001b[0;34m(self)\u001b[0m\n\u001b[1;32m    809\u001b[0m \u001b[38;5;250m\u001b[39m\u001b[38;5;124;03m\"\"\"\u001b[39;00m\n\u001b[1;32m    810\u001b[0m \u001b[38;5;124;03mRead and return the response content.\u001b[39;00m\n\u001b[1;32m    811\u001b[0m \u001b[38;5;124;03m\"\"\"\u001b[39;00m\n\u001b[1;32m    812\u001b[0m \u001b[38;5;28;01mif\u001b[39;00m \u001b[38;5;129;01mnot\u001b[39;00m \u001b[38;5;28mhasattr\u001b[39m(\u001b[38;5;28mself\u001b[39m, \u001b[38;5;124m\"\u001b[39m\u001b[38;5;124m_content\u001b[39m\u001b[38;5;124m\"\u001b[39m):\n\u001b[0;32m--> 813\u001b[0m     \u001b[38;5;28mself\u001b[39m\u001b[38;5;241m.\u001b[39m_content \u001b[38;5;241m=\u001b[39m \u001b[38;5;124;43mb\u001b[39;49m\u001b[38;5;124;43m\"\u001b[39;49m\u001b[38;5;124;43m\"\u001b[39;49m\u001b[38;5;241;43m.\u001b[39;49m\u001b[43mjoin\u001b[49m\u001b[43m(\u001b[49m\u001b[38;5;28;43mself\u001b[39;49m\u001b[38;5;241;43m.\u001b[39;49m\u001b[43miter_bytes\u001b[49m\u001b[43m(\u001b[49m\u001b[43m)\u001b[49m\u001b[43m)\u001b[49m\n\u001b[1;32m    814\u001b[0m \u001b[38;5;28;01mreturn\u001b[39;00m \u001b[38;5;28mself\u001b[39m\u001b[38;5;241m.\u001b[39m_content\n",
      "File \u001b[0;32m~/micromamba/envs/seaocn_env/lib/python3.8/site-packages/httpx/_models.py:830\u001b[0m, in \u001b[0;36mResponse.iter_bytes\u001b[0;34m(self, chunk_size)\u001b[0m\n\u001b[1;32m    828\u001b[0m \u001b[38;5;28;01mwith\u001b[39;00m request_context(request\u001b[38;5;241m=\u001b[39m\u001b[38;5;28mself\u001b[39m\u001b[38;5;241m.\u001b[39m_request):\n\u001b[1;32m    829\u001b[0m     \u001b[38;5;28;01mfor\u001b[39;00m raw_bytes \u001b[38;5;129;01min\u001b[39;00m \u001b[38;5;28mself\u001b[39m\u001b[38;5;241m.\u001b[39miter_raw():\n\u001b[0;32m--> 830\u001b[0m         decoded \u001b[38;5;241m=\u001b[39m \u001b[43mdecoder\u001b[49m\u001b[38;5;241;43m.\u001b[39;49m\u001b[43mdecode\u001b[49m\u001b[43m(\u001b[49m\u001b[43mraw_bytes\u001b[49m\u001b[43m)\u001b[49m\n\u001b[1;32m    831\u001b[0m         \u001b[38;5;28;01mfor\u001b[39;00m chunk \u001b[38;5;129;01min\u001b[39;00m chunker\u001b[38;5;241m.\u001b[39mdecode(decoded):\n\u001b[1;32m    832\u001b[0m             \u001b[38;5;28;01myield\u001b[39;00m chunk\n",
      "File \u001b[0;32m~/micromamba/envs/seaocn_env/lib/python3.8/site-packages/httpx/_decoders.py:78\u001b[0m, in \u001b[0;36mGZipDecoder.decode\u001b[0;34m(self, data)\u001b[0m\n\u001b[1;32m     76\u001b[0m \u001b[38;5;28;01mdef\u001b[39;00m \u001b[38;5;21mdecode\u001b[39m(\u001b[38;5;28mself\u001b[39m, data: \u001b[38;5;28mbytes\u001b[39m) \u001b[38;5;241m-\u001b[39m\u001b[38;5;241m>\u001b[39m \u001b[38;5;28mbytes\u001b[39m:\n\u001b[1;32m     77\u001b[0m     \u001b[38;5;28;01mtry\u001b[39;00m:\n\u001b[0;32m---> 78\u001b[0m         \u001b[38;5;28;01mreturn\u001b[39;00m \u001b[38;5;28;43mself\u001b[39;49m\u001b[38;5;241;43m.\u001b[39;49m\u001b[43mdecompressor\u001b[49m\u001b[38;5;241;43m.\u001b[39;49m\u001b[43mdecompress\u001b[49m\u001b[43m(\u001b[49m\u001b[43mdata\u001b[49m\u001b[43m)\u001b[49m\n\u001b[1;32m     79\u001b[0m     \u001b[38;5;28;01mexcept\u001b[39;00m zlib\u001b[38;5;241m.\u001b[39merror \u001b[38;5;28;01mas\u001b[39;00m exc:\n\u001b[1;32m     80\u001b[0m         \u001b[38;5;28;01mraise\u001b[39;00m DecodingError(\u001b[38;5;28mstr\u001b[39m(exc)) \u001b[38;5;28;01mfrom\u001b[39;00m \u001b[38;5;21;01mexc\u001b[39;00m\n",
      "\u001b[0;31mKeyboardInterrupt\u001b[0m: "
     ]
    }
   ],
   "source": [
    "# drop the allDatasets row and make the datasetID the index for easier reading\n",
    "df_datasets.set_index(\"datasetID\", inplace=True)\n",
    "df_datasets.drop(\"allDatasets\", inplace=True)\n",
    "\n",
    "# Get only nrt data (near real time) and not delayed as otherwise it would be very long for an intial data exploration\n",
    "df_datasets = df_datasets[df_datasets.index.str[:3] == \"nrt\"]\n",
    "ds_meta = {}\n",
    "for dataset_id in tqdm(df_datasets.index):\n",
    "    ds_meta[dataset_id] = utils.get_meta(dataset_id)"
   ]
  },
  {
   "cell_type": "markdown",
   "id": "767daeb5-e879-436b-afbf-908a7c73f07b",
   "metadata": {},
   "source": [
    "Stats to see where data is available and since when https://observations.voiceoftheocean.org/stats\n",
    "\n",
    "We just downlaoded info on all data so that now we can just find the specific datasets we want based on specific criteria"
   ]
  },
  {
   "cell_type": "markdown",
   "id": "cc1a092c-d4c6-4d9c-9214-e9717881e859",
   "metadata": {},
   "source": [
    "## 1. Åland sea data"
   ]
  },
  {
   "cell_type": "code",
   "execution_count": null,
   "id": "5f0913a7-f600-4143-b60f-9d4764ac1efb",
   "metadata": {},
   "outputs": [],
   "source": [
    "name=[]\n",
    "for dataset_id, meta in ds_meta.items():\n",
    "    if meta['deployment_start']>'2023-02-01':\n",
    "        if 'Åland' in meta['basin']:\n",
    "            name.append(dataset_id)\n",
    "print(f'Found {len(name)} datasets in Åland: {name}')"
   ]
  },
  {
   "cell_type": "code",
   "execution_count": null,
   "id": "66b1f1dd-b68c-410b-b2dc-ab84fd0775d1",
   "metadata": {},
   "outputs": [],
   "source": [
    "name = [name[4]]"
   ]
  },
  {
   "cell_type": "code",
   "execution_count": null,
   "id": "0ed7cccb-7f18-47c1-abf0-50fe67af0a7d",
   "metadata": {},
   "outputs": [],
   "source": [
    "ds_nrt = utils.download_glider_dataset(name, nrt_only=True) "
   ]
  },
  {
   "cell_type": "markdown",
   "id": "5d91d453-5395-4d67-81fb-0525ae9861a4",
   "metadata": {},
   "source": [
    "### We use only nrt data and not delayed mode as it would be way slower otherwise\n",
    "NRT data is generally contains only one file every 3-4h (lastest dive of 2 to 12 multidives) and data is subsampled (30s instead of data every second)\n",
    "In deep areas as the Åland sea this means that in the NRT files we have generally every other dive with subsampled data. In shallower locations as the Bornholm basin, it means that we get one data file every 6 to 8 dives and subsampled.\n",
    "In areas with a more complex bathymetry as the Kattegat/Skagerrak area where the glider dives as deep as 200m in the north and as shallow as 40m in the south, we then receive files every 2 to 12 dives for the NRT dataset. "
   ]
  },
  {
   "cell_type": "code",
   "execution_count": null,
   "id": "67b9d8b7-b519-4933-b147-e0109f4ded22",
   "metadata": {},
   "outputs": [],
   "source": [
    "# Example of datasets so one can see where the metadata is and how it is structured and what the variables are and what the units are\n",
    "miss1 = name[0]\n",
    "\n",
    "ds_nrt[miss1]\n"
   ]
  },
  {
   "cell_type": "code",
   "execution_count": null,
   "id": "c2ee0f99-75c4-418d-a915-c6dceabda727",
   "metadata": {},
   "outputs": [],
   "source": [
    "full_data = []\n",
    "for i in range(len(name)):\n",
    "    full_data.append(ds_nrt[name[i]])\n",
    "full_data = xr.concat(full_data, dim= 'time')\n",
    "\n",
    "fig, ax = plt.subplots(5,1,figsize=(20, 15), sharex=True)\n",
    "matplotlib.rcParams.update({'font.size': 18})\n",
    "time=mdates.date2num(full_data.time)\n",
    "t=ax[0].scatter( time,full_data.depth, c=full_data.temperature,s=20, cmap=cmo.thermal, vmin=np.nanpercentile(full_data.temperature, 0.5), vmax=np.nanpercentile(full_data.temperature, 99.5))\n",
    "s=ax[1].scatter( time,full_data.depth, c=full_data.salinity,s=20,cmap=cmo.haline, vmin=np.nanpercentile(full_data.salinity, 0.5), vmax=np.nanpercentile(full_data.salinity, 99.5))\n",
    "d=ax[2].scatter( time,full_data.depth, c=full_data.density, s=20, cmap=cmo.dense, vmin=np.nanpercentile(full_data.density, 0.5), vmax=np.nanpercentile(full_data.density, 99.5))\n",
    "o=ax[3].scatter( time,full_data.depth, c=full_data.oxygen_concentration, s=20,vmin=np.nanpercentile(full_data.oxygen_concentration, 0.5), vmax=np.nanpercentile(full_data.oxygen_concentration, 99.5))\n",
    "c=ax[4].scatter( time,full_data.depth, c=full_data.chlorophyll, s=20, cmap=cmo.algae, vmin=np.nanpercentile(full_data.chlorophyll, 0.5), vmax=np.nanpercentile(full_data.chlorophyll, 99.5))\n",
    "    \n",
    "[a.set_ylim(270,-10) for a in ax]\n",
    "[a.grid() for a in ax]\n",
    "ax[1].xaxis.reset_ticks()\n",
    "ax[1].xaxis.set_major_locator(mdates.WeekdayLocator(byweekday = 1, interval=3))\n",
    "ax[1].xaxis.set_major_formatter(mdates.DateFormatter('%Y-%m-%d'))\n",
    "\n",
    "\n",
    "cbarT=plt.colorbar(t, ax=ax[0], pad = 0.03)\n",
    "cbarT.set_label('Potential \\nTemperature \\n(°C)',labelpad=70, y=0.5, rotation=270,fontsize=18)\n",
    "cbarS=plt.colorbar(s, ax=ax[1], pad = 0.03)\n",
    "cbarS.set_label('Absolute \\nSalinity \\n(g kg$^{-1}$)',labelpad=70, y=0.5, rotation=270,fontsize=18)\n",
    "cbarD=plt.colorbar(d, ax=ax[2], pad = 0.03)\n",
    "cbarD.set_label('Potential \\nDensity \\n(kg m$^{-3}$)',labelpad=70, y=0.5, rotation=270,fontsize=18)\n",
    "cbarO=plt.colorbar(o, ax=ax[3], pad = 0.03)\n",
    "cbarO.set_label('Oxygen \\nconcentration \\n(mmol m$^{-3}$)',labelpad=70, y=0.5, rotation=270,fontsize=18)\n",
    "cbarC=plt.colorbar(c, ax=ax[4], pad = 0.03)\n",
    "cbarC.set_label('Chlorophyll \\n(mg m$^{-3}$)',labelpad=70, y=0.5, rotation=270,fontsize=18)\n",
    "\n",
    "[a.tick_params(axis='both', which='major', labelsize=18) for a in ax]\n",
    "[a.set_ylabel('Depth (m)',fontsize=18) for a in ax]"
   ]
  },
  {
   "attachments": {},
   "cell_type": "markdown",
   "id": "b79b71f8-6f37-47b9-8a44-f81de8ea9aa7",
   "metadata": {},
   "source": [
    "## 2. Baltic inflow \n",
    "\n",
    "What are Baltic Inflows?\n",
    "\n",
    "The deep water in the Baltic Proper is renewed during specific conditions when salt water from the Kattegat flows through the Belt and the Sound and fills in turn the deep areas of the Arkona Basin, the Bornholm Basin, the Eastern Gotland Basin and the western Gotland Basin. They manifest as bottom gravity currents.\n",
    "\n",
    "The Baltic Sea is a very enclosed sea characterized by brakish waters, and salt water only enters through the narrow Danish straits. Waterer masses change in the upper layers and interlayer, but not near the bottom. The deep waters of the Baltic sea are anoxic. When large amounts of salty water from the North Sea enters the Baltic, this salty and dense oxygen-rich water can replace the anoxic deep water. Such events are called Mjor Baltic Inflows (MBI) which are a necessary phenomena as they allow oxygen to be replenished in the deepest parts of the Baltic.\n",
    "\n",
    "Detect baltic inflows in time for observation can be a challenge for onservations of Baltic inflows. The short duration of the inflows of 2–3 weeks poses a challenge to ﬁeld measurements, thus the BIs are prone to undersampling and difﬁcult to predict. Since regular monitoring cruises in the Baltic Sea are typically scheduled less frequently than once a month, the likelihood to miss or only partially resolve it is high.\n",
    "mpact\n",
    "\n",
    "In December a Baltic inflow was detected. This recent inflow brought 80 km3 new salty water into the Baltic Sea, making this event a medium size inflow. \n",
    "The last one comparable is at least 5 years ago. The inflow corresponds to 1.6 Gt (1.6 billion t) of salt. First event of that scale since VOTO observatories started. \n",
    "\n",
    "Estimated that by the beginning of February, the deep water in Bornholm Basin will be exchanged by the new \n",
    "\n",
    "https://news.err.ee/1609206383/rare-saltwater-inflow-in-baltic-sea-could-have-widespread-environmental-impactter.\n",
    "\n"
   ]
  },
  {
   "cell_type": "code",
   "execution_count": null,
   "id": "be3cb83e-3a92-4c20-984d-a67643a8b081",
   "metadata": {},
   "outputs": [],
   "source": [
    "# We want to find data from the Bornholm Basin (the first basin after the Danish straits) from early December 2023 until now\n",
    "\n",
    "name=[]\n",
    "for dataset_id, meta in ds_meta.items():\n",
    "    if meta['deployment_end']>'2023-12-01':\n",
    "        if 'Bornholm' in meta['basin']:\n",
    "            name.append(dataset_id)\n",
    "print(f'Found {len(name)} datasets in Bornholm: {name}')"
   ]
  },
  {
   "cell_type": "code",
   "execution_count": null,
   "id": "d0b6f427-6461-45e9-a278-51820671d8d7",
   "metadata": {},
   "outputs": [],
   "source": [
    "name1 = [name[5]]\n",
    "ds_nrt = utils.download_glider_dataset(name1, nrt_only=True)"
   ]
  },
  {
   "cell_type": "code",
   "execution_count": null,
   "id": "a50036c8-1236-4c66-9ee1-937083446170",
   "metadata": {},
   "outputs": [],
   "source": [
    "full_data = []\n",
    "for i in range(len(name1)):\n",
    "    full_data.append(ds_nrt[name1[i]])\n",
    "full_data = xr.concat(full_data, dim= 'time')\n",
    "\n",
    "fig, ax = plt.subplots(4,1,figsize=(20, 15), sharex=True)\n",
    "matplotlib.rcParams.update({'font.size': 18})\n",
    "time=mdates.date2num(full_data.time)\n",
    "t=ax[0].scatter( time,full_data.depth, c=full_data.temperature,s=20, cmap=cmo.thermal, vmin=np.nanpercentile(full_data.temperature, 0.5), vmax=np.nanpercentile(full_data.temperature, 99.5))\n",
    "s=ax[1].scatter( time,full_data.depth, c=full_data.salinity,s=20,cmap=cmo.haline, vmin=np.nanpercentile(full_data.salinity, 0.5), vmax=np.nanpercentile(full_data.salinity, 99.5))\n",
    "d=ax[2].scatter( time,full_data.depth, c=full_data.density, s=20, cmap=cmo.dense, vmin=np.nanpercentile(full_data.density, 0.5), vmax=np.nanpercentile(full_data.density, 99.5))\n",
    "o=ax[3].scatter( time,full_data.depth, c=full_data.oxygen_concentration,cmap=cmo.matter, s=20,vmin=np.nanpercentile(full_data.oxygen_concentration, 0.5), vmax=np.nanpercentile(full_data.oxygen_concentration, 99.5))\n",
    "\n",
    "[a.set_ylim(90,-10) for a in ax]\n",
    "[a.grid() for a in ax]\n",
    "ax[1].xaxis.reset_ticks()\n",
    "ax[1].xaxis.set_major_locator(mdates.WeekdayLocator(byweekday = 1, interval=3))\n",
    "ax[1].xaxis.set_major_formatter(mdates.DateFormatter('%Y-%m-%d'))\n",
    "\n",
    "\n",
    "cbarT=plt.colorbar(t, ax=ax[0], pad = 0.03)\n",
    "cbarT.set_label('Potential \\nTemperature \\n(°C)',labelpad=70, y=0.5, rotation=270,fontsize=18)\n",
    "cbarS=plt.colorbar(s, ax=ax[1], pad = 0.03)\n",
    "cbarS.set_label('Absolute \\nSalinity \\n(g kg$^{-1}$)',labelpad=70, y=0.5, rotation=270,fontsize=18)\n",
    "cbarD=plt.colorbar(d, ax=ax[2], pad = 0.03)\n",
    "cbarD.set_label('Potential \\nDensity \\n(kg m$^{-3}$)',labelpad=70, y=0.5, rotation=270,fontsize=18)\n",
    "cbarO=plt.colorbar(o, ax=ax[3], pad = 0.03)\n",
    "cbarO.set_label('Oxygen \\nconcentration \\n(mmol m$^{-3}$)',labelpad=70, y=0.5, rotation=270,fontsize=18)\n",
    "\n",
    "[a.tick_params(axis='both', which='major', labelsize=18) for a in ax]\n",
    "[a.set_ylabel('Depth (m)',fontsize=18) for a in ax]"
   ]
  },
  {
   "cell_type": "markdown",
   "id": "22808f3e-7e29-4257-8fa7-71ac1990b4a2",
   "metadata": {},
   "source": [
    "#### Info\n",
    "There are issues with some of the oxygen data and more info can be found here https://observations.voiceoftheocean.org/static/img/reports/Quality_Issue_1_AROD.pdf"
   ]
  },
  {
   "cell_type": "markdown",
   "id": "f02ecf79-4f5d-4a9d-ac55-b511446f60cc",
   "metadata": {},
   "source": [
    "## 3. Hans storm\n",
    "https://www.krisinformation.se/en/hazards-and-risks/disasters-and-incidents/2023/storm-hans\n",
    "\n",
    "https://www.theguardian.com/world/2023/aug/08/storm-hans-causes-havoc-in-norway-with-heaviest-rain-in-25-years-forecast\n",
    "\n",
    "https://www.su.se/department-of-geological-sciences/news/hans-is-the-perfect-storm-globalwarming-contributed-1.664948\n",
    "\n",
    "During the first week on August 2023 a strong storm hit Sweden and Norway causing big floodings and high water level in multiple areas.\n",
    "\n",
    "Is it possible to see the effect of the storm on any of the glider data?"
   ]
  },
  {
   "cell_type": "code",
   "execution_count": null,
   "id": "42bdd2e9-c522-4da7-9b33-afeec897aba9",
   "metadata": {},
   "outputs": [],
   "source": [
    "## We look for all the glider data avaialble from early July to end of August\n",
    "name=[]\n",
    "for dataset_id, meta in ds_meta.items():\n",
    "    if meta['deployment_start']>'2023-07-01':\n",
    "        if meta['deployment_start']<'2023-09-01':\n",
    "            name.append(dataset_id)\n",
    "print(f'Found {len(name)} datasets between July 1st 2023 and September 1st 2023: {name}')"
   ]
  },
  {
   "cell_type": "code",
   "execution_count": null,
   "id": "938e39ed-0e97-4581-907d-aa1c38aabe3a",
   "metadata": {
    "scrolled": true
   },
   "outputs": [],
   "source": [
    "ds_nrt = utils.download_glider_dataset(name, nrt_only=True)"
   ]
  },
  {
   "cell_type": "code",
   "execution_count": null,
   "id": "7dfbfed0-2600-4ed0-b113-15404a141d35",
   "metadata": {},
   "outputs": [],
   "source": [
    "## We want to see where the data  is from and get a bit more info summarized\n",
    "table=pd.DataFrame(columns = ['Glider','Location','Mission','Start_Date'])\n",
    "missions=name\n",
    "dic=ds_nrt\n",
    "table.Mission= range(0,len(missions))\n",
    "    \n",
    "for i in range(len(missions)): \n",
    "    d=dic[missions[i]]\n",
    "    table.loc[i, 'Glider']=f'SEA0{int(d.attrs[\"glider_serial\"])}'\n",
    "    table.loc[i,'Mission']=int(d.attrs[\"deployment_id\"])\n",
    "    table.loc[i, 'Start_Date']=d.attrs[\"deployment_start\"][:10]\n",
    "    table.loc[i,'Location']=d.attrs[\"basin\"]\n",
    "\n",
    "\n",
    "table.sort_values(by=[\"Start_Date\"], ascending=True)"
   ]
  },
  {
   "cell_type": "code",
   "execution_count": null,
   "id": "7a96db2b-6f2b-47b7-9380-ca158bddc644",
   "metadata": {},
   "outputs": [],
   "source": [
    "print(f'We have data from {len(table.Location.unique())} different sites during this period: {table.Location.unique()}')"
   ]
  },
  {
   "cell_type": "code",
   "execution_count": null,
   "id": "27da93e3-7d1c-41b2-96bb-36ab8ebf8414",
   "metadata": {},
   "outputs": [],
   "source": [
    "# We can try to plot data and see if anything is visible in any of the 4 areas"
   ]
  },
  {
   "cell_type": "code",
   "execution_count": null,
   "id": "20e22bca-bdad-4610-8175-1707d85ed36d",
   "metadata": {},
   "outputs": [],
   "source": [
    "def plot_sel_data(basin='Bornholm', date_start='2023-07-01', date_end='2023-09-01', rectangle=True,  delayed = False):\n",
    "    \n",
    "    name=[]\n",
    "    for dataset_id, meta in ds_meta.items():\n",
    "        if meta['deployment_start']>date_start:\n",
    "            if meta['deployment_start']<date_end:\n",
    "                if basin in meta['basin']:\n",
    "                    if 'SAMBA' in meta['project']:\n",
    "                        if delayed == True:\n",
    "                            name.append(f'delayed{dataset_id[3:]}')\n",
    "                        else:\n",
    "                            name.append(dataset_id)\n",
    "    \n",
    "        \n",
    "    ds_nrt = utils.download_glider_dataset(name, nrt_only=False)\n",
    "    \n",
    "    full_data = []\n",
    "    for i in range(len(name)):\n",
    "        full_data.append(ds_nrt[name[i]])\n",
    "    full_data = xr.concat(full_data, dim= 'time')\n",
    "    \n",
    "    fig, ax = plt.subplots(5,1,figsize=(20, 15), sharex=True)\n",
    "    \n",
    "    time=mdates.date2num(full_data.time)\n",
    "    t=ax[0].scatter( time,full_data.depth, c=full_data.temperature,s=20, cmap=cmo.thermal, vmin=np.nanpercentile(full_data.temperature, 0.5), vmax=np.nanpercentile(full_data.temperature, 99.5))\n",
    "    s=ax[1].scatter( time,full_data.depth, c=full_data.salinity,s=20,cmap=cmo.haline, vmin=np.nanpercentile(full_data.salinity, 0.5), vmax=np.nanpercentile(full_data.salinity, 99.5))\n",
    "    d=ax[2].scatter( time,full_data.depth, c=full_data.density, s=20, cmap=cmo.dense, vmin=np.nanpercentile(full_data.density, 0.5), vmax=np.nanpercentile(full_data.density, 99.5))\n",
    "    o=ax[3].scatter( time,full_data.depth, c=full_data.oxygen_concentration, s=20,vmin=np.nanpercentile(full_data.oxygen_concentration, 0.5), vmax=np.nanpercentile(full_data.oxygen_concentration, 99.5))\n",
    "    c=ax[4].scatter( time,full_data.depth, c=full_data.chlorophyll, s=20, cmap=cmo.algae, vmin=np.nanpercentile(full_data.chlorophyll, 0.5), vmax=np.nanpercentile(full_data.chlorophyll, 99.5))\n",
    "    \n",
    "    # Highlight storm period\n",
    "    if rectangle:\n",
    "        for a in ax: \n",
    "            rect = patches.Rectangle((int(mdates.date2num(['2023-08-07'])[0]), int(full_data.depth.max())), 5, 3, linewidth=5, edgecolor='r', facecolor='red', fill='red')\n",
    "            a.add_patch(rect) \n",
    "    \n",
    "    [a.set_ylim(int(full_data.depth.max())+5,-10) for a in ax]\n",
    "    [a.grid() for a in ax]\n",
    "\n",
    "    ax[4].xaxis.set_major_formatter(mdates.DateFormatter('%Y-%m-%d'))\n",
    "    ax[4].locator_params(axis='x', nbins=8) \n",
    "    \n",
    "    cbarT=plt.colorbar(t, ax=ax[0], pad = 0.03)\n",
    "    cbarT.set_label('Potential \\nTemperature \\n(°C)',labelpad=70, y=0.5, rotation=270,fontsize=18)\n",
    "    cbarS=plt.colorbar(s, ax=ax[1], pad = 0.03)\n",
    "    cbarS.set_label('Absolute \\nSalinity \\n(g kg$^{-1}$)',labelpad=70, y=0.5, rotation=270,fontsize=18)\n",
    "    cbarD=plt.colorbar(d, ax=ax[2], pad = 0.03)\n",
    "    cbarD.set_label('Potential \\nDensity \\n(kg m$^{-3}$)',labelpad=70, y=0.5, rotation=270,fontsize=18)\n",
    "    cbarO=plt.colorbar(o, ax=ax[3], pad = 0.03)\n",
    "    cbarO.set_label('Oxygen \\nconcentration \\n(mmol m$^{-3}$)',labelpad=70, y=0.5, rotation=270,fontsize=18)\n",
    "    cbarC=plt.colorbar(c, ax=ax[4], pad = 0.03)\n",
    "    cbarC.set_label('Chlorophyll \\n(mg m$^{-3}$)',labelpad=70, y=0.5, rotation=270,fontsize=18)\n",
    "    \n",
    "    [a.tick_params(axis='both', which='major', labelsize=18) for a in ax]\n",
    "    [a.set_ylabel('Depth (m)',fontsize=18) for a in ax]\n",
    "    \n"
   ]
  },
  {
   "cell_type": "code",
   "execution_count": null,
   "id": "f5acd839-d8a0-490a-b28d-ed21e8799af8",
   "metadata": {},
   "outputs": [],
   "source": [
    "plot_sel_data(basin='Bornholm',date_start='2023-07-01', date_end='2023-09-01',)"
   ]
  },
  {
   "cell_type": "code",
   "execution_count": null,
   "id": "9852ebe7-7645-4c58-97d5-f022b6e08e33",
   "metadata": {},
   "outputs": [],
   "source": [
    "plot_sel_data(basin='Eastern Gotland',date_start='2023-07-01', date_end='2023-09-01')"
   ]
  },
  {
   "cell_type": "code",
   "execution_count": null,
   "id": "7a336b09-ae9e-40b1-9611-e2e81d7696a2",
   "metadata": {},
   "outputs": [],
   "source": [
    "plot_sel_data(basin='Western Gotland',date_start='2023-07-01', date_end='2023-09-01')"
   ]
  },
  {
   "cell_type": "code",
   "execution_count": null,
   "id": "79f714ee-22ec-4abd-acd8-6cc31b1e2647",
   "metadata": {},
   "outputs": [],
   "source": [
    "plot_sel_data(basin='Kattegat', date_start='2023-07-01', date_end='2023-09-01')"
   ]
  },
  {
   "cell_type": "code",
   "execution_count": null,
   "id": "e4282ec3-d329-4818-9578-c754a0b30672",
   "metadata": {},
   "outputs": [],
   "source": [
    "## Temperature and salinity for Western Gotland looks weird, let#s check if we see issues in the delayed mode data as well\n",
    "plot_sel_data(basin='Western Gotland',date_start='2023-07-01', date_end='2023-09-01', delayed=True)"
   ]
  },
  {
   "cell_type": "markdown",
   "id": "2c33804e-e869-43fe-82c9-8f30ec7e6a74",
   "metadata": {},
   "source": [
    "## 4. Spring blooms"
   ]
  },
  {
   "cell_type": "code",
   "execution_count": null,
   "id": "9f0dbe1c-7e3f-4ac0-8c27-4d2ab901d691",
   "metadata": {},
   "outputs": [],
   "source": [
    "plot_sel_data(basin='Bornholm',date_start='2023-01-01', date_end='2024-01-01',rectangle=False)"
   ]
  },
  {
   "cell_type": "markdown",
   "id": "c7b72087-6b44-4b23-880c-8196288bdfe8",
   "metadata": {},
   "source": [
    "#### Info\n",
    "There are issues with some of the oxygen data and more info can be found here https://observations.voiceoftheocean.org/static/img/reports/Quality_Issue_1_AROD.pdf"
   ]
  },
  {
   "cell_type": "code",
   "execution_count": null,
   "id": "51aa6547-0601-4080-b203-881a8b0adf99",
   "metadata": {},
   "outputs": [],
   "source": [
    "plot_sel_data(basin='Eastern Gotland',date_start='2023-01-01', date_end='2024-01-01',rectangle=False)"
   ]
  },
  {
   "cell_type": "code",
   "execution_count": null,
   "id": "580a4a4f-0911-4f77-bf99-1a014d71ac0d",
   "metadata": {},
   "outputs": [],
   "source": [
    "plot_sel_data(basin='Skagerrak',date_start='2023-01-01', date_end='2024-01-01',rectangle=False)"
   ]
  },
  {
   "cell_type": "markdown",
   "id": "f7dd58d3-292a-4140-a47b-a24ce91e59ef",
   "metadata": {},
   "source": [
    "## 5. Specific data with issues"
   ]
  },
  {
   "cell_type": "code",
   "execution_count": null,
   "id": "b8ee23d6",
   "metadata": {},
   "outputs": [],
   "source": [
    "# SEA070 with pumped SeaBird CTD\n",
    "name = ['delayed_SEA070_M15', 'delayed_SEA070_M15']\n",
    "ds_delayed = utils.download_glider_dataset(name, nrt_only=False)"
   ]
  },
  {
   "cell_type": "code",
   "execution_count": null,
   "id": "5a8b12b5-2b57-442c-97c9-d445edc57533",
   "metadata": {},
   "outputs": [],
   "source": [
    "full_data = []\n",
    "for i in range(len(name)):\n",
    "    full_data.append(ds_delayed[name[i]])\n",
    "full_data = xr.concat(full_data, dim= 'time')\n",
    "\n",
    "fig, ax = plt.subplots(5,1,figsize=(20, 15), sharex=True)\n",
    "matplotlib.rcParams.update({'font.size': 18})\n",
    "time=mdates.date2num(full_data.time)\n",
    "t=ax[0].scatter( time,full_data.depth, c=full_data.temperature,s=20, cmap=cmo.thermal, vmin=np.nanpercentile(full_data.temperature, 0.5), vmax=np.nanpercentile(full_data.temperature, 99.5))\n",
    "s=ax[1].scatter( time,full_data.depth, c=full_data.salinity,s=20,cmap=cmo.haline, vmin=np.nanpercentile(full_data.salinity, 0.5), vmax=np.nanpercentile(full_data.salinity, 99.5))\n",
    "d=ax[2].scatter( time,full_data.depth, c=full_data.density, s=20, cmap=cmo.dense, vmin=np.nanpercentile(full_data.density, 0.5), vmax=np.nanpercentile(full_data.density, 99.5))\n",
    "o=ax[3].scatter( time,full_data.depth, c=full_data.oxygen_frequency, s=20,vmin=np.nanpercentile(full_data.oxygen_frequency, 0.5), vmax=np.nanpercentile(full_data.oxygen_frequency, 99.5))\n",
    "c=ax[4].scatter( time,full_data.depth, c=full_data.chlorophyll, s=20, cmap=cmo.algae, vmin=np.nanpercentile(full_data.chlorophyll, 0.5), vmax=np.nanpercentile(full_data.chlorophyll, 99.5))\n",
    "    \n",
    "[a.set_ylim(int(full_data.depth.max()+10),-10) for a in ax]\n",
    "[a.grid() for a in ax]\n",
    "ax[1].xaxis.reset_ticks()\n",
    "ax[1].xaxis.set_major_locator(mdates.WeekdayLocator(byweekday = 1, interval=3))\n",
    "ax[1].xaxis.set_major_formatter(mdates.DateFormatter('%Y-%m-%d'))\n",
    "\n",
    "\n",
    "cbarT=plt.colorbar(t, ax=ax[0], pad = 0.03)\n",
    "cbarT.set_label('Potential \\nTemperature \\n(°C)',labelpad=70, y=0.5, rotation=270,fontsize=18)\n",
    "cbarS=plt.colorbar(s, ax=ax[1], pad = 0.03)\n",
    "cbarS.set_label('Absolute \\nSalinity \\n(g kg$^{-1}$)',labelpad=70, y=0.5, rotation=270,fontsize=18)\n",
    "cbarD=plt.colorbar(d, ax=ax[2], pad = 0.03)\n",
    "cbarD.set_label('Potential \\nDensity \\n(kg m$^{-3}$)',labelpad=70, y=0.5, rotation=270,fontsize=18)\n",
    "cbarO=plt.colorbar(o, ax=ax[3], pad = 0.03)\n",
    "cbarO.set_label('Oxygen \\nconcentration \\n(mmol m$^{-3}$)',labelpad=70, y=0.5, rotation=270,fontsize=18)\n",
    "cbarC=plt.colorbar(c, ax=ax[4], pad = 0.03)\n",
    "cbarC.set_label('Chlorophyll \\n(mg m$^{-3}$)',labelpad=70, y=0.5, rotation=270,fontsize=18)\n",
    "\n",
    "[a.tick_params(axis='both', which='major', labelsize=18) for a in ax]\n",
    "[a.set_ylabel('Depth (m)',fontsize=18) for a in ax]"
   ]
  },
  {
   "cell_type": "markdown",
   "id": "0f8462f4-028e-4ea5-ace1-191a540fb809",
   "metadata": {},
   "source": [
    "## This is all raw data and many adjustments have to be applied and various issues soruces should be considered\n",
    "* Thermal hysteresis\n",
    "* Quenching corrections\n",
    "* Calibration (ex. optics dark count correction and scaling factor correction, oxygen calibration etc..)\n",
    "* Electrical spikes\n",
    "* Outliers\n",
    "* Sensor failure\n",
    "* Specific sensor issues (FLBBPC issues, FLBBCD issues, AROD and CODA issues)\n",
    "* \n"
   ]
  }
 ],
 "metadata": {
  "kernelspec": {
   "display_name": "Python [conda env:root] *",
   "language": "python",
   "name": "conda-root-py"
  },
  "language_info": {
   "codemirror_mode": {
    "name": "ipython",
    "version": 3
   },
   "file_extension": ".py",
   "mimetype": "text/x-python",
   "name": "python",
   "nbconvert_exporter": "python",
   "pygments_lexer": "ipython3",
   "version": "3.8.18"
  }
 },
 "nbformat": 4,
 "nbformat_minor": 5
}