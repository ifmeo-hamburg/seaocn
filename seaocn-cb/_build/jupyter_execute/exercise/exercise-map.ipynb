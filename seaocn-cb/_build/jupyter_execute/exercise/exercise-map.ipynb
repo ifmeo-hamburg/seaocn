{
 "cells": [
  {
   "cell_type": "markdown",
   "id": "a3068a6a-bb7e-412f-8aff-875afa0543cb",
   "metadata": {},
   "source": [
    "# Exercise 3 - Exploring map projections\n",
    "\n",
    "\n",
    "**Aim:** To create a map of data from reanalysis heat fluxes.\n",
    "\n",
    "**Data:** You will need to download files from [ICDC](https://www.cen.uni-hamburg.de/en/icdc/data/atmosphere/reanalysis-atmosphere/ncep.html).  We will be using NCEP Reanalysis heat fluxes at the ocean surface, and you will need one snapshot of sensible heat flux, latex heat flux, net shortwave and net longwave radiation flux.  \n",
    "\n",
    "**Directions:** Create an `*.ipynb` and 4 figures: once of heat flux components using `matplotlib` and one with the net heat flux, and the next two figures using `pyGMT` to plot net heat flux with two different projections.\n",
    "\n",
    "<hr>"
   ]
  },
  {
   "cell_type": "markdown",
   "id": "2019c0dd-b5e8-44cd-b840-7610db220bf5",
   "metadata": {},
   "source": [
    "## Create a notebook \n",
    "\n",
    "1. Create an `*.ipynb` containing the commands for this assignment, or copy this file.  \n",
    "    \n",
    "    ```{admonition} File naming convention\n",
    "    Name your python notebook something useful `ex<X>-<Lastname>-<slug>-seaocn.ipynb` where you replace `<X>` with the exercise number and `<slug>` with the short slug to name the topic, and `<Lastname>` with your last name.\n",
    "\n",
    "    Figures should be named something like `ex<X>fig<Y>-<Lastname>-<slug>-seaocn.png` where you replace `<X>` with the exercise number, `<Y>` with the figure number, and `<Lastname>` with your last name.\n",
    "    ```\n",
    "\n",
    "2. Import necessary packages.  \n",
    "\n",
    "\n",
    "\n",
    "    For example, `matplotlib` and `pandas` and `numpy` and `xarray`.  You may also need\n",
    "    ```{python}\n",
    "    import matplotlib.pyplot as plt\n",
    "    import pandas as pd\n",
    "    import numpy as np\n",
    "    import xarray as xr\n",
    "    from datetime import datetime\n",
    "    ```\n",
    "    If you are missing any of these packages, please refer to [Resources: Python](../resource/python).\n",
    "\n"
   ]
  },
  {
   "cell_type": "code",
   "execution_count": 1,
   "id": "0a841f3a",
   "metadata": {},
   "outputs": [],
   "source": [
    "# Your code here\n",
    "import matplotlib.pyplot as plt\n",
    "import pandas as pd\n",
    "import numpy as np\n",
    "import xarray as xr\n",
    "from datetime import datetime\n",
    "\n",
    "# Some extra colormaps\n",
    "import cmocean\n",
    "\n",
    "# Fancy but non-intuitive\n",
    "import pygmt\n",
    "\n",
    "# Cartopy\n",
    "import cartopy\n",
    "import cartopy.feature as cfeature\n",
    "import cartopy.crs as ccrs\n",
    "import cartopy.mpl.ticker as cticker\n",
    "from cartopy.mpl.ticker import LatitudeFormatter, LongitudeFormatter"
   ]
  },
  {
   "cell_type": "markdown",
   "id": "41a44db0-ccfc-4bf5-87bf-0e09b9010344",
   "metadata": {},
   "source": [
    "### Downloading data\n",
    "\n",
    "3. Download some data.  First decide what year you'd like to work with; anything from 1948 to 2023 is fine.  Then navigate to each of the 4 components of surface heat fluxes on the ICDC page [https://icdc.cen.uni-hamburg.de/thredds-int/catalog/dataicdc/reanalyses/ncep_reanalysis1/DATA/sensible_heat_flux/catalog.html](https://icdc.cen.uni-hamburg.de/thredds-int/catalog/dataicdc/reanalyses/ncep_reanalysis1/DATA/sensible_heat_flux/catalog.html).  Download **one of each file** for your chosen year.  Note that these files are about 30 mb each.\n",
    "\n",
    "\n",
    "    ```{tip}\n",
    "    Double check when you commit that these files are not getting committed to the gitlab repository.\n",
    "    ```\n",
    "\n",
    "4. Load one file.  Make a basic exploration. How big are the data?  What are the coordinates?  \n"
   ]
  },
  {
   "cell_type": "code",
   "execution_count": 2,
   "id": "91bfe6ac-d842-44fa-94c7-bfec7ccf483d",
   "metadata": {},
   "outputs": [],
   "source": [
    "# Your code here"
   ]
  },
  {
   "cell_type": "markdown",
   "id": "919bfa8f-fbe2-4d54-8d74-f34317eeeaff",
   "metadata": {},
   "source": [
    "### Using loops\n",
    "\n",
    "5. **Concatenate to build file names** To make the code easier to change, we'll recommend building the filename out of components.  This gives you the possibility later of downloading a different year and only updating part of the code.\n",
    "\n",
    "    ```{python}\n",
    "    myyear = 2001\n",
    "    filepath = 'data/' # If you have a file folder containing data\n",
    "    fpre = ['lhtfl', 'nswrs']  # Add to this all the names of the variables\n",
    "    fpost = '.sfc.gauss.' + str(myyear) + '.nc'\n",
    "    ```\n",
    "    \n",
    "    This will give us a filename once we contenate together the various pieces:\n",
    "    ```{python}\n",
    "    fname = filepath + fpre[0] + fpost\n",
    "    ```\n",
    "\n",
    "6. **Learn about loops.** Now you could load these one after another on separate lines.   Or you can use a loop.\n",
    "\n",
    "    In python, one of the basic loop types is a `for-do` loop.\n",
    "    \n",
    "    ```{seealso}\n",
    "    About for-do loops: https://www.w3schools.com/python/python_for_loops.asp\n",
    "    ```\n",
    "\n",
    "    Here, we'll use a loop that goes through a simple vector which has the length the same as the length of `fpre`.  First check what is the length of `fpre`?\n",
    "\n",
    "    ```{python}\n",
    "    print(len(fpre))\n",
    "    ```\n",
    "    It should be 4.  If it's not, then go back and edit where you define the list `fpre`.   Verify that it is indeed of type `list` by doing\n",
    "    ```{python}\n",
    "    print(type(fpre))\n",
    "    ```\n",
    "\n",
    "7. **Write a loop to build filenames** Now construct your for-do loop which builds the different variable names\n",
    "\n",
    "    ```{python}\n",
    "    for i in range(len(fpre)):\n",
    "        fname = filepath + fpre[i] + fpost\n",
    "        print(fname)\n",
    "    ```\n",
    "\n",
    "    Check that it is correctly producing the name of a file.\n",
    "\n",
    "8. **Add a line to the loop to load the data.**  If you had a single filename correctly named in the string `fname`, then you could use `xr.open_dataset(fname)`.  For example\n",
    "\n",
    "    ```{python}\n",
    "    mydata = xr.open_dataset(fname)\n",
    "    ```\n",
    "    This line needs to be inside the loop (i.e., indented to the same indentation as the line `fname = filepath...`.\n",
    "\n",
    "  \n",
    "```{note}\n",
    "After doing this, you've only actually got one data variable in `mydata`.  Do a `print(mydata)` within the loop to see how its contents change as you go through the loop.\n",
    "```"
   ]
  },
  {
   "cell_type": "code",
   "execution_count": 3,
   "id": "5736636d-c6cf-4e6d-9167-8451b9d40e1f",
   "metadata": {},
   "outputs": [],
   "source": [
    "# Your code here"
   ]
  },
  {
   "cell_type": "markdown",
   "id": "5007faaf-35c7-4d50-a4cc-65b491017fbc",
   "metadata": {},
   "source": [
    "### Loading multiple files: Using a `dictionary`\n",
    "\n",
    "Python has a variable type called a \"dictionary\" which is used to store \"key - value\" pairs.\n",
    "\n",
    "```{seealso}\n",
    "Python dictionary: https://www.w3schools.com/python/python_dictionaries.asp\n",
    "```\n",
    "\n",
    "In the simple website example in the \"seealso\", these are pairs of strings, or numbers, or arrays.  In our case here, we can create a dictionary of xarray datasets.\n",
    "\n",
    "In your code above, replace the left side of the equation where you load the dataset (i.e., where you use the command `xr.open_dataset`) with\n",
    "```{python}\n",
    "flux_components[fpre[i]] = xr.open_dataset(fname)\n",
    "```\n",
    "\n",
    "Once you have done this, you can check out the data within the dictionary using the following commands.\n",
    "\n",
    "The first one, `print(flux_components['lhtfl'].lhtfl.shape)` will tell you how big the dataset of latent heat flux is (x, y and z directions).\n",
    "\n",
    "The second looks more like an xarray dataset that you're familiar with (`print(flux_components['lhtfl']`)."
   ]
  },
  {
   "cell_type": "code",
   "execution_count": 4,
   "id": "c953b55d-5daf-4e38-bb03-f8e2a2a27848",
   "metadata": {},
   "outputs": [
    {
     "ename": "NameError",
     "evalue": "name 'flux_components' is not defined",
     "output_type": "error",
     "traceback": [
      "\u001b[0;31m---------------------------------------------------------------------------\u001b[0m",
      "\u001b[0;31mNameError\u001b[0m                                 Traceback (most recent call last)",
      "Cell \u001b[0;32mIn[4], line 2\u001b[0m\n\u001b[1;32m      1\u001b[0m \u001b[38;5;66;03m# Figure out how big the datasets are\u001b[39;00m\n\u001b[0;32m----> 2\u001b[0m \u001b[38;5;28mprint\u001b[39m(\u001b[43mflux_components\u001b[49m[\u001b[38;5;124m'\u001b[39m\u001b[38;5;124mlhtfl\u001b[39m\u001b[38;5;124m'\u001b[39m]\u001b[38;5;241m.\u001b[39mlhtfl\u001b[38;5;241m.\u001b[39mshape)\n\u001b[1;32m      3\u001b[0m \u001b[38;5;28mprint\u001b[39m(flux_components[\u001b[38;5;124m'\u001b[39m\u001b[38;5;124mlhtfl\u001b[39m\u001b[38;5;124m'\u001b[39m])\n",
      "\u001b[0;31mNameError\u001b[0m: name 'flux_components' is not defined"
     ]
    }
   ],
   "source": [
    "# Figure out how big the datasets are\n",
    "print(flux_components['lhtfl'].lhtfl.shape)\n",
    "print(flux_components['lhtfl'])"
   ]
  },
  {
   "cell_type": "markdown",
   "id": "2a3cfab9-dfad-4160-b6d1-bec7eb73ab28",
   "metadata": {},
   "source": [
    "### Merge data into a single `xarray` dataset\n",
    "\n",
    "The dictionary of xarray datasets was kind of useful, but with xarray we don't need to bother using a dictionary to store the data.  Instead, we can use the command `xr.merge` to combine the similar datatypes (same coordinates, same dimensions, but different variables: latent, sensible heat flux, and shortwave and longwave radiation).  "
   ]
  },
  {
   "cell_type": "code",
   "execution_count": null,
   "id": "d0aec638-c3da-4100-af56-14eeab71bb6d",
   "metadata": {},
   "outputs": [],
   "source": [
    "# Merge the datasets using xr.merged\n",
    "all_flux = xr.merge([\n",
    "    flux_components['lhtfl'],\n",
    "    flux_components['shtfl'],\n",
    "    flux_components['nswrs'],\n",
    "    flux_components['nlwrs']])\n",
    "print(all_flux)"
   ]
  },
  {
   "cell_type": "code",
   "execution_count": null,
   "id": "e15581c8-9b52-4797-85a1-d7f083fb21b5",
   "metadata": {},
   "outputs": [],
   "source": [
    "# Repeat this, but make an average over Jan - March\n",
    "ann_flux = all_flux.mean(dim='time', keep_attrs=True)\n",
    "print(ann_flux)\n",
    "\n",
    "#winter_flux = "
   ]
  },
  {
   "cell_type": "markdown",
   "id": "97131298-7de0-4c91-8fa6-8e14195eb926",
   "metadata": {},
   "source": [
    "### Making a seasonal  average\n",
    "\n",
    "1. Now we're going to use some of the fancier features of the xarray data construction.  We'd like to make an average over **1 January through 31 March for your chosen year**.   Since we've stored the data all in a single `xarray` dataset, we can calculate the mean with one line of code.  \n",
    "\n",
    "    An annual average would be computed as:\n",
    "    ```{python}\n",
    "    ann_flux = all_flux.mean(dim='time', keep_attrs=True)\n",
    "    ```\n",
    "\n",
    "2. What happens if you don't include the `keep_attrs=True` option?  Try deleting it and see what changes.\n",
    "\n",
    "3. How can you tell Python to only average over a certain time range, or specified months?\n",
    "\n",
    "\n",
    "```{seealso}\n",
    "- Averaging `xarray` datasets all at once. [https://docs.xarray.dev/en/stable/generated/xarray.Dataset.mean.html](https://docs.xarray.dev/en/stable/generated/xarray.Dataset.mean.html)\n",
    "```\n"
   ]
  },
  {
   "cell_type": "markdown",
   "id": "86c6edce-6ce0-4077-abbd-88f7ae2a4d79",
   "metadata": {},
   "source": [
    "## Fig. 1. Plot with `matplotlib`\n",
    "\n",
    "Now we'd like to take a look at the data for a single snapshot (a single time).  The example code below will choose the very first frame (where the time index is 0), and plot the latent heat flux.  Update the code in order to plot four fields (sensible, latent, shortwave and longwave)."
   ]
  },
  {
   "cell_type": "code",
   "execution_count": null,
   "id": "549a898d-73a9-4d7a-a45f-433e7fc29eb7",
   "metadata": {},
   "outputs": [],
   "source": [
    "# Plot the fields\n",
    "# choose the index of the snapshot to show\n",
    "itime = 0\n",
    "map1 = winter_flux.lhtfl[itime,:,:]\n",
    "\n",
    "fig, axs = plt.subplots(2,2)\n",
    "axs[0,0].contourf(data1.lon, data1.lat, map1, cmap='RdYlBu')\n",
    "axs[0,0].set_title('Latent heat flux')\n",
    "axs[0,0].set_ylabel('Latitude')\n",
    "\n",
    "# Cumbersome date time to string\n",
    "d = data1.time[itime].dt.strftime('%Y').values\n",
    "fig.suptitle('NCEP Reanalysis \\n' + d + 'winter')\n",
    "\n",
    "fig.savefig('fig1-Lastname-heatflux.png')\n"
   ]
  },
  {
   "cell_type": "markdown",
   "id": "d3664fc0-4392-4951-8c70-cfb56db45951",
   "metadata": {},
   "source": [
    "## Fig. 2 - Calculate and plot *net* wintertime heat flux\n",
    "\n",
    "Combine your four heat flux term into a single net netflux.  This is the total experienced by the ocean at a single lat/lon location.\n",
    "\n",
    "```{warning}\n",
    "Not all signs are the same!  Check the individual fields to see what the sign of the fluxes should be.\n",
    "```"
   ]
  },
  {
   "cell_type": "code",
   "execution_count": null,
   "id": "ee23c819-4685-423a-81df-3c3ca4f90a2c",
   "metadata": {},
   "outputs": [],
   "source": [
    "# Your code here\n",
    "#net_winter_flux = \n"
   ]
  },
  {
   "cell_type": "code",
   "execution_count": null,
   "id": "db7d335f-e844-490f-8e1f-808145a3e9b3",
   "metadata": {},
   "outputs": [],
   "source": [
    "## Fig. 2. Plot with `matplotlib`\n",
    "\n",
    "#fig.savefig('figf-Lastname-heatflux.png')\n"
   ]
  },
  {
   "cell_type": "markdown",
   "id": "463e564e-f273-4086-973d-94a754f6d7ab",
   "metadata": {},
   "source": [
    "## Fig 3 & 4. Using `pyGMT` \n",
    "\n",
    "PyGMT is especially good for geophysical quantities (and geophysics). However, the formatting language looks a little strange if you're used to `matplotlib`.\n",
    "\n",
    "```{seealso}\n",
    "PyGMT tutorials: [https://www.pygmt.org/latest/tutorials/index.html](https://www.pygmt.org/latest/tutorials/index.html)\n",
    "```\n",
    "\n",
    "- Projections availble: [https://www.pygmt.org/dev/projections/index.html](https://www.pygmt.org/dev/projections/index.html)\n",
    "- Colormaps available: [https://docs.generic-mapping-tools.org/6.5/reference/cpts.html](https://docs.generic-mapping-tools.org/6.5/reference/cpts.html)\n",
    "\n",
    "### Update the code below\n",
    "\n",
    "The code below should plot fields of heat flux from NCEP.\n",
    "\n",
    "- Update the code to instead plot the **single net heat flux.** We don't want to bother with making 4 figures every time, so just use your average from fig 2.\n",
    "- Experiment with a different font color or size for the primary font annotations (FONT_ANNOT_PRIMARY).\n",
    "\n",
    "    ```{seealso}\n",
    "    Various defaults that can be set: [https://docs.generic-mapping-tools.org/latest/gmt.conf.html](https://docs.generic-mapping-tools.org/latest/gmt.conf.html)\n",
    "    ```\n",
    "- Try different figure sizes.  Try varying `figsize` and `margins`.\n",
    "\n",
    "- **Important** Can you change the projection?  Note that the formatting of projection strings is strange.\n",
    "\n",
    "- For the figure 3 and figure 4, you will want to save these to the `shared_figures/` folder for a discussion on map projections.\n",
    "\n",
    "    1. Choose a subregion of the globe.  Something spanning a latitude range of no more than 30 degrees, and longitude span of your choice.  Plot the data from this region, using a projection of your choice.\n",
    "    2. Choose either (i) a different global projection or (i) a polar projection.  Plot the data from this region using a projection of your choice.\n"
   ]
  },
  {
   "cell_type": "code",
   "execution_count": null,
   "id": "9ff83a41-cae6-4f1a-94ff-744eaf0bcbe1",
   "metadata": {},
   "outputs": [],
   "source": [
    "# Some sample code.\n",
    "fig = pygmt.Figure()\n",
    "\n",
    "with pygmt.config(FONT_ANNOT_PRIMARY=\"20p,Helvetica,blue\", FONT_LABEL=\"15p,Helvetica,red\"):\n",
    "    with fig.subplot(nrows=2, ncols=2,  figsize=(\"30c\", \"22c\"), sharex=\"b\", sharey=\"l\", margins=\"1c\"):\n",
    "        for i in range(len(fpre)):\n",
    "            fname = filepath + fpre[i] + fpost\n",
    "            grid = fname + '?' + fpre[i]\n",
    "\n",
    "            \n",
    "            with fig.set_panel(panel=i):  # sets the current panel\n",
    "                fig.basemap(\n",
    "                    region=\"g\",\n",
    "                    projection=\"Cyl_stere/150/-20/?\",\n",
    "                    frame=['WSne+t'+fpre[i], \"xa90\", \"ya30\"],\n",
    "                )\n",
    "                fig.grdimage(\n",
    "                    grid=grid,\n",
    "                    cmap='no_green',\n",
    "                )\n",
    "                fig.coast(shorelines=\"1/0.5p,black\")\n",
    "                #fig.colorbar(frame=['x+l' +fpre[i], \"y+lW/m@+2@+\"])\n",
    "\n",
    "fig.show()\n",
    "fig.savefig('fig4-lastname-pygmt.png')\n"
   ]
  },
  {
   "cell_type": "code",
   "execution_count": null,
   "id": "6213379b-97c2-47e6-9bc4-6fedf332b6e9",
   "metadata": {},
   "outputs": [],
   "source": [
    "# Figure 3"
   ]
  },
  {
   "cell_type": "code",
   "execution_count": null,
   "id": "f04cc25f-bae2-4f75-88d3-33be0b485a39",
   "metadata": {},
   "outputs": [],
   "source": [
    "# Figure 4"
   ]
  }
 ],
 "metadata": {
  "kernelspec": {
   "display_name": "Python [conda env:root] *",
   "language": "python",
   "name": "conda-root-py"
  },
  "language_info": {
   "codemirror_mode": {
    "name": "ipython",
    "version": 3
   },
   "file_extension": ".py",
   "mimetype": "text/x-python",
   "name": "python",
   "nbconvert_exporter": "python",
   "pygments_lexer": "ipython3",
   "version": "3.8.18"
  }
 },
 "nbformat": 4,
 "nbformat_minor": 5
}