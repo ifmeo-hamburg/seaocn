{
 "cells": [
  {
   "cell_type": "markdown",
   "metadata": {},
   "source": [
    "# Exercise 4 - Hydro sections\n",
    "\n",
    "\n",
    "**Aim:** The aim of this exercise is to get you comfortable plotting and working with matrix (2-dimensional) data.\n",
    "\n",
    "**Learning outcomes:** At the end of this lab, you will be able to:\n",
    "\n",
    "1. Plot 2-dimensional fields with a colorbar\n",
    "   \n",
    "2. Loop through a 2-dimensional matrix to perform a calculation on each profile\n",
    "\n",
    "**Data**: work with hydrographic data from the Weddell Sea.  This is a large dataset.  First make a map of the station locations, then pick a single section to work with.\n",
    "<hr>\n"
   ]
  },
  {
   "cell_type": "markdown",
   "metadata": {},
   "source": [
    "## Handling HEX files\n",
    "\n",
    "First use the list of hex files and read them as text to parse the latitude and longitude.  This is contained in the header information.  You can run through the `*.hex` files to find lines that start with `NMEA Latitude` and `NMEA Longitude`.\n",
    "\n",
    "```\n",
    "* Sea-Bird SBE 9 Data File:\n",
    "* FileName = D:\\Data\\JR310\\Raw data\\JR310_068.hex\n",
    "* Software Version Seasave V 7.22.3\n",
    "* Temperature SN = 5043\n",
    "* Conductivity SN = 3491\n",
    "* Number of Bytes Per Scan = 37\n",
    "* Number of Voltage Words = 4\n",
    "* Number of Scans Averaged by the Deck Unit = 1\n",
    "* System UpLoad Time = Apr 09 2015 19:55:54\n",
    "* NMEA Latitude = 60 38.68 S\n",
    "* NMEA Longitude = 042 05.50 W\n",
    "* NMEA UTC (Time) = Apr 09 2015 19:55:52\n",
    "* Store Lat/Lon Data = Append to Every Scan\n",
    "** Vessel: James Clark Ross \n",
    "** Cruise: JR310 \n",
    "** Station Number:  68\n",
    "** Depth (EM122):  3711\n",
    "** PSO: EPA \n",
    "** Operator: RDP\n",
    "* System UTC = Apr 09 2015 19:55:54\n",
    "*END*\n",
    "```\n"
   ]
  },
  {
   "cell_type": "markdown",
   "metadata": {},
   "source": [
    "## Writing a function to parse header files.\n",
    "\n"
   ]
  },
  {
   "cell_type": "code",
   "execution_count": 1,
   "metadata": {},
   "outputs": [],
   "source": [
    "import xarray as xr\n",
    "def read_hex_header(file_path: str, encoding = 'latin-1') -> xr.Dataset:\n",
    "    ''' Reads a *.HEX file from Seabird into an xarray dataset. '''\n",
    "\n",
    "    # Read the file\n",
    "    with open(file_path, 'r', encoding=encoding) as file:\n",
    "        lines = file.readlines()\n",
    "\n",
    "    # Find the line with column names\n",
    "    header_line_index = next((i for i, line in enumerate(lines) if line.startswith('*END*')), None)\n",
    "\n",
    "    if header_line_index is None:\n",
    "        raise ValueError(\"Line with header end not found in the file.\")\n",
    "\n",
    "    # Extract column names\n",
    "    column_names = lines[header_line_index].strip().split()[1:]\n",
    "\n",
    "    # Extract column units\n",
    "    units = [None] + lines[header_line_index + 1].replace('[','').replace(']','').strip().split()[1:]\n",
    "\n",
    "    # Load data into pandas DataFrame\n",
    "    data_start_index = header_line_index + 3\n",
    "    data = pd.read_csv(\n",
    "        file_path,\n",
    "        skiprows=data_start_index,\n",
    "        delim_whitespace=True,\n",
    "        names=column_names,\n",
    "        parse_dates={'Timestamp': ['IntD', 'IntT']},\n",
    "        encoding=encoding,\n",
    "    )\n",
    "\n",
    "    # Convert DataFrame to xarray dataset\n",
    "    ds = xr.Dataset.from_dataframe(data.set_index('Timestamp'))\n",
    "\n",
    "    # Assign units to data fields\n",
    "    for index, name in enumerate(column_names):\n",
    "        if name in ds and units[index]:\n",
    "            ds[name].attrs['units'] = units[index]\n",
    "\n",
    "    # Rename fields\n",
    "    ds = ds.rename({\n",
    "        'SALIN': 'Salinity',\n",
    "        'Temp': 'Temperature',\n",
    "        'Cond': 'Conductivity',\n",
    "        'Press': 'Pressure',\n",
    "        'SOUND': 'SoundVelocity',\n",
    "        'SIGMA': 'Sigma',\n",
    "        'Datasets': 'Sample',\n",
    "    })\n",
    "\n",
    "    # Ensure 'Timestamp' coordinate is datetime type\n",
    "    ds['Timestamp'] = pd.to_datetime(ds['Timestamp'], errors='coerce')\n",
    "\n",
    "    return ds\n"
   ]
  },
  {
   "cell_type": "markdown",
   "metadata": {},
   "source": [
    "# Super-brief explanation of git\n",
    "\n",
    "Git is keeping track of changes to your files within the local repository (your copy of the course folder on your computer).  When you change a file in the folder, git knows.  How do you know it knows?  If you go into your Github desktop (purple icon, desktop app) and choose the repository you're working in in the dropdown menu on the left, and you have changed a file, the filename  for the file with changes will appear in a list, and to the right you can preview the changes that have been made (previous commit and current edited version).  \n",
    "\n",
    "After you've been working on a file for a while (a day, an hour, 5 minutes, etc), e.g. a piece of code in your repository on your computer, and you've made some important changes, you will want to tell git to save a snapshot of these changes.  To do this you click **commit** in Github desktop.  This will then make git store a version according to the point in time when you clicked commit.  *Advanced tip: in the commit message, you can write something useful to describe the changes, like \"added a new function to load data from a microcat\".*  So far, only your own computer knows about these changes.\n",
    "\n",
    "When you want to share these changes with your group, i.e. have these changes show up in the repository on the gitlab.rrz.uni-hamburg.de location, then you need to **push** the changes.  This is a button to the right in your Github desktop (or top right), where you click.  This will then make the changes appear in the online copy of the repository.\n",
    "\n",
    "When your group member has made changes, and you want these changes to appear in your copy of the code on your own computer, then you need to **fetch** these changes from the version on gitlab.rrz.uni-hamburg.de.  This will not overwrite any of your files.  It will simply add what they have done.\n",
    "\n",
    "**Note:** For beginner usage, I recommend that you all keep a separate copy of your python code to start with.  If you work on the same piece of code, it's possible for you to delete something and commit it to your repository (on your own computer), and for someone else to edit the same thing without deleting it and commit it on their own computer.  If you both then push these changes to the repository, or you fetch your colleagues changes from the online repository onto your computer, you will get a **conflict** which needs to be merged manually.\n",
    "\n",
    "Read more: [https://git-scm.com/book/en/v2/Getting-Started-What-is-Git%3F](https://git-scm.com/book/en/v2/Getting-Started-What-is-Git%3F)"
   ]
  },
  {
   "cell_type": "markdown",
   "metadata": {},
   "source": [
    "More advanced: It's best to work inside an environment.  This controls the version of each of the packages that you have installed, so that the code is more likely to run smoothly on another person's computer.  Some background on [conda environments](https://conda.io/projects/conda/en/latest/user-guide/tasks/manage-environments.html).\n"
   ]
  },
  {
   "cell_type": "markdown",
   "metadata": {},
   "source": [
    "# Check whether you have python installed\n",
    "\n",
    "In Mac or Linux, at the command line, type\n",
    "```\n",
    "python --version\n",
    "```\n",
    "\n",
    "For example, mine says\n",
    "```\n",
    "(base) 9:34 ~ $ python --version\n",
    "Python 3.9.5\n",
    "```"
   ]
  },
  {
   "cell_type": "markdown",
   "metadata": {},
   "source": [
    "## Using conda\n",
    "\n",
    "For Mac users, you will probably want `conda` and `pip` installed on your computer.\n",
    "\n",
    "You can get conda here: [https://conda.io/projects/conda/en/latest/user-guide/install/index.html](https://conda.io/projects/conda/en/latest/user-guide/install/index.html).  I would recommend *miniconda* (Here is the direct link for [installing miniconda](https://docs.anaconda.com/free/miniconda/miniconda-install/)).  If you already have Anaconda, that is fine too.\n",
    "\n",
    "We will also use jupyter notebooks in this course.\n",
    "\n",
    "## Installing jupyterlab\n",
    "\n",
    "You can install jupyterlab with conda\n",
    "\n",
    "    conda install -c conda-forge jupyterlab=4.0.7 notebook=7.0.6\n",
    "\n",
    "Since we recommend managing your environments, then conda (as above) is the better way to install it.  Otherwise you can use pip: [https://jupyter.org/install](https://jupyter.org/install).\n",
    "\n",
    "If you already have Anaconda, then jupyter lab comes by default [explained here](https://test-jupyter.readthedocs.io/en/latest/install.html)."
   ]
  },
  {
   "cell_type": "markdown",
   "metadata": {},
   "source": [
    "## Now, open this notebook in jupyter notebook.\n",
    "\n",
    "Please record for yourself the steps you took to get jupyter running on your computer."
   ]
  },
  {
   "cell_type": "markdown",
   "metadata": {},
   "source": [
    "## (optional) setting up an environment\n",
    "\n",
    "On a Mac, in a terminal window, you will create an environment using a specified version of python.\n",
    "\n",
    "```\n",
    "conda create --name seaocn_env python=3.8 -y\n",
    "conda activate seaocn_env\n",
    "```\n"
   ]
  },
  {
   "cell_type": "code",
   "execution_count": null,
   "metadata": {},
   "outputs": [],
   "source": []
  }
 ],
 "metadata": {
  "kernelspec": {
   "display_name": "Python [conda env:seaocn_env] *",
   "language": "python",
   "name": "conda-env-seaocn_env-py"
  },
  "language_info": {
   "codemirror_mode": {
    "name": "ipython",
    "version": 3
   },
   "file_extension": ".py",
   "mimetype": "text/x-python",
   "name": "python",
   "nbconvert_exporter": "python",
   "pygments_lexer": "ipython3",
   "version": "3.8.19"
  },
  "widgets": {
   "application/vnd.jupyter.widget-state+json": {
    "state": {},
    "version_major": 2,
    "version_minor": 0
   }
  }
 },
 "nbformat": 4,
 "nbformat_minor": 4
}