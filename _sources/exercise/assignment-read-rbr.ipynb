{
 "cells": [
  {
   "cell_type": "markdown",
   "id": "f7bfd94f-68ed-4445-9df0-e7304f614c14",
   "metadata": {},
   "source": [
    "# Load RSK data\n",
    "\n",
    "**Aim:** To see a different platform in action, collecting CTD (and other data). The example dataset chosen here also has some \"issues\", so you can also see whether you can find a way to plot the data to display the issue.\n",
    "\n",
    "<!--**Learning outcomes:** Using what you've learned so far, you will apply this knowledge to a new dataset that you haven't previously encountered.  You will be able to apply your knowledge of sensor response, ocean-knowing-measurements, and python to articulate (and quantify) a possible issue with a dataset.  You will also see an example of how data can be loaded from the internet directly into python.-->\n",
    "\n",
    "**Data:** You will work with data from [Voice of the Ocean (VOTO)](https://voiceoftheocean.org) collected in the Baltic Sea.  \n",
    "\n",
    "**Directions:** Run the python code step by step, and use it to download some data, make some starter plots, and then add some additional plots at the end yourself.\n",
    "\n",
    "<!--**Measure of success:** You will have created a python notebook, a netCDF file (*not* added to the git repository) and the 5 figures exported as `*.png` format into your folder; these will be \"commited\" and \"pushed\" to the shared repository, and viewable by everyone.  Additionally, copy your 2 best figures to the `shared_figures/` folder for discussion.  -->\n",
    "\n",
    "<hr>"
   ]
  },
  {
   "cell_type": "code",
   "execution_count": 3,
   "id": "dc4dd6cc",
   "metadata": {},
   "outputs": [
    {
     "name": "stdout",
     "output_type": "stream",
     "text": [
      "\n",
      "INSTALLED VERSIONS\n",
      "------------------\n",
      "commit: None\n",
      "python: 3.8.18 | packaged by conda-forge | (default, Oct 10 2023, 15:46:56) \n",
      "[Clang 16.0.6 ]\n",
      "python-bits: 64\n",
      "OS: Darwin\n",
      "OS-release: 23.5.0\n",
      "machine: arm64\n",
      "processor: arm\n",
      "byteorder: little\n",
      "LC_ALL: None\n",
      "LANG: en_GB.UTF-8\n",
      "LOCALE: ('en_GB', 'UTF-8')\n",
      "libhdf5: 1.14.0\n",
      "libnetcdf: 4.9.2\n",
      "\n",
      "xarray: 2023.1.0\n",
      "pandas: 1.5.3\n",
      "numpy: 1.23.5\n",
      "scipy: 1.10.1\n",
      "netCDF4: 1.6.4\n",
      "pydap: None\n",
      "h5netcdf: None\n",
      "h5py: None\n",
      "Nio: None\n",
      "zarr: None\n",
      "cftime: 1.6.3\n",
      "nc_time_axis: None\n",
      "PseudoNetCDF: None\n",
      "rasterio: 1.3.7\n",
      "cfgrib: None\n",
      "iris: None\n",
      "bottleneck: 1.3.8\n",
      "dask: 2023.5.0\n",
      "distributed: 2023.5.0\n",
      "matplotlib: 3.7.3\n",
      "cartopy: 0.21.1\n",
      "seaborn: None\n",
      "numbagg: None\n",
      "fsspec: 2023.10.0\n",
      "cupy: None\n",
      "pint: None\n",
      "sparse: None\n",
      "flox: None\n",
      "numpy_groupies: None\n",
      "setuptools: 69.2.0\n",
      "pip: 24.0\n",
      "conda: 24.3.0\n",
      "pytest: None\n",
      "mypy: None\n",
      "IPython: 8.12.2\n",
      "sphinx: 5.0.2\n"
     ]
    },
    {
     "name": "stderr",
     "output_type": "stream",
     "text": [
      "/Users/eddifying/micromamba/envs/seaocn_env/lib/python3.8/site-packages/_distutils_hack/__init__.py:26: UserWarning: Setuptools is replacing distutils.\n",
      "  warnings.warn(\"Setuptools is replacing distutils.\")\n"
     ]
    }
   ],
   "source": [
    "import matplotlib.dates as mdates\n",
    "from matplotlib import style\n",
    "import matplotlib\n",
    "import pandas as pd\n",
    "import numpy as np\n",
    "import matplotlib.pyplot as plt\n",
    "import matplotlib.patches as patches\n",
    "import datetime\n",
    "import xarray as xr\n",
    "from cmocean import cm as cmo\n",
    "from pyrsktools import RSK\n",
    "xr.show_versions()"
   ]
  },
  {
   "cell_type": "code",
   "execution_count": 5,
   "id": "3001965a-db1e-4a02-9b86-9bcbf83b5823",
   "metadata": {},
   "outputs": [],
   "source": [
    "# RSK file\n",
    "datapath   = '/Users/eddifying/Dropbox/Public/uhh-teaching/SeagoingOceanography/rbr-mc-wb2/newset/'\n",
    "rbr_file = datapath + \"/moored_record/203219_20230226_2004.rsk\" #203219_20230304_2318.rsk\n",
    "use_file = datapath + \"/moored_record/wb2_16_2020_5768.use\"\n",
    "\n",
    "ctd_path = datapath +\"ctd_casts/\"\n",
    "\n",
    "\n",
    "rbr_cal_file = datapath + \"/caldip_cast/203219_20230304_2318.rsk\"\n",
    "rbr_cal_txtfile = datapath + \"/caldip_cast/cast41_203219.txt\"\n",
    "\n",
    "units = {\"temperature\":\"[°C]\", \"conductivity\":\"[mS/cm]\", \"pressure\":\"[dbar]\", \"CT\":\"[°C]\", \"SA\":\"\"}\n",
    "names = {\"temperature\":\"Temperature\", \"conductivity\":\"Conductivity\", \"pressure\":\"Pressure\", \"CT\":\"Conservative Temperature\", \"SA\":\"Absolute Salinity\"}"
   ]
  },
  {
   "cell_type": "code",
   "execution_count": 6,
   "id": "96d9b25f-2c57-41ab-8112-d4b463f4ca91",
   "metadata": {},
   "outputs": [],
   "source": [
    "def create_ctd_cast_time(ds):\n",
    "    \"\"\"\n",
    "    Creates a new 'datetime' variable in a CTD cast dataset (ds) based on 'data_time_origin' and 'time' variables.\n",
    "\n",
    "    Args:\n",
    "        ds (xarray.Dataset): The CTD cast dataset. Must contain 'data_time_origin' and 'time' variables.\n",
    "\n",
    "    Returns:\n",
    "        xarray.Dataset: The modified CTD cast dataset with a new 'datetime' variable.\n",
    "    \"\"\"\n",
    "\n",
    "    start_time = ds.attrs[\"data_time_origin\"].astype('int32')\n",
    "    start_time_str = f\"{start_time[0]}-{start_time[1]}-{start_time[2]} {start_time[3]}:{start_time[4]}:{start_time[5]}\"\n",
    "    print(\"data_time_origin:\", start_time_str)\n",
    "    time = []\n",
    "    start_datetime = pd.to_datetime(start_time_str, format='%Y-%m-%d %H:%M:%S')\n",
    "    for i in range(len(ds.time.values[:])):\n",
    "        time.append(start_datetime + pd.Timedelta(ds.time.values[i,0]))\n",
    "\n",
    "    ds[\"datetime\"] = (\"nrows1\", time)\n",
    "\n",
    "    return ds"
   ]
  },
  {
   "cell_type": "code",
   "execution_count": 20,
   "id": "3d731fed-7fae-41b4-9522-c91505ef19fb",
   "metadata": {},
   "outputs": [
    {
     "name": "stdout",
     "output_type": "stream",
     "text": [
      "data_time_origin: 2023-3-4 20:53:15\n"
     ]
    }
   ],
   "source": [
    "# Load ship data\n",
    "cruise = \"en697\"#\"dy129\"\n",
    "cast = \"041\"\n",
    "\n",
    "ds = xr.open_dataset(ctd_path + f\"ctd_{cruise}_{cast}_24hz.nc\")\n",
    "ds = create_ctd_cast_time(ds.copy())\n",
    "\n",
    "ds = ds.set_coords('datetime')\n",
    "\n",
    "# Save to netcdf\n",
    "ds.to_netcdf(f\"ctd_{cruise}_{cast}_24hz.nc\")"
   ]
  },
  {
   "cell_type": "code",
   "execution_count": 31,
   "id": "74bd747d-fff2-4c4e-937b-7e65019b5f47",
   "metadata": {},
   "outputs": [],
   "source": [
    "# Load RBR data\n",
    "df_rbr_cal = pd.read_csv(rbr_cal_txtfile, header=None, names=[\"year\", \"month\", \"day\", \"hour\", \"temperature\", \"conductivity\", \"pressure\"], skiprows=10, delim_whitespace=True)\n",
    "df_rbr_cal['time'] = pd.to_datetime(df_rbr_cal[['year', 'month', 'day', 'hour']])\n",
    "df_rbr_cal = df_rbr_cal.set_index('time')\n",
    "df_rbr_cal = df_rbr_cal.drop(['year', 'month', 'day', 'hour'], axis=1)\n",
    "\n",
    "ds_rbr_cal = df_rbr_cal.to_xarray()\n",
    "\n",
    "# Save to netcdf\n",
    "ds_rbr_cal.to_netcdf('cast41_203219_RBR.nc')"
   ]
  },
  {
   "cell_type": "code",
   "execution_count": 36,
   "id": "fbe372d9-7625-4eae-9708-f79b89065c83",
   "metadata": {},
   "outputs": [
    {
     "name": "stderr",
     "output_type": "stream",
     "text": [
      "Ruskin profile and cast annotations will be deleted as they might conflict with the new profiles detected\n"
     ]
    },
    {
     "name": "stdout",
     "output_type": "stream",
     "text": [
      "Model:           RBRconcerto³\n",
      "Serial ID:       203219\n",
      "Sampling period: 60.0 second\n",
      "Channels:        index                 name                  unit\n",
      "                 _____     ____________________________    ________\n",
      "                 0         conductivity                    mS/cm\n",
      "                 1         temperature                     °C\n",
      "                 2         pressure                        dbar\n",
      "                 3         sea_pressure                    dbar\n",
      "                 4         salinity                        PSU\n",
      "                 5         absolute_salinity               g/kg\n",
      "                 6         potential_temperature           °C\n",
      "Wrote: ./203219_20230226_2004_profile0.csv\n"
     ]
    }
   ],
   "source": [
    "# Load deployed RBR\n",
    "#rsk = RSK(rbr_cal_file) # rbr_file rbr_cali_file\n",
    "#rsk.open()\n",
    "\n",
    "rsk = RSK(rbr_file)\n",
    "rsk.open()\n",
    "\n",
    "#rsk.dbInfo\n",
    "rsk.readdata()\n",
    "rsk.deriveseapressure()\n",
    "rsk.derivesalinity()\n",
    "rsk.deriveSA()\n",
    "rsk.derivetheta()\n",
    "#rsk.derivetemperature()\n",
    "\n",
    "rsk.computeprofiles()\n",
    "rsk.printchannels()\n",
    "\n",
    "rsk.RSK2CSV(channels = [\"pressure\", \"sea_pressure\", \"temperature\", \"potential_temperature\", \"conductivity\", \"salinity\", \"absolute_salinity\"], profiles=range(0,1))\n",
    "# Convert to pandas\n",
    "col_names = [\"time\", \"pressure\", \"sea_pressure\", \"temperature\", \"potential_temperature\", \"conductivity\", \"salinity\",\"absolute_salinity\", \"cast_direction\"]\n",
    "\n",
    "rbr_raw = pd.read_csv(\"203219_20230226_2004_profile0.csv\", names=col_names, skiprows=12) #./data/\n",
    "\n",
    "rbr_raw[\"time\"] = pd.to_datetime(rbr_raw[\"time\"])\n",
    "rbr_raw = rbr_raw.set_index(\"time\")\n",
    "rbr_raw = rbr_raw.drop(columns=[\"cast_direction\", \"potential_temperature\", \"salinity\", \"absolute_salinity\",\"sea_pressure\"], axis=1)\n",
    "\n",
    "# Convert to xarray\n",
    "ds_rbr_raw = rbr_raw.to_xarray()\n",
    "# Save to netcdf\n",
    "ds_rbr_raw.to_netcdf('rbr_203219_20230226_2004.nc')"
   ]
  },
  {
   "cell_type": "code",
   "execution_count": 49,
   "id": "c34a90fd-0240-49c6-ab23-d29e4dd9e128",
   "metadata": {},
   "outputs": [],
   "source": [
    "# Load microCAT data\n",
    "with open(use_file, \"r\") as f:\n",
    "  # Read the entire content into a string\n",
    "  data_string = f.read().splitlines()[:11]\n",
    "\n",
    "data_string\n",
    "\n",
    "use_data = np.loadtxt(use_file, skiprows=12)\n",
    "use_data[:,0]\n",
    "\n",
    "vars = [\"year\", \"month\", \"day\", \"hour\", \"temperature\", \"conductivity\", \"pressure\"]\n",
    "df_dict = {}\n",
    "for i, var in enumerate(vars):\n",
    "    df_dict[var] = use_data[:,i]\n",
    "\n",
    "cat = pd.DataFrame(df_dict)\n",
    "cat\n",
    "cat[\"time\"] = pd.to_datetime(cat[['year', 'month', 'day', \"hour\"]])\n",
    "cat = cat.set_index('time')\n",
    "cat = cat.drop(columns=[\"year\", \"month\", \"day\", \"hour\"])\n",
    "\n",
    "# Convert to xarray\n",
    "ds_cat = cat.to_xarray()\n",
    "\n",
    "# Save to netcdf\n",
    "ds_cat.to_netcdf('mcat_wb2_16_2020_5768.nc')"
   ]
  },
  {
   "cell_type": "code",
   "execution_count": null,
   "id": "5156336f-6be2-49ce-8fd4-9dbbc93baeb1",
   "metadata": {},
   "outputs": [],
   "source": []
  }
 ],
 "metadata": {
  "kernelspec": {
   "display_name": "Python [conda env:root] *",
   "language": "python",
   "name": "conda-root-py"
  },
  "language_info": {
   "codemirror_mode": {
    "name": "ipython",
    "version": 3
   },
   "file_extension": ".py",
   "mimetype": "text/x-python",
   "name": "python",
   "nbconvert_exporter": "python",
   "pygments_lexer": "ipython3",
   "version": "3.8.18"
  }
 },
 "nbformat": 4,
 "nbformat_minor": 5
}
