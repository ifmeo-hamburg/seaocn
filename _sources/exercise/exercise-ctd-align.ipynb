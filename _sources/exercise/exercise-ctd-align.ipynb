{
 "cells": [
  {
   "cell_type": "markdown",
   "id": "a3068a6a-bb7e-412f-8aff-875afa0543cb",
   "metadata": {},
   "source": [
    "# Exercise 6 - CTD Alignment\n",
    "\n",
    "\n",
    "**Aim:** To evaluate choices for aligning (and/or cell thermal mass) corrections for a CTD.\n",
    "\n",
    "**Data:**  Data are at [http://bit.ly/dynopoCTD](http://bit.ly/dynopoCTD).  You should download at least one CTD profile (`*.hex`) and its corresponding `*.xmlcon` file.\n",
    "\n",
    "**Directions:** You will need to first run the profile through SBE processing.  There is one laptop available for students, or you will need a windows machine with [SBE Data Processing](https://software.seabird.com) downloaded and installed.\n",
    "\n",
    "<hr>"
   ]
  },
  {
   "cell_type": "markdown",
   "id": "2019c0dd-b5e8-44cd-b840-7610db220bf5",
   "metadata": {},
   "source": [
    "## Create a notebook \n",
    "\n",
    "1. Create an `*.ipynb` containing the commands for this assignment, or copy this file.  \n",
    "    \n",
    "    ```{admonition} File naming convention\n",
    "    Name your python notebook something useful `ex<X>-<Lastname>-<slug>-seaocn.ipynb` where you replace `<X>` with the exercise number and `<slug>` with the short slug to name the topic, and `<Lastname>` with your last name.\n",
    "\n",
    "    Figures should be named something like `ex<X>fig<Y>-<Lastname>-<slug>-seaocn.png` where you replace `<X>` with the exercise number, `<Y>` with the figure number, and `<Lastname>` with your last name.\n",
    "    ```\n",
    "\n",
    "2. Import necessary packages.  \n",
    "\n",
    "\n",
    "\n",
    "    For example, `matplotlib` and `pandas` and `numpy` and `xarray`.  You may also need\n",
    "    ```\n",
    "    import matplotlib.pyplot as plt\n",
    "    import pandas as pd\n",
    "    import numpy as np\n",
    "    import xarray as xr\n",
    "    from datetime import datetime\n",
    "    ```\n",
    "    If you are missing any of these packages, please refer to [Resources: Python](../resource/python).\n",
    "\n"
   ]
  },
  {
   "cell_type": "code",
   "execution_count": null,
   "id": "0a841f3a",
   "metadata": {},
   "outputs": [],
   "source": [
    "# Your code here\n",
    "import matplotlib.pyplot as plt\n",
    "import pandas as pd\n",
    "import numpy as np\n",
    "import xarray as xr\n",
    "from datetime import datetime\n",
    "import gsw\n",
    "\n",
    "# Some extra colormaps\n",
    "import cmocean\n",
    "\n",
    "\n"
   ]
  },
  {
   "cell_type": "markdown",
   "id": "41a44db0-ccfc-4bf5-87bf-0e09b9010344",
   "metadata": {},
   "source": [
    "### Downloading data\n",
    "\n",
    "3. Download some data.  Get the data from [http://bit.ly/dynopoCTD](http://bit.ly/dynopoCTD).\n",
    "\n",
    "    ```{tip}\n",
    "    Double check when you commit that these files are not getting committed to the gitlab repository.\n",
    "    ```\n",
    "\n",
    "### Basic Seabird processing (data conversion)\n",
    "\n",
    "4. Run the data through SBE Data Processing \"basic\".  Steps are outlined [here](https://lernen.min.uni-hamburg.de/pluginfile.php/409849/mod_folder/content/0/2017-reference-Module4_BasicDataProcessing-seaocn.pdf?forcedownload=1).  This needs to be carried out on a Windows machine with SBE Data Processing installed.  You may also find the screenshots at the end of the lecture useful [find on the Moodle for week 7](https://lernen.min.uni-hamburg.de/mod/resource/view.php?id=186838).\n",
    "\n",
    "5. Initially, your main task is to convert the `*.hex` file into a `*.cnv` file.  Make sure to output at least pressure (dbar), temperature (deg C) and conductivity (S/m).  Primary is enough, you don't really need secondary here).  \n",
    "  \n",
    "7. You may then follow the instructions in the SBE slides to use \"Sea Plot\".  Or you can then convert the CTD data into a `*.nc` file following what we did in [Ex 2](../exercise/exercise-cnv.ipynb) and convert it first using the `seabird cnv2nc` tool.  \n",
    "\n",
    "8. Use the `gsw` toolbox to calculate salinity.  (Preferred, but optional: absolute salinity and conservative temperature.)  Then plot the CTD profiles (`ex6fig1...-seaocn.png`) and TS-diagram (`ex6fig2...-seaocn.png`)."
   ]
  },
  {
   "cell_type": "code",
   "execution_count": null,
   "id": "91bfe6ac-d842-44fa-94c7-bfec7ccf483d",
   "metadata": {},
   "outputs": [],
   "source": [
    "# Your code here"
   ]
  },
  {
   "cell_type": "markdown",
   "id": "5007faaf-35c7-4d50-a4cc-65b491017fbc",
   "metadata": {},
   "source": [
    "### Advanced CTD processing - Align\n",
    "\n",
    "7. Now you should read the instructions [here](https://lernen.min.uni-hamburg.de/pluginfile.php/409849/mod_folder/content/0/2017-reference-Module12_AdvancedDataProcessing-seaocn.pdf?forcedownload=1) from the \"Seabird University\" Advanced data processing.\n",
    "\n",
    "```{admonition}\n",
    "The **order** in which you do the processing matters.  As a general rule, you should do it in the order that it appears in the SBE Data Processing drop-down menu.  *However*, not all steps are needed.  For the exercise here, we will do steps even though they are not necessary, in order to explore their effect on the data.\n",
    "```\n",
    "\n",
    "- First: Run the \"align CTD\" process 3 times.  Advance the conductivity (C) relative to temperature by 2 scans (0.084 sec), by 4 scans (0.168 sec) and by 6 scans (0.252 sec).  Append to the name `_A2` and `_A4` and `_A6` to indicate the alignment by advancing 2, 4 and 6 scans respectively (note that we refer to scans with an associated time offset since this is a 24Hz instrument).\n",
    "\n",
    "- Convert these files into `*.nc` using `seabird cnv2nc`.\n",
    "\n",
    "- Replot the profiles, with multiple versions in the same figure (e.g., no alignment applied, and 6 scans applied, or some other combination).  Try to zoom in the plot to a region where you can see the effect of the alignment on salinity - specifically, for a large advancement of conductivity relative to temperature, you should start to see salinity spikes appearing in the data.  Call these `ex6fig3...-seaocn.png`, following the file naming convention."
   ]
  },
  {
   "cell_type": "code",
   "execution_count": 1,
   "id": "f04cc25f-bae2-4f75-88d3-33be0b485a39",
   "metadata": {},
   "outputs": [],
   "source": [
    "# Your code here."
   ]
  },
  {
   "cell_type": "markdown",
   "id": "42b5002c-759e-47b7-9e85-3a97d40a9b1a",
   "metadata": {},
   "source": [
    "### Advanced CTD processing - Cell thermal mass\n",
    "\n",
    "8. Now experiment with the cell thermal mass adjustments.\n",
    "\n",
    "- Using the unaligned CTD data, run the `Cell thermal mass` in the SBE Data Processing.  Vary the correction parameters for $\\alpha = 0.03$, $\\alpha=0.06$ and the $1/\\beta = 7$ and $1/\\beta = 14$.  To be able to distiguish the files after, append to the name `_ctm_a3b7` or `_ctm_a6b14`.\n",
    "\n",
    "- Convert these files into `*.nc` using `seabird cnv2nc`.\n",
    "\n",
    "- Replot the profiles, now creating a $\\theta-S$ diagram.  Zoom in on the diagram to find where the gap between the up- and downcast gets larger (for which values of $\\alpha$ and $1/\\beta$ does this occur?  Name your figure `ex6fig4...-seaocn.png`."
   ]
  },
  {
   "cell_type": "code",
   "execution_count": 3,
   "id": "b877f766-b8c6-44c3-bb85-a366f56f392c",
   "metadata": {},
   "outputs": [],
   "source": [
    "# Your code here"
   ]
  },
  {
   "cell_type": "code",
   "execution_count": null,
   "id": "f9306b6b-be7f-428d-993e-26f4ce7dd5a6",
   "metadata": {},
   "outputs": [],
   "source": []
  }
 ],
 "metadata": {
  "kernelspec": {
   "display_name": "Python [conda env:root] *",
   "language": "python",
   "name": "conda-root-py"
  },
  "language_info": {
   "codemirror_mode": {
    "name": "ipython",
    "version": 3
   },
   "file_extension": ".py",
   "mimetype": "text/x-python",
   "name": "python",
   "nbconvert_exporter": "python",
   "pygments_lexer": "ipython3",
   "version": "3.8.18"
  }
 },
 "nbformat": 4,
 "nbformat_minor": 5
}
